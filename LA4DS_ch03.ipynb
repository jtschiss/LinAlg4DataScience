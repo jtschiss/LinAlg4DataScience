{
 "cells": [
  {
   "cell_type": "markdown",
   "metadata": {
    "id": "SbGFWGzkd44U"
   },
   "source": [
    "# Practical Linear Algebra for Data Science\n",
    "## Mike X Cohen (sincxpress.com)\n",
    "### https://www.oreilly.com/library/view/practical-linear-algebra/9781098120603/\n",
    "\n",
    "#### Code for chapter 3"
   ]
  },
  {
   "cell_type": "code",
   "execution_count": 1,
   "metadata": {
    "id": "k_8g1MZidFJK"
   },
   "outputs": [
    {
     "name": "stderr",
     "output_type": "stream",
     "text": [
      "C:\\Users\\jtsch\\AppData\\Local\\Temp\\ipykernel_4108\\1240743689.py:6: DeprecationWarning: `set_matplotlib_formats` is deprecated since IPython 7.23, directly use `matplotlib_inline.backend_inline.set_matplotlib_formats()`\n",
      "  display.set_matplotlib_formats('svg') # print figures in svg format\n"
     ]
    }
   ],
   "source": [
    "import numpy as np\n",
    "import matplotlib.pyplot as plt\n",
    "\n",
    "# NOTE: these lines define global figure properties used for publication.\n",
    "from IPython import display\n",
    "display.set_matplotlib_formats('svg') # print figures in svg format\n",
    "plt.rcParams.update({'font.size':14}) # set global font size"
   ]
  },
  {
   "cell_type": "code",
   "execution_count": null,
   "metadata": {
    "id": "S3MfM6SZWlW1"
   },
   "outputs": [],
   "source": []
  },
  {
   "cell_type": "markdown",
   "metadata": {
    "id": "OzKK07ak0CBp"
   },
   "source": [
    "# Linear weighted combinations"
   ]
  },
  {
   "cell_type": "code",
   "execution_count": 7,
   "metadata": {
    "id": "l8E6A7Lv0CEb"
   },
   "outputs": [
    {
     "data": {
      "text/plain": [
       "array([ -7,  -4, -13])"
      ]
     },
     "execution_count": 7,
     "metadata": {},
     "output_type": "execute_result"
    }
   ],
   "source": [
    "# the scalars\n",
    "l1 = 1\n",
    "l2 = 2\n",
    "l3 = -3\n",
    "\n",
    "# the vectors\n",
    "v1 = np.array([4,5,1])\n",
    "v2 = np.array([-4,0,-4])\n",
    "v3 = np.array([1,3,2])\n",
    "\n",
    "# linear weighted combination\n",
    "l1*v1 + l2*v2 + l3*v3"
   ]
  },
  {
   "cell_type": "code",
   "execution_count": null,
   "metadata": {
    "id": "XIgW89gA0CHA"
   },
   "outputs": [],
   "source": []
  },
  {
   "cell_type": "markdown",
   "metadata": {
    "id": "8KQKiXGFe5nq"
   },
   "source": [
    "# Basis vectors and points"
   ]
  },
  {
   "cell_type": "code",
   "execution_count": 3,
   "metadata": {
    "id": "ZGmivlIBdHTr"
   },
   "outputs": [
    {
     "data": {
      "image/svg+xml": [
       "<?xml version=\"1.0\" encoding=\"utf-8\" standalone=\"no\"?>\n",
       "<!DOCTYPE svg PUBLIC \"-//W3C//DTD SVG 1.1//EN\"\n",
       "  \"http://www.w3.org/Graphics/SVG/1.1/DTD/svg11.dtd\">\n",
       "<svg xmlns:xlink=\"http://www.w3.org/1999/xlink\" width=\"374.679062pt\" height=\"367.589375pt\" viewBox=\"0 0 374.679062 367.589375\" xmlns=\"http://www.w3.org/2000/svg\" version=\"1.1\">\n",
       " <metadata>\n",
       "  <rdf:RDF xmlns:dc=\"http://purl.org/dc/elements/1.1/\" xmlns:cc=\"http://creativecommons.org/ns#\" xmlns:rdf=\"http://www.w3.org/1999/02/22-rdf-syntax-ns#\">\n",
       "   <cc:Work>\n",
       "    <dc:type rdf:resource=\"http://purl.org/dc/dcmitype/StillImage\"/>\n",
       "    <dc:date>2023-01-24T13:02:06.630509</dc:date>\n",
       "    <dc:format>image/svg+xml</dc:format>\n",
       "    <dc:creator>\n",
       "     <cc:Agent>\n",
       "      <dc:title>Matplotlib v3.5.2, https://matplotlib.org/</dc:title>\n",
       "     </cc:Agent>\n",
       "    </dc:creator>\n",
       "   </cc:Work>\n",
       "  </rdf:RDF>\n",
       " </metadata>\n",
       " <defs>\n",
       "  <style type=\"text/css\">*{stroke-linejoin: round; stroke-linecap: butt}</style>\n",
       " </defs>\n",
       " <g id=\"figure_1\">\n",
       "  <g id=\"patch_1\">\n",
       "   <path d=\"M 0 367.589375 \n",
       "L 374.679062 367.589375 \n",
       "L 374.679062 0 \n",
       "L 0 0 \n",
       "z\n",
       "\" style=\"fill: #ffffff\"/>\n",
       "  </g>\n",
       "  <g id=\"axes_1\">\n",
       "   <g id=\"patch_2\">\n",
       "    <path d=\"M 34.839062 339.84 \n",
       "L 367.479062 339.84 \n",
       "L 367.479062 7.2 \n",
       "L 34.839062 7.2 \n",
       "z\n",
       "\" style=\"fill: #ffffff\"/>\n",
       "   </g>\n",
       "   <g id=\"matplotlib.axis_1\">\n",
       "    <g id=\"xtick_1\">\n",
       "     <g id=\"line2d_1\">\n",
       "      <path d=\"M 58.599063 339.84 \n",
       "L 58.599063 7.2 \n",
       "\" clip-path=\"url(#p08c8c79380)\" style=\"fill: none; stroke-dasharray: 2.96,1.28; stroke-dashoffset: 0; stroke: #cccccc; stroke-width: 0.8\"/>\n",
       "     </g>\n",
       "     <g id=\"line2d_2\">\n",
       "      <defs>\n",
       "       <path id=\"m7ca8c06c3e\" d=\"M 0 0 \n",
       "L 0 3.5 \n",
       "\" style=\"stroke: #000000; stroke-width: 0.8\"/>\n",
       "      </defs>\n",
       "      <g>\n",
       "       <use xlink:href=\"#m7ca8c06c3e\" x=\"58.599063\" y=\"339.84\" style=\"stroke: #000000; stroke-width: 0.8\"/>\n",
       "      </g>\n",
       "     </g>\n",
       "     <g id=\"text_1\">\n",
       "      <!-- −6 -->\n",
       "      <g transform=\"translate(48.279531 357.477813)scale(0.14 -0.14)\">\n",
       "       <defs>\n",
       "        <path id=\"DejaVuSans-2212\" d=\"M 678 2272 \n",
       "L 4684 2272 \n",
       "L 4684 1741 \n",
       "L 678 1741 \n",
       "L 678 2272 \n",
       "z\n",
       "\" transform=\"scale(0.015625)\"/>\n",
       "        <path id=\"DejaVuSans-36\" d=\"M 2113 2584 \n",
       "Q 1688 2584 1439 2293 \n",
       "Q 1191 2003 1191 1497 \n",
       "Q 1191 994 1439 701 \n",
       "Q 1688 409 2113 409 \n",
       "Q 2538 409 2786 701 \n",
       "Q 3034 994 3034 1497 \n",
       "Q 3034 2003 2786 2293 \n",
       "Q 2538 2584 2113 2584 \n",
       "z\n",
       "M 3366 4563 \n",
       "L 3366 3988 \n",
       "Q 3128 4100 2886 4159 \n",
       "Q 2644 4219 2406 4219 \n",
       "Q 1781 4219 1451 3797 \n",
       "Q 1122 3375 1075 2522 \n",
       "Q 1259 2794 1537 2939 \n",
       "Q 1816 3084 2150 3084 \n",
       "Q 2853 3084 3261 2657 \n",
       "Q 3669 2231 3669 1497 \n",
       "Q 3669 778 3244 343 \n",
       "Q 2819 -91 2113 -91 \n",
       "Q 1303 -91 875 529 \n",
       "Q 447 1150 447 2328 \n",
       "Q 447 3434 972 4092 \n",
       "Q 1497 4750 2381 4750 \n",
       "Q 2619 4750 2861 4703 \n",
       "Q 3103 4656 3366 4563 \n",
       "z\n",
       "\" transform=\"scale(0.015625)\"/>\n",
       "       </defs>\n",
       "       <use xlink:href=\"#DejaVuSans-2212\"/>\n",
       "       <use xlink:href=\"#DejaVuSans-36\" x=\"83.789062\"/>\n",
       "      </g>\n",
       "     </g>\n",
       "    </g>\n",
       "    <g id=\"xtick_2\">\n",
       "     <g id=\"line2d_3\">\n",
       "      <path d=\"M 106.119063 339.84 \n",
       "L 106.119063 7.2 \n",
       "\" clip-path=\"url(#p08c8c79380)\" style=\"fill: none; stroke-dasharray: 2.96,1.28; stroke-dashoffset: 0; stroke: #cccccc; stroke-width: 0.8\"/>\n",
       "     </g>\n",
       "     <g id=\"line2d_4\">\n",
       "      <g>\n",
       "       <use xlink:href=\"#m7ca8c06c3e\" x=\"106.119063\" y=\"339.84\" style=\"stroke: #000000; stroke-width: 0.8\"/>\n",
       "      </g>\n",
       "     </g>\n",
       "     <g id=\"text_2\">\n",
       "      <!-- −4 -->\n",
       "      <g transform=\"translate(95.799531 357.477813)scale(0.14 -0.14)\">\n",
       "       <defs>\n",
       "        <path id=\"DejaVuSans-34\" d=\"M 2419 4116 \n",
       "L 825 1625 \n",
       "L 2419 1625 \n",
       "L 2419 4116 \n",
       "z\n",
       "M 2253 4666 \n",
       "L 3047 4666 \n",
       "L 3047 1625 \n",
       "L 3713 1625 \n",
       "L 3713 1100 \n",
       "L 3047 1100 \n",
       "L 3047 0 \n",
       "L 2419 0 \n",
       "L 2419 1100 \n",
       "L 313 1100 \n",
       "L 313 1709 \n",
       "L 2253 4666 \n",
       "z\n",
       "\" transform=\"scale(0.015625)\"/>\n",
       "       </defs>\n",
       "       <use xlink:href=\"#DejaVuSans-2212\"/>\n",
       "       <use xlink:href=\"#DejaVuSans-34\" x=\"83.789062\"/>\n",
       "      </g>\n",
       "     </g>\n",
       "    </g>\n",
       "    <g id=\"xtick_3\">\n",
       "     <g id=\"line2d_5\">\n",
       "      <path d=\"M 153.639063 339.84 \n",
       "L 153.639063 7.2 \n",
       "\" clip-path=\"url(#p08c8c79380)\" style=\"fill: none; stroke-dasharray: 2.96,1.28; stroke-dashoffset: 0; stroke: #cccccc; stroke-width: 0.8\"/>\n",
       "     </g>\n",
       "     <g id=\"line2d_6\">\n",
       "      <g>\n",
       "       <use xlink:href=\"#m7ca8c06c3e\" x=\"153.639063\" y=\"339.84\" style=\"stroke: #000000; stroke-width: 0.8\"/>\n",
       "      </g>\n",
       "     </g>\n",
       "     <g id=\"text_3\">\n",
       "      <!-- −2 -->\n",
       "      <g transform=\"translate(143.319531 357.477813)scale(0.14 -0.14)\">\n",
       "       <defs>\n",
       "        <path id=\"DejaVuSans-32\" d=\"M 1228 531 \n",
       "L 3431 531 \n",
       "L 3431 0 \n",
       "L 469 0 \n",
       "L 469 531 \n",
       "Q 828 903 1448 1529 \n",
       "Q 2069 2156 2228 2338 \n",
       "Q 2531 2678 2651 2914 \n",
       "Q 2772 3150 2772 3378 \n",
       "Q 2772 3750 2511 3984 \n",
       "Q 2250 4219 1831 4219 \n",
       "Q 1534 4219 1204 4116 \n",
       "Q 875 4013 500 3803 \n",
       "L 500 4441 \n",
       "Q 881 4594 1212 4672 \n",
       "Q 1544 4750 1819 4750 \n",
       "Q 2544 4750 2975 4387 \n",
       "Q 3406 4025 3406 3419 \n",
       "Q 3406 3131 3298 2873 \n",
       "Q 3191 2616 2906 2266 \n",
       "Q 2828 2175 2409 1742 \n",
       "Q 1991 1309 1228 531 \n",
       "z\n",
       "\" transform=\"scale(0.015625)\"/>\n",
       "       </defs>\n",
       "       <use xlink:href=\"#DejaVuSans-2212\"/>\n",
       "       <use xlink:href=\"#DejaVuSans-32\" x=\"83.789062\"/>\n",
       "      </g>\n",
       "     </g>\n",
       "    </g>\n",
       "    <g id=\"xtick_4\">\n",
       "     <g id=\"line2d_7\">\n",
       "      <path d=\"M 201.159063 339.84 \n",
       "L 201.159063 7.2 \n",
       "\" clip-path=\"url(#p08c8c79380)\" style=\"fill: none; stroke-dasharray: 2.96,1.28; stroke-dashoffset: 0; stroke: #cccccc; stroke-width: 0.8\"/>\n",
       "     </g>\n",
       "     <g id=\"line2d_8\">\n",
       "      <g>\n",
       "       <use xlink:href=\"#m7ca8c06c3e\" x=\"201.159063\" y=\"339.84\" style=\"stroke: #000000; stroke-width: 0.8\"/>\n",
       "      </g>\n",
       "     </g>\n",
       "     <g id=\"text_4\">\n",
       "      <!-- 0 -->\n",
       "      <g transform=\"translate(196.705312 357.477813)scale(0.14 -0.14)\">\n",
       "       <defs>\n",
       "        <path id=\"DejaVuSans-30\" d=\"M 2034 4250 \n",
       "Q 1547 4250 1301 3770 \n",
       "Q 1056 3291 1056 2328 \n",
       "Q 1056 1369 1301 889 \n",
       "Q 1547 409 2034 409 \n",
       "Q 2525 409 2770 889 \n",
       "Q 3016 1369 3016 2328 \n",
       "Q 3016 3291 2770 3770 \n",
       "Q 2525 4250 2034 4250 \n",
       "z\n",
       "M 2034 4750 \n",
       "Q 2819 4750 3233 4129 \n",
       "Q 3647 3509 3647 2328 \n",
       "Q 3647 1150 3233 529 \n",
       "Q 2819 -91 2034 -91 \n",
       "Q 1250 -91 836 529 \n",
       "Q 422 1150 422 2328 \n",
       "Q 422 3509 836 4129 \n",
       "Q 1250 4750 2034 4750 \n",
       "z\n",
       "\" transform=\"scale(0.015625)\"/>\n",
       "       </defs>\n",
       "       <use xlink:href=\"#DejaVuSans-30\"/>\n",
       "      </g>\n",
       "     </g>\n",
       "    </g>\n",
       "    <g id=\"xtick_5\">\n",
       "     <g id=\"line2d_9\">\n",
       "      <path d=\"M 248.679062 339.84 \n",
       "L 248.679062 7.2 \n",
       "\" clip-path=\"url(#p08c8c79380)\" style=\"fill: none; stroke-dasharray: 2.96,1.28; stroke-dashoffset: 0; stroke: #cccccc; stroke-width: 0.8\"/>\n",
       "     </g>\n",
       "     <g id=\"line2d_10\">\n",
       "      <g>\n",
       "       <use xlink:href=\"#m7ca8c06c3e\" x=\"248.679062\" y=\"339.84\" style=\"stroke: #000000; stroke-width: 0.8\"/>\n",
       "      </g>\n",
       "     </g>\n",
       "     <g id=\"text_5\">\n",
       "      <!-- 2 -->\n",
       "      <g transform=\"translate(244.225312 357.477813)scale(0.14 -0.14)\">\n",
       "       <use xlink:href=\"#DejaVuSans-32\"/>\n",
       "      </g>\n",
       "     </g>\n",
       "    </g>\n",
       "    <g id=\"xtick_6\">\n",
       "     <g id=\"line2d_11\">\n",
       "      <path d=\"M 296.199062 339.84 \n",
       "L 296.199062 7.2 \n",
       "\" clip-path=\"url(#p08c8c79380)\" style=\"fill: none; stroke-dasharray: 2.96,1.28; stroke-dashoffset: 0; stroke: #cccccc; stroke-width: 0.8\"/>\n",
       "     </g>\n",
       "     <g id=\"line2d_12\">\n",
       "      <g>\n",
       "       <use xlink:href=\"#m7ca8c06c3e\" x=\"296.199062\" y=\"339.84\" style=\"stroke: #000000; stroke-width: 0.8\"/>\n",
       "      </g>\n",
       "     </g>\n",
       "     <g id=\"text_6\">\n",
       "      <!-- 4 -->\n",
       "      <g transform=\"translate(291.745312 357.477813)scale(0.14 -0.14)\">\n",
       "       <use xlink:href=\"#DejaVuSans-34\"/>\n",
       "      </g>\n",
       "     </g>\n",
       "    </g>\n",
       "    <g id=\"xtick_7\">\n",
       "     <g id=\"line2d_13\">\n",
       "      <path d=\"M 343.719063 339.84 \n",
       "L 343.719063 7.2 \n",
       "\" clip-path=\"url(#p08c8c79380)\" style=\"fill: none; stroke-dasharray: 2.96,1.28; stroke-dashoffset: 0; stroke: #cccccc; stroke-width: 0.8\"/>\n",
       "     </g>\n",
       "     <g id=\"line2d_14\">\n",
       "      <g>\n",
       "       <use xlink:href=\"#m7ca8c06c3e\" x=\"343.719063\" y=\"339.84\" style=\"stroke: #000000; stroke-width: 0.8\"/>\n",
       "      </g>\n",
       "     </g>\n",
       "     <g id=\"text_7\">\n",
       "      <!-- 6 -->\n",
       "      <g transform=\"translate(339.265312 357.477813)scale(0.14 -0.14)\">\n",
       "       <use xlink:href=\"#DejaVuSans-36\"/>\n",
       "      </g>\n",
       "     </g>\n",
       "    </g>\n",
       "   </g>\n",
       "   <g id=\"matplotlib.axis_2\">\n",
       "    <g id=\"ytick_1\">\n",
       "     <g id=\"line2d_15\">\n",
       "      <path d=\"M 34.839062 316.08 \n",
       "L 367.479062 316.08 \n",
       "\" clip-path=\"url(#p08c8c79380)\" style=\"fill: none; stroke-dasharray: 2.96,1.28; stroke-dashoffset: 0; stroke: #cccccc; stroke-width: 0.8\"/>\n",
       "     </g>\n",
       "     <g id=\"line2d_16\">\n",
       "      <defs>\n",
       "       <path id=\"m846dc4d401\" d=\"M 0 0 \n",
       "L -3.5 0 \n",
       "\" style=\"stroke: #000000; stroke-width: 0.8\"/>\n",
       "      </defs>\n",
       "      <g>\n",
       "       <use xlink:href=\"#m846dc4d401\" x=\"34.839062\" y=\"316.08\" style=\"stroke: #000000; stroke-width: 0.8\"/>\n",
       "      </g>\n",
       "     </g>\n",
       "     <g id=\"text_8\">\n",
       "      <!-- −6 -->\n",
       "      <g transform=\"translate(7.2 321.398906)scale(0.14 -0.14)\">\n",
       "       <use xlink:href=\"#DejaVuSans-2212\"/>\n",
       "       <use xlink:href=\"#DejaVuSans-36\" x=\"83.789062\"/>\n",
       "      </g>\n",
       "     </g>\n",
       "    </g>\n",
       "    <g id=\"ytick_2\">\n",
       "     <g id=\"line2d_17\">\n",
       "      <path d=\"M 34.839062 268.56 \n",
       "L 367.479062 268.56 \n",
       "\" clip-path=\"url(#p08c8c79380)\" style=\"fill: none; stroke-dasharray: 2.96,1.28; stroke-dashoffset: 0; stroke: #cccccc; stroke-width: 0.8\"/>\n",
       "     </g>\n",
       "     <g id=\"line2d_18\">\n",
       "      <g>\n",
       "       <use xlink:href=\"#m846dc4d401\" x=\"34.839062\" y=\"268.56\" style=\"stroke: #000000; stroke-width: 0.8\"/>\n",
       "      </g>\n",
       "     </g>\n",
       "     <g id=\"text_9\">\n",
       "      <!-- −4 -->\n",
       "      <g transform=\"translate(7.2 273.878906)scale(0.14 -0.14)\">\n",
       "       <use xlink:href=\"#DejaVuSans-2212\"/>\n",
       "       <use xlink:href=\"#DejaVuSans-34\" x=\"83.789062\"/>\n",
       "      </g>\n",
       "     </g>\n",
       "    </g>\n",
       "    <g id=\"ytick_3\">\n",
       "     <g id=\"line2d_19\">\n",
       "      <path d=\"M 34.839062 221.04 \n",
       "L 367.479062 221.04 \n",
       "\" clip-path=\"url(#p08c8c79380)\" style=\"fill: none; stroke-dasharray: 2.96,1.28; stroke-dashoffset: 0; stroke: #cccccc; stroke-width: 0.8\"/>\n",
       "     </g>\n",
       "     <g id=\"line2d_20\">\n",
       "      <g>\n",
       "       <use xlink:href=\"#m846dc4d401\" x=\"34.839062\" y=\"221.04\" style=\"stroke: #000000; stroke-width: 0.8\"/>\n",
       "      </g>\n",
       "     </g>\n",
       "     <g id=\"text_10\">\n",
       "      <!-- −2 -->\n",
       "      <g transform=\"translate(7.2 226.358906)scale(0.14 -0.14)\">\n",
       "       <use xlink:href=\"#DejaVuSans-2212\"/>\n",
       "       <use xlink:href=\"#DejaVuSans-32\" x=\"83.789062\"/>\n",
       "      </g>\n",
       "     </g>\n",
       "    </g>\n",
       "    <g id=\"ytick_4\">\n",
       "     <g id=\"line2d_21\">\n",
       "      <path d=\"M 34.839062 173.52 \n",
       "L 367.479062 173.52 \n",
       "\" clip-path=\"url(#p08c8c79380)\" style=\"fill: none; stroke-dasharray: 2.96,1.28; stroke-dashoffset: 0; stroke: #cccccc; stroke-width: 0.8\"/>\n",
       "     </g>\n",
       "     <g id=\"line2d_22\">\n",
       "      <g>\n",
       "       <use xlink:href=\"#m846dc4d401\" x=\"34.839062\" y=\"173.52\" style=\"stroke: #000000; stroke-width: 0.8\"/>\n",
       "      </g>\n",
       "     </g>\n",
       "     <g id=\"text_11\">\n",
       "      <!-- 0 -->\n",
       "      <g transform=\"translate(18.931562 178.838906)scale(0.14 -0.14)\">\n",
       "       <use xlink:href=\"#DejaVuSans-30\"/>\n",
       "      </g>\n",
       "     </g>\n",
       "    </g>\n",
       "    <g id=\"ytick_5\">\n",
       "     <g id=\"line2d_23\">\n",
       "      <path d=\"M 34.839062 126 \n",
       "L 367.479062 126 \n",
       "\" clip-path=\"url(#p08c8c79380)\" style=\"fill: none; stroke-dasharray: 2.96,1.28; stroke-dashoffset: 0; stroke: #cccccc; stroke-width: 0.8\"/>\n",
       "     </g>\n",
       "     <g id=\"line2d_24\">\n",
       "      <g>\n",
       "       <use xlink:href=\"#m846dc4d401\" x=\"34.839062\" y=\"126\" style=\"stroke: #000000; stroke-width: 0.8\"/>\n",
       "      </g>\n",
       "     </g>\n",
       "     <g id=\"text_12\">\n",
       "      <!-- 2 -->\n",
       "      <g transform=\"translate(18.931562 131.318906)scale(0.14 -0.14)\">\n",
       "       <use xlink:href=\"#DejaVuSans-32\"/>\n",
       "      </g>\n",
       "     </g>\n",
       "    </g>\n",
       "    <g id=\"ytick_6\">\n",
       "     <g id=\"line2d_25\">\n",
       "      <path d=\"M 34.839062 78.48 \n",
       "L 367.479062 78.48 \n",
       "\" clip-path=\"url(#p08c8c79380)\" style=\"fill: none; stroke-dasharray: 2.96,1.28; stroke-dashoffset: 0; stroke: #cccccc; stroke-width: 0.8\"/>\n",
       "     </g>\n",
       "     <g id=\"line2d_26\">\n",
       "      <g>\n",
       "       <use xlink:href=\"#m846dc4d401\" x=\"34.839062\" y=\"78.48\" style=\"stroke: #000000; stroke-width: 0.8\"/>\n",
       "      </g>\n",
       "     </g>\n",
       "     <g id=\"text_13\">\n",
       "      <!-- 4 -->\n",
       "      <g transform=\"translate(18.931562 83.798906)scale(0.14 -0.14)\">\n",
       "       <use xlink:href=\"#DejaVuSans-34\"/>\n",
       "      </g>\n",
       "     </g>\n",
       "    </g>\n",
       "    <g id=\"ytick_7\">\n",
       "     <g id=\"line2d_27\">\n",
       "      <path d=\"M 34.839062 30.96 \n",
       "L 367.479062 30.96 \n",
       "\" clip-path=\"url(#p08c8c79380)\" style=\"fill: none; stroke-dasharray: 2.96,1.28; stroke-dashoffset: 0; stroke: #cccccc; stroke-width: 0.8\"/>\n",
       "     </g>\n",
       "     <g id=\"line2d_28\">\n",
       "      <g>\n",
       "       <use xlink:href=\"#m846dc4d401\" x=\"34.839062\" y=\"30.96\" style=\"stroke: #000000; stroke-width: 0.8\"/>\n",
       "      </g>\n",
       "     </g>\n",
       "     <g id=\"text_14\">\n",
       "      <!-- 6 -->\n",
       "      <g transform=\"translate(18.931562 36.278906)scale(0.14 -0.14)\">\n",
       "       <use xlink:href=\"#DejaVuSans-36\"/>\n",
       "      </g>\n",
       "     </g>\n",
       "    </g>\n",
       "   </g>\n",
       "   <g id=\"line2d_29\">\n",
       "    <defs>\n",
       "     <path id=\"m8a57634703\" d=\"M 0 5 \n",
       "C 1.326016 5 2.597899 4.473168 3.535534 3.535534 \n",
       "C 4.473168 2.597899 5 1.326016 5 0 \n",
       "C 5 -1.326016 4.473168 -2.597899 3.535534 -3.535534 \n",
       "C 2.597899 -4.473168 1.326016 -5 0 -5 \n",
       "C -1.326016 -5 -2.597899 -4.473168 -3.535534 -3.535534 \n",
       "C -4.473168 -2.597899 -5 -1.326016 -5 0 \n",
       "C -5 1.326016 -4.473168 2.597899 -3.535534 3.535534 \n",
       "C -2.597899 4.473168 -1.326016 5 0 5 \n",
       "z\n",
       "\" style=\"stroke: #000000\"/>\n",
       "    </defs>\n",
       "    <g clip-path=\"url(#p08c8c79380)\">\n",
       "     <use xlink:href=\"#m8a57634703\" x=\"272.439062\" y=\"149.76\" style=\"stroke: #000000\"/>\n",
       "    </g>\n",
       "   </g>\n",
       "   <g id=\"line2d_30\">\n",
       "    <defs>\n",
       "     <path id=\"m45724b5f27\" d=\"M -5 5 \n",
       "L 5 5 \n",
       "L 5 -5 \n",
       "L -5 -5 \n",
       "z\n",
       "\" style=\"stroke: #000000; stroke-linejoin: miter\"/>\n",
       "    </defs>\n",
       "    <g clip-path=\"url(#p08c8c79380)\">\n",
       "     <use xlink:href=\"#m45724b5f27\" x=\"58.599063\" y=\"126\" style=\"stroke: #000000; stroke-linejoin: miter\"/>\n",
       "    </g>\n",
       "   </g>\n",
       "   <g id=\"line2d_31\">\n",
       "    <path d=\"M 201.159063 173.52 \n",
       "L 201.159063 149.76 \n",
       "\" clip-path=\"url(#p08c8c79380)\" style=\"fill: none; stroke: #000000; stroke-width: 3; stroke-linecap: square\"/>\n",
       "   </g>\n",
       "   <g id=\"line2d_32\">\n",
       "    <path d=\"M 201.159063 173.52 \n",
       "L 224.919062 173.52 \n",
       "\" clip-path=\"url(#p08c8c79380)\" style=\"fill: none; stroke: #000000; stroke-width: 3; stroke-linecap: square\"/>\n",
       "   </g>\n",
       "   <g id=\"line2d_33\">\n",
       "    <path d=\"M 201.159063 173.52 \n",
       "L 272.439062 149.76 \n",
       "\" clip-path=\"url(#p08c8c79380)\" style=\"fill: none; stroke-dasharray: 11.1,4.8; stroke-dashoffset: 0; stroke: #000000; stroke-width: 3\"/>\n",
       "   </g>\n",
       "   <g id=\"line2d_34\">\n",
       "    <path d=\"M 201.159063 173.52 \n",
       "L 129.879063 149.76 \n",
       "\" clip-path=\"url(#p08c8c79380)\" style=\"fill: none; stroke-dasharray: 11.1,4.8; stroke-dashoffset: 0; stroke: #000000; stroke-width: 3\"/>\n",
       "   </g>\n",
       "   <g id=\"patch_3\">\n",
       "    <path d=\"M 34.839062 339.84 \n",
       "L 34.839062 7.2 \n",
       "\" style=\"fill: none; stroke: #000000; stroke-width: 0.8; stroke-linejoin: miter; stroke-linecap: square\"/>\n",
       "   </g>\n",
       "   <g id=\"patch_4\">\n",
       "    <path d=\"M 367.479062 339.84 \n",
       "L 367.479062 7.2 \n",
       "\" style=\"fill: none; stroke: #000000; stroke-width: 0.8; stroke-linejoin: miter; stroke-linecap: square\"/>\n",
       "   </g>\n",
       "   <g id=\"patch_5\">\n",
       "    <path d=\"M 34.839063 339.84 \n",
       "L 367.479062 339.84 \n",
       "\" style=\"fill: none; stroke: #000000; stroke-width: 0.8; stroke-linejoin: miter; stroke-linecap: square\"/>\n",
       "   </g>\n",
       "   <g id=\"patch_6\">\n",
       "    <path d=\"M 34.839063 7.2 \n",
       "L 367.479062 7.2 \n",
       "\" style=\"fill: none; stroke: #000000; stroke-width: 0.8; stroke-linejoin: miter; stroke-linecap: square\"/>\n",
       "   </g>\n",
       "   <g id=\"legend_1\">\n",
       "    <g id=\"patch_7\">\n",
       "     <path d=\"M 262.881562 100.5975 \n",
       "L 357.679062 100.5975 \n",
       "Q 360.479062 100.5975 360.479062 97.7975 \n",
       "L 360.479062 17 \n",
       "Q 360.479062 14.2 357.679062 14.2 \n",
       "L 262.881562 14.2 \n",
       "Q 260.081562 14.2 260.081562 17 \n",
       "L 260.081562 97.7975 \n",
       "Q 260.081562 100.5975 262.881562 100.5975 \n",
       "z\n",
       "\" style=\"fill: #ffffff; opacity: 0.8; stroke: #cccccc; stroke-linejoin: miter\"/>\n",
       "    </g>\n",
       "    <g id=\"line2d_35\">\n",
       "     <g>\n",
       "      <use xlink:href=\"#m8a57634703\" x=\"279.681562\" y=\"25.537813\" style=\"stroke: #000000\"/>\n",
       "     </g>\n",
       "    </g>\n",
       "    <g id=\"text_15\">\n",
       "     <!-- Point p -->\n",
       "     <g transform=\"translate(304.881562 30.437813)scale(0.14 -0.14)\">\n",
       "      <defs>\n",
       "       <path id=\"DejaVuSans-50\" d=\"M 1259 4147 \n",
       "L 1259 2394 \n",
       "L 2053 2394 \n",
       "Q 2494 2394 2734 2622 \n",
       "Q 2975 2850 2975 3272 \n",
       "Q 2975 3691 2734 3919 \n",
       "Q 2494 4147 2053 4147 \n",
       "L 1259 4147 \n",
       "z\n",
       "M 628 4666 \n",
       "L 2053 4666 \n",
       "Q 2838 4666 3239 4311 \n",
       "Q 3641 3956 3641 3272 \n",
       "Q 3641 2581 3239 2228 \n",
       "Q 2838 1875 2053 1875 \n",
       "L 1259 1875 \n",
       "L 1259 0 \n",
       "L 628 0 \n",
       "L 628 4666 \n",
       "z\n",
       "\" transform=\"scale(0.015625)\"/>\n",
       "       <path id=\"DejaVuSans-6f\" d=\"M 1959 3097 \n",
       "Q 1497 3097 1228 2736 \n",
       "Q 959 2375 959 1747 \n",
       "Q 959 1119 1226 758 \n",
       "Q 1494 397 1959 397 \n",
       "Q 2419 397 2687 759 \n",
       "Q 2956 1122 2956 1747 \n",
       "Q 2956 2369 2687 2733 \n",
       "Q 2419 3097 1959 3097 \n",
       "z\n",
       "M 1959 3584 \n",
       "Q 2709 3584 3137 3096 \n",
       "Q 3566 2609 3566 1747 \n",
       "Q 3566 888 3137 398 \n",
       "Q 2709 -91 1959 -91 \n",
       "Q 1206 -91 779 398 \n",
       "Q 353 888 353 1747 \n",
       "Q 353 2609 779 3096 \n",
       "Q 1206 3584 1959 3584 \n",
       "z\n",
       "\" transform=\"scale(0.015625)\"/>\n",
       "       <path id=\"DejaVuSans-69\" d=\"M 603 3500 \n",
       "L 1178 3500 \n",
       "L 1178 0 \n",
       "L 603 0 \n",
       "L 603 3500 \n",
       "z\n",
       "M 603 4863 \n",
       "L 1178 4863 \n",
       "L 1178 4134 \n",
       "L 603 4134 \n",
       "L 603 4863 \n",
       "z\n",
       "\" transform=\"scale(0.015625)\"/>\n",
       "       <path id=\"DejaVuSans-6e\" d=\"M 3513 2113 \n",
       "L 3513 0 \n",
       "L 2938 0 \n",
       "L 2938 2094 \n",
       "Q 2938 2591 2744 2837 \n",
       "Q 2550 3084 2163 3084 \n",
       "Q 1697 3084 1428 2787 \n",
       "Q 1159 2491 1159 1978 \n",
       "L 1159 0 \n",
       "L 581 0 \n",
       "L 581 3500 \n",
       "L 1159 3500 \n",
       "L 1159 2956 \n",
       "Q 1366 3272 1645 3428 \n",
       "Q 1925 3584 2291 3584 \n",
       "Q 2894 3584 3203 3211 \n",
       "Q 3513 2838 3513 2113 \n",
       "z\n",
       "\" transform=\"scale(0.015625)\"/>\n",
       "       <path id=\"DejaVuSans-74\" d=\"M 1172 4494 \n",
       "L 1172 3500 \n",
       "L 2356 3500 \n",
       "L 2356 3053 \n",
       "L 1172 3053 \n",
       "L 1172 1153 \n",
       "Q 1172 725 1289 603 \n",
       "Q 1406 481 1766 481 \n",
       "L 2356 481 \n",
       "L 2356 0 \n",
       "L 1766 0 \n",
       "Q 1100 0 847 248 \n",
       "Q 594 497 594 1153 \n",
       "L 594 3053 \n",
       "L 172 3053 \n",
       "L 172 3500 \n",
       "L 594 3500 \n",
       "L 594 4494 \n",
       "L 1172 4494 \n",
       "z\n",
       "\" transform=\"scale(0.015625)\"/>\n",
       "       <path id=\"DejaVuSans-20\" transform=\"scale(0.015625)\"/>\n",
       "       <path id=\"DejaVuSans-70\" d=\"M 1159 525 \n",
       "L 1159 -1331 \n",
       "L 581 -1331 \n",
       "L 581 3500 \n",
       "L 1159 3500 \n",
       "L 1159 2969 \n",
       "Q 1341 3281 1617 3432 \n",
       "Q 1894 3584 2278 3584 \n",
       "Q 2916 3584 3314 3078 \n",
       "Q 3713 2572 3713 1747 \n",
       "Q 3713 922 3314 415 \n",
       "Q 2916 -91 2278 -91 \n",
       "Q 1894 -91 1617 61 \n",
       "Q 1341 213 1159 525 \n",
       "z\n",
       "M 3116 1747 \n",
       "Q 3116 2381 2855 2742 \n",
       "Q 2594 3103 2138 3103 \n",
       "Q 1681 3103 1420 2742 \n",
       "Q 1159 2381 1159 1747 \n",
       "Q 1159 1113 1420 752 \n",
       "Q 1681 391 2138 391 \n",
       "Q 2594 391 2855 752 \n",
       "Q 3116 1113 3116 1747 \n",
       "z\n",
       "\" transform=\"scale(0.015625)\"/>\n",
       "      </defs>\n",
       "      <use xlink:href=\"#DejaVuSans-50\"/>\n",
       "      <use xlink:href=\"#DejaVuSans-6f\" x=\"56.677734\"/>\n",
       "      <use xlink:href=\"#DejaVuSans-69\" x=\"117.859375\"/>\n",
       "      <use xlink:href=\"#DejaVuSans-6e\" x=\"145.642578\"/>\n",
       "      <use xlink:href=\"#DejaVuSans-74\" x=\"209.021484\"/>\n",
       "      <use xlink:href=\"#DejaVuSans-20\" x=\"248.230469\"/>\n",
       "      <use xlink:href=\"#DejaVuSans-70\" x=\"280.017578\"/>\n",
       "     </g>\n",
       "    </g>\n",
       "    <g id=\"line2d_36\">\n",
       "     <g>\n",
       "      <use xlink:href=\"#m45724b5f27\" x=\"279.681562\" y=\"46.087188\" style=\"stroke: #000000; stroke-linejoin: miter\"/>\n",
       "     </g>\n",
       "    </g>\n",
       "    <g id=\"text_16\">\n",
       "     <!-- Point q -->\n",
       "     <g transform=\"translate(304.881562 50.987188)scale(0.14 -0.14)\">\n",
       "      <defs>\n",
       "       <path id=\"DejaVuSans-71\" d=\"M 947 1747 \n",
       "Q 947 1113 1208 752 \n",
       "Q 1469 391 1925 391 \n",
       "Q 2381 391 2643 752 \n",
       "Q 2906 1113 2906 1747 \n",
       "Q 2906 2381 2643 2742 \n",
       "Q 2381 3103 1925 3103 \n",
       "Q 1469 3103 1208 2742 \n",
       "Q 947 2381 947 1747 \n",
       "z\n",
       "M 2906 525 \n",
       "Q 2725 213 2448 61 \n",
       "Q 2172 -91 1784 -91 \n",
       "Q 1150 -91 751 415 \n",
       "Q 353 922 353 1747 \n",
       "Q 353 2572 751 3078 \n",
       "Q 1150 3584 1784 3584 \n",
       "Q 2172 3584 2448 3432 \n",
       "Q 2725 3281 2906 2969 \n",
       "L 2906 3500 \n",
       "L 3481 3500 \n",
       "L 3481 -1331 \n",
       "L 2906 -1331 \n",
       "L 2906 525 \n",
       "z\n",
       "\" transform=\"scale(0.015625)\"/>\n",
       "      </defs>\n",
       "      <use xlink:href=\"#DejaVuSans-50\"/>\n",
       "      <use xlink:href=\"#DejaVuSans-6f\" x=\"56.677734\"/>\n",
       "      <use xlink:href=\"#DejaVuSans-69\" x=\"117.859375\"/>\n",
       "      <use xlink:href=\"#DejaVuSans-6e\" x=\"145.642578\"/>\n",
       "      <use xlink:href=\"#DejaVuSans-74\" x=\"209.021484\"/>\n",
       "      <use xlink:href=\"#DejaVuSans-20\" x=\"248.230469\"/>\n",
       "      <use xlink:href=\"#DejaVuSans-71\" x=\"280.017578\"/>\n",
       "     </g>\n",
       "    </g>\n",
       "    <g id=\"line2d_37\">\n",
       "     <path d=\"M 265.681562 66.636562 \n",
       "L 279.681562 66.636562 \n",
       "L 293.681562 66.636562 \n",
       "\" style=\"fill: none; stroke: #000000; stroke-width: 3; stroke-linecap: square\"/>\n",
       "    </g>\n",
       "    <g id=\"text_17\">\n",
       "     <!-- Basis S -->\n",
       "     <g transform=\"translate(304.881562 71.536563)scale(0.14 -0.14)\">\n",
       "      <defs>\n",
       "       <path id=\"DejaVuSans-42\" d=\"M 1259 2228 \n",
       "L 1259 519 \n",
       "L 2272 519 \n",
       "Q 2781 519 3026 730 \n",
       "Q 3272 941 3272 1375 \n",
       "Q 3272 1813 3026 2020 \n",
       "Q 2781 2228 2272 2228 \n",
       "L 1259 2228 \n",
       "z\n",
       "M 1259 4147 \n",
       "L 1259 2741 \n",
       "L 2194 2741 \n",
       "Q 2656 2741 2882 2914 \n",
       "Q 3109 3088 3109 3444 \n",
       "Q 3109 3797 2882 3972 \n",
       "Q 2656 4147 2194 4147 \n",
       "L 1259 4147 \n",
       "z\n",
       "M 628 4666 \n",
       "L 2241 4666 \n",
       "Q 2963 4666 3353 4366 \n",
       "Q 3744 4066 3744 3513 \n",
       "Q 3744 3084 3544 2831 \n",
       "Q 3344 2578 2956 2516 \n",
       "Q 3422 2416 3680 2098 \n",
       "Q 3938 1781 3938 1306 \n",
       "Q 3938 681 3513 340 \n",
       "Q 3088 0 2303 0 \n",
       "L 628 0 \n",
       "L 628 4666 \n",
       "z\n",
       "\" transform=\"scale(0.015625)\"/>\n",
       "       <path id=\"DejaVuSans-61\" d=\"M 2194 1759 \n",
       "Q 1497 1759 1228 1600 \n",
       "Q 959 1441 959 1056 \n",
       "Q 959 750 1161 570 \n",
       "Q 1363 391 1709 391 \n",
       "Q 2188 391 2477 730 \n",
       "Q 2766 1069 2766 1631 \n",
       "L 2766 1759 \n",
       "L 2194 1759 \n",
       "z\n",
       "M 3341 1997 \n",
       "L 3341 0 \n",
       "L 2766 0 \n",
       "L 2766 531 \n",
       "Q 2569 213 2275 61 \n",
       "Q 1981 -91 1556 -91 \n",
       "Q 1019 -91 701 211 \n",
       "Q 384 513 384 1019 \n",
       "Q 384 1609 779 1909 \n",
       "Q 1175 2209 1959 2209 \n",
       "L 2766 2209 \n",
       "L 2766 2266 \n",
       "Q 2766 2663 2505 2880 \n",
       "Q 2244 3097 1772 3097 \n",
       "Q 1472 3097 1187 3025 \n",
       "Q 903 2953 641 2809 \n",
       "L 641 3341 \n",
       "Q 956 3463 1253 3523 \n",
       "Q 1550 3584 1831 3584 \n",
       "Q 2591 3584 2966 3190 \n",
       "Q 3341 2797 3341 1997 \n",
       "z\n",
       "\" transform=\"scale(0.015625)\"/>\n",
       "       <path id=\"DejaVuSans-73\" d=\"M 2834 3397 \n",
       "L 2834 2853 \n",
       "Q 2591 2978 2328 3040 \n",
       "Q 2066 3103 1784 3103 \n",
       "Q 1356 3103 1142 2972 \n",
       "Q 928 2841 928 2578 \n",
       "Q 928 2378 1081 2264 \n",
       "Q 1234 2150 1697 2047 \n",
       "L 1894 2003 \n",
       "Q 2506 1872 2764 1633 \n",
       "Q 3022 1394 3022 966 \n",
       "Q 3022 478 2636 193 \n",
       "Q 2250 -91 1575 -91 \n",
       "Q 1294 -91 989 -36 \n",
       "Q 684 19 347 128 \n",
       "L 347 722 \n",
       "Q 666 556 975 473 \n",
       "Q 1284 391 1588 391 \n",
       "Q 1994 391 2212 530 \n",
       "Q 2431 669 2431 922 \n",
       "Q 2431 1156 2273 1281 \n",
       "Q 2116 1406 1581 1522 \n",
       "L 1381 1569 \n",
       "Q 847 1681 609 1914 \n",
       "Q 372 2147 372 2553 \n",
       "Q 372 3047 722 3315 \n",
       "Q 1072 3584 1716 3584 \n",
       "Q 2034 3584 2315 3537 \n",
       "Q 2597 3491 2834 3397 \n",
       "z\n",
       "\" transform=\"scale(0.015625)\"/>\n",
       "       <path id=\"DejaVuSans-53\" d=\"M 3425 4513 \n",
       "L 3425 3897 \n",
       "Q 3066 4069 2747 4153 \n",
       "Q 2428 4238 2131 4238 \n",
       "Q 1616 4238 1336 4038 \n",
       "Q 1056 3838 1056 3469 \n",
       "Q 1056 3159 1242 3001 \n",
       "Q 1428 2844 1947 2747 \n",
       "L 2328 2669 \n",
       "Q 3034 2534 3370 2195 \n",
       "Q 3706 1856 3706 1288 \n",
       "Q 3706 609 3251 259 \n",
       "Q 2797 -91 1919 -91 \n",
       "Q 1588 -91 1214 -16 \n",
       "Q 841 59 441 206 \n",
       "L 441 856 \n",
       "Q 825 641 1194 531 \n",
       "Q 1563 422 1919 422 \n",
       "Q 2459 422 2753 634 \n",
       "Q 3047 847 3047 1241 \n",
       "Q 3047 1584 2836 1778 \n",
       "Q 2625 1972 2144 2069 \n",
       "L 1759 2144 \n",
       "Q 1053 2284 737 2584 \n",
       "Q 422 2884 422 3419 \n",
       "Q 422 4038 858 4394 \n",
       "Q 1294 4750 2059 4750 \n",
       "Q 2388 4750 2728 4690 \n",
       "Q 3069 4631 3425 4513 \n",
       "z\n",
       "\" transform=\"scale(0.015625)\"/>\n",
       "      </defs>\n",
       "      <use xlink:href=\"#DejaVuSans-42\"/>\n",
       "      <use xlink:href=\"#DejaVuSans-61\" x=\"68.603516\"/>\n",
       "      <use xlink:href=\"#DejaVuSans-73\" x=\"129.882812\"/>\n",
       "      <use xlink:href=\"#DejaVuSans-69\" x=\"181.982422\"/>\n",
       "      <use xlink:href=\"#DejaVuSans-73\" x=\"209.765625\"/>\n",
       "      <use xlink:href=\"#DejaVuSans-20\" x=\"261.865234\"/>\n",
       "      <use xlink:href=\"#DejaVuSans-53\" x=\"293.652344\"/>\n",
       "     </g>\n",
       "    </g>\n",
       "    <g id=\"line2d_38\">\n",
       "     <path d=\"M 265.681562 87.185937 \n",
       "L 279.681562 87.185937 \n",
       "L 293.681562 87.185937 \n",
       "\" style=\"fill: none; stroke-dasharray: 11.1,4.8; stroke-dashoffset: 0; stroke: #000000; stroke-width: 3\"/>\n",
       "    </g>\n",
       "    <g id=\"text_18\">\n",
       "     <!-- Basis T -->\n",
       "     <g transform=\"translate(304.881562 92.085938)scale(0.14 -0.14)\">\n",
       "      <defs>\n",
       "       <path id=\"DejaVuSans-54\" d=\"M -19 4666 \n",
       "L 3928 4666 \n",
       "L 3928 4134 \n",
       "L 2272 4134 \n",
       "L 2272 0 \n",
       "L 1638 0 \n",
       "L 1638 4134 \n",
       "L -19 4134 \n",
       "L -19 4666 \n",
       "z\n",
       "\" transform=\"scale(0.015625)\"/>\n",
       "      </defs>\n",
       "      <use xlink:href=\"#DejaVuSans-42\"/>\n",
       "      <use xlink:href=\"#DejaVuSans-61\" x=\"68.603516\"/>\n",
       "      <use xlink:href=\"#DejaVuSans-73\" x=\"129.882812\"/>\n",
       "      <use xlink:href=\"#DejaVuSans-69\" x=\"181.982422\"/>\n",
       "      <use xlink:href=\"#DejaVuSans-73\" x=\"209.765625\"/>\n",
       "      <use xlink:href=\"#DejaVuSans-20\" x=\"261.865234\"/>\n",
       "      <use xlink:href=\"#DejaVuSans-54\" x=\"293.652344\"/>\n",
       "     </g>\n",
       "    </g>\n",
       "   </g>\n",
       "  </g>\n",
       " </g>\n",
       " <defs>\n",
       "  <clipPath id=\"p08c8c79380\">\n",
       "   <rect x=\"34.839062\" y=\"7.2\" width=\"332.64\" height=\"332.64\"/>\n",
       "  </clipPath>\n",
       " </defs>\n",
       "</svg>\n"
      ],
      "text/plain": [
       "<Figure size 600x600 with 1 Axes>"
      ]
     },
     "metadata": {},
     "output_type": "display_data"
    }
   ],
   "source": [
    "\n",
    "# points (in Cartesian coordinates)\n",
    "p = (3,1)\n",
    "q = (-6,2)\n",
    "\n",
    "plt.figure(figsize=(6,6))\n",
    "\n",
    "# draw points\n",
    "plt.plot(p[0],p[1],'ko',markerfacecolor='k',markersize=10,label='Point p')\n",
    "plt.plot(q[0],q[1],'ks',markerfacecolor='k',markersize=10,label='Point q')\n",
    "\n",
    "# draw basis vectors\n",
    "plt.plot([0,0],[0,1],'k',linewidth=3,label='Basis S')\n",
    "plt.plot([0,1],[0,0],'k',linewidth=3)\n",
    "\n",
    "plt.plot([0,3],[0,1],'k--',linewidth=3,label='Basis T')\n",
    "plt.plot([0,-3],[0,1],'k--',linewidth=3)\n",
    "\n",
    "\n",
    "plt.axis('square')\n",
    "plt.grid(linestyle='--',color=[.8,.8,.8])\n",
    "plt.xlim([-7,7])\n",
    "plt.ylim([-7,7])\n",
    "plt.legend()\n",
    "plt.savefig('Figure_03_04.png',dpi=300)\n",
    "plt.show()"
   ]
  },
  {
   "cell_type": "code",
   "execution_count": null,
   "metadata": {
    "id": "A0lt_itadHXC"
   },
   "outputs": [],
   "source": []
  },
  {
   "cell_type": "markdown",
   "metadata": {},
   "source": [
    "## Exercise 3-1 Attempt"
   ]
  },
  {
   "cell_type": "code",
   "execution_count": 28,
   "metadata": {},
   "outputs": [
    {
     "data": {
      "text/plain": [
       "array([ 13., -34.,  -3.])"
      ]
     },
     "execution_count": 28,
     "metadata": {},
     "output_type": "execute_result"
    }
   ],
   "source": [
    "v4 = np.array([4, -6, 2])\n",
    "l4 = 5\n",
    "s = [l1, l2, l3, l4]\n",
    "v = [v1, v2, v3, v4]\n",
    "\n",
    "lwc = np.zeros(len(v1))\n",
    "\n",
    "for i, j in enumerate(v):\n",
    "    lwc += s[i]*v[i]\n",
    "    \n",
    "lwc"
   ]
  },
  {
   "cell_type": "markdown",
   "metadata": {},
   "source": [
    "## Exercise 3-2 Attempt"
   ]
  },
  {
   "cell_type": "code",
   "execution_count": null,
   "metadata": {},
   "outputs": [],
   "source": [
    "# Experimenting with different values for s and v"
   ]
  },
  {
   "cell_type": "markdown",
   "metadata": {},
   "source": [
    "## Exercise 3-3 Attempt"
   ]
  },
  {
   "cell_type": "code",
   "execution_count": 98,
   "metadata": {},
   "outputs": [
    {
     "data": {
      "image/svg+xml": [
       "<?xml version=\"1.0\" encoding=\"utf-8\" standalone=\"no\"?>\n",
       "<!DOCTYPE svg PUBLIC \"-//W3C//DTD SVG 1.1//EN\"\n",
       "  \"http://www.w3.org/Graphics/SVG/1.1/DTD/svg11.dtd\">\n",
       "<svg xmlns:xlink=\"http://www.w3.org/1999/xlink\" width=\"403.612813pt\" height=\"306.380281pt\" viewBox=\"0 0 403.612813 306.380281\" xmlns=\"http://www.w3.org/2000/svg\" version=\"1.1\">\n",
       " <metadata>\n",
       "  <rdf:RDF xmlns:dc=\"http://purl.org/dc/elements/1.1/\" xmlns:cc=\"http://creativecommons.org/ns#\" xmlns:rdf=\"http://www.w3.org/1999/02/22-rdf-syntax-ns#\">\n",
       "   <cc:Work>\n",
       "    <dc:type rdf:resource=\"http://purl.org/dc/dcmitype/StillImage\"/>\n",
       "    <dc:date>2023-01-24T13:55:18.928513</dc:date>\n",
       "    <dc:format>image/svg+xml</dc:format>\n",
       "    <dc:creator>\n",
       "     <cc:Agent>\n",
       "      <dc:title>Matplotlib v3.5.2, https://matplotlib.org/</dc:title>\n",
       "     </cc:Agent>\n",
       "    </dc:creator>\n",
       "   </cc:Work>\n",
       "  </rdf:RDF>\n",
       " </metadata>\n",
       " <defs>\n",
       "  <style type=\"text/css\">*{stroke-linejoin: round; stroke-linecap: butt}</style>\n",
       " </defs>\n",
       " <g id=\"figure_1\">\n",
       "  <g id=\"patch_1\">\n",
       "   <path d=\"M 0 306.380281 \n",
       "L 403.612813 306.380281 \n",
       "L 403.612813 0 \n",
       "L 0 0 \n",
       "z\n",
       "\" style=\"fill: #ffffff\"/>\n",
       "  </g>\n",
       "  <g id=\"axes_1\">\n",
       "   <g id=\"patch_2\">\n",
       "    <path d=\"M 34.839062 278.630906 \n",
       "L 391.959063 278.630906 \n",
       "L 391.959063 12.518906 \n",
       "L 34.839062 12.518906 \n",
       "z\n",
       "\" style=\"fill: #ffffff\"/>\n",
       "   </g>\n",
       "   <g id=\"matplotlib.axis_1\">\n",
       "    <g id=\"xtick_1\">\n",
       "     <g id=\"line2d_1\">\n",
       "      <defs>\n",
       "       <path id=\"m2ffdee70dd\" d=\"M 0 0 \n",
       "L 0 3.5 \n",
       "\" style=\"stroke: #000000; stroke-width: 0.8\"/>\n",
       "      </defs>\n",
       "      <g>\n",
       "       <use xlink:href=\"#m2ffdee70dd\" x=\"34.839063\" y=\"278.630906\" style=\"stroke: #000000; stroke-width: 0.8\"/>\n",
       "      </g>\n",
       "     </g>\n",
       "     <g id=\"text_1\">\n",
       "      <!-- −4 -->\n",
       "      <g transform=\"translate(24.519531 296.268719)scale(0.14 -0.14)\">\n",
       "       <defs>\n",
       "        <path id=\"DejaVuSans-2212\" d=\"M 678 2272 \n",
       "L 4684 2272 \n",
       "L 4684 1741 \n",
       "L 678 1741 \n",
       "L 678 2272 \n",
       "z\n",
       "\" transform=\"scale(0.015625)\"/>\n",
       "        <path id=\"DejaVuSans-34\" d=\"M 2419 4116 \n",
       "L 825 1625 \n",
       "L 2419 1625 \n",
       "L 2419 4116 \n",
       "z\n",
       "M 2253 4666 \n",
       "L 3047 4666 \n",
       "L 3047 1625 \n",
       "L 3713 1625 \n",
       "L 3713 1100 \n",
       "L 3047 1100 \n",
       "L 3047 0 \n",
       "L 2419 0 \n",
       "L 2419 1100 \n",
       "L 313 1100 \n",
       "L 313 1709 \n",
       "L 2253 4666 \n",
       "z\n",
       "\" transform=\"scale(0.015625)\"/>\n",
       "       </defs>\n",
       "       <use xlink:href=\"#DejaVuSans-2212\"/>\n",
       "       <use xlink:href=\"#DejaVuSans-34\" x=\"83.789062\"/>\n",
       "      </g>\n",
       "     </g>\n",
       "    </g>\n",
       "    <g id=\"xtick_2\">\n",
       "     <g id=\"line2d_2\">\n",
       "      <g>\n",
       "       <use xlink:href=\"#m2ffdee70dd\" x=\"79.479062\" y=\"278.630906\" style=\"stroke: #000000; stroke-width: 0.8\"/>\n",
       "      </g>\n",
       "     </g>\n",
       "     <g id=\"text_2\">\n",
       "      <!-- −3 -->\n",
       "      <g transform=\"translate(69.159531 296.268719)scale(0.14 -0.14)\">\n",
       "       <defs>\n",
       "        <path id=\"DejaVuSans-33\" d=\"M 2597 2516 \n",
       "Q 3050 2419 3304 2112 \n",
       "Q 3559 1806 3559 1356 \n",
       "Q 3559 666 3084 287 \n",
       "Q 2609 -91 1734 -91 \n",
       "Q 1441 -91 1130 -33 \n",
       "Q 819 25 488 141 \n",
       "L 488 750 \n",
       "Q 750 597 1062 519 \n",
       "Q 1375 441 1716 441 \n",
       "Q 2309 441 2620 675 \n",
       "Q 2931 909 2931 1356 \n",
       "Q 2931 1769 2642 2001 \n",
       "Q 2353 2234 1838 2234 \n",
       "L 1294 2234 \n",
       "L 1294 2753 \n",
       "L 1863 2753 \n",
       "Q 2328 2753 2575 2939 \n",
       "Q 2822 3125 2822 3475 \n",
       "Q 2822 3834 2567 4026 \n",
       "Q 2313 4219 1838 4219 \n",
       "Q 1578 4219 1281 4162 \n",
       "Q 984 4106 628 3988 \n",
       "L 628 4550 \n",
       "Q 988 4650 1302 4700 \n",
       "Q 1616 4750 1894 4750 \n",
       "Q 2613 4750 3031 4423 \n",
       "Q 3450 4097 3450 3541 \n",
       "Q 3450 3153 3228 2886 \n",
       "Q 3006 2619 2597 2516 \n",
       "z\n",
       "\" transform=\"scale(0.015625)\"/>\n",
       "       </defs>\n",
       "       <use xlink:href=\"#DejaVuSans-2212\"/>\n",
       "       <use xlink:href=\"#DejaVuSans-33\" x=\"83.789062\"/>\n",
       "      </g>\n",
       "     </g>\n",
       "    </g>\n",
       "    <g id=\"xtick_3\">\n",
       "     <g id=\"line2d_3\">\n",
       "      <g>\n",
       "       <use xlink:href=\"#m2ffdee70dd\" x=\"124.119063\" y=\"278.630906\" style=\"stroke: #000000; stroke-width: 0.8\"/>\n",
       "      </g>\n",
       "     </g>\n",
       "     <g id=\"text_3\">\n",
       "      <!-- −2 -->\n",
       "      <g transform=\"translate(113.799531 296.268719)scale(0.14 -0.14)\">\n",
       "       <defs>\n",
       "        <path id=\"DejaVuSans-32\" d=\"M 1228 531 \n",
       "L 3431 531 \n",
       "L 3431 0 \n",
       "L 469 0 \n",
       "L 469 531 \n",
       "Q 828 903 1448 1529 \n",
       "Q 2069 2156 2228 2338 \n",
       "Q 2531 2678 2651 2914 \n",
       "Q 2772 3150 2772 3378 \n",
       "Q 2772 3750 2511 3984 \n",
       "Q 2250 4219 1831 4219 \n",
       "Q 1534 4219 1204 4116 \n",
       "Q 875 4013 500 3803 \n",
       "L 500 4441 \n",
       "Q 881 4594 1212 4672 \n",
       "Q 1544 4750 1819 4750 \n",
       "Q 2544 4750 2975 4387 \n",
       "Q 3406 4025 3406 3419 \n",
       "Q 3406 3131 3298 2873 \n",
       "Q 3191 2616 2906 2266 \n",
       "Q 2828 2175 2409 1742 \n",
       "Q 1991 1309 1228 531 \n",
       "z\n",
       "\" transform=\"scale(0.015625)\"/>\n",
       "       </defs>\n",
       "       <use xlink:href=\"#DejaVuSans-2212\"/>\n",
       "       <use xlink:href=\"#DejaVuSans-32\" x=\"83.789062\"/>\n",
       "      </g>\n",
       "     </g>\n",
       "    </g>\n",
       "    <g id=\"xtick_4\">\n",
       "     <g id=\"line2d_4\">\n",
       "      <g>\n",
       "       <use xlink:href=\"#m2ffdee70dd\" x=\"168.759063\" y=\"278.630906\" style=\"stroke: #000000; stroke-width: 0.8\"/>\n",
       "      </g>\n",
       "     </g>\n",
       "     <g id=\"text_4\">\n",
       "      <!-- −1 -->\n",
       "      <g transform=\"translate(158.439531 296.268719)scale(0.14 -0.14)\">\n",
       "       <defs>\n",
       "        <path id=\"DejaVuSans-31\" d=\"M 794 531 \n",
       "L 1825 531 \n",
       "L 1825 4091 \n",
       "L 703 3866 \n",
       "L 703 4441 \n",
       "L 1819 4666 \n",
       "L 2450 4666 \n",
       "L 2450 531 \n",
       "L 3481 531 \n",
       "L 3481 0 \n",
       "L 794 0 \n",
       "L 794 531 \n",
       "z\n",
       "\" transform=\"scale(0.015625)\"/>\n",
       "       </defs>\n",
       "       <use xlink:href=\"#DejaVuSans-2212\"/>\n",
       "       <use xlink:href=\"#DejaVuSans-31\" x=\"83.789062\"/>\n",
       "      </g>\n",
       "     </g>\n",
       "    </g>\n",
       "    <g id=\"xtick_5\">\n",
       "     <g id=\"line2d_5\">\n",
       "      <g>\n",
       "       <use xlink:href=\"#m2ffdee70dd\" x=\"213.399063\" y=\"278.630906\" style=\"stroke: #000000; stroke-width: 0.8\"/>\n",
       "      </g>\n",
       "     </g>\n",
       "     <g id=\"text_5\">\n",
       "      <!-- 0 -->\n",
       "      <g transform=\"translate(208.945312 296.268719)scale(0.14 -0.14)\">\n",
       "       <defs>\n",
       "        <path id=\"DejaVuSans-30\" d=\"M 2034 4250 \n",
       "Q 1547 4250 1301 3770 \n",
       "Q 1056 3291 1056 2328 \n",
       "Q 1056 1369 1301 889 \n",
       "Q 1547 409 2034 409 \n",
       "Q 2525 409 2770 889 \n",
       "Q 3016 1369 3016 2328 \n",
       "Q 3016 3291 2770 3770 \n",
       "Q 2525 4250 2034 4250 \n",
       "z\n",
       "M 2034 4750 \n",
       "Q 2819 4750 3233 4129 \n",
       "Q 3647 3509 3647 2328 \n",
       "Q 3647 1150 3233 529 \n",
       "Q 2819 -91 2034 -91 \n",
       "Q 1250 -91 836 529 \n",
       "Q 422 1150 422 2328 \n",
       "Q 422 3509 836 4129 \n",
       "Q 1250 4750 2034 4750 \n",
       "z\n",
       "\" transform=\"scale(0.015625)\"/>\n",
       "       </defs>\n",
       "       <use xlink:href=\"#DejaVuSans-30\"/>\n",
       "      </g>\n",
       "     </g>\n",
       "    </g>\n",
       "    <g id=\"xtick_6\">\n",
       "     <g id=\"line2d_6\">\n",
       "      <g>\n",
       "       <use xlink:href=\"#m2ffdee70dd\" x=\"258.039062\" y=\"278.630906\" style=\"stroke: #000000; stroke-width: 0.8\"/>\n",
       "      </g>\n",
       "     </g>\n",
       "     <g id=\"text_6\">\n",
       "      <!-- 1 -->\n",
       "      <g transform=\"translate(253.585312 296.268719)scale(0.14 -0.14)\">\n",
       "       <use xlink:href=\"#DejaVuSans-31\"/>\n",
       "      </g>\n",
       "     </g>\n",
       "    </g>\n",
       "    <g id=\"xtick_7\">\n",
       "     <g id=\"line2d_7\">\n",
       "      <g>\n",
       "       <use xlink:href=\"#m2ffdee70dd\" x=\"302.679062\" y=\"278.630906\" style=\"stroke: #000000; stroke-width: 0.8\"/>\n",
       "      </g>\n",
       "     </g>\n",
       "     <g id=\"text_7\">\n",
       "      <!-- 2 -->\n",
       "      <g transform=\"translate(298.225312 296.268719)scale(0.14 -0.14)\">\n",
       "       <use xlink:href=\"#DejaVuSans-32\"/>\n",
       "      </g>\n",
       "     </g>\n",
       "    </g>\n",
       "    <g id=\"xtick_8\">\n",
       "     <g id=\"line2d_8\">\n",
       "      <g>\n",
       "       <use xlink:href=\"#m2ffdee70dd\" x=\"347.319063\" y=\"278.630906\" style=\"stroke: #000000; stroke-width: 0.8\"/>\n",
       "      </g>\n",
       "     </g>\n",
       "     <g id=\"text_8\">\n",
       "      <!-- 3 -->\n",
       "      <g transform=\"translate(342.865313 296.268719)scale(0.14 -0.14)\">\n",
       "       <use xlink:href=\"#DejaVuSans-33\"/>\n",
       "      </g>\n",
       "     </g>\n",
       "    </g>\n",
       "    <g id=\"xtick_9\">\n",
       "     <g id=\"line2d_9\">\n",
       "      <g>\n",
       "       <use xlink:href=\"#m2ffdee70dd\" x=\"391.959063\" y=\"278.630906\" style=\"stroke: #000000; stroke-width: 0.8\"/>\n",
       "      </g>\n",
       "     </g>\n",
       "     <g id=\"text_9\">\n",
       "      <!-- 4 -->\n",
       "      <g transform=\"translate(387.505313 296.268719)scale(0.14 -0.14)\">\n",
       "       <use xlink:href=\"#DejaVuSans-34\"/>\n",
       "      </g>\n",
       "     </g>\n",
       "    </g>\n",
       "   </g>\n",
       "   <g id=\"matplotlib.axis_2\">\n",
       "    <g id=\"ytick_1\">\n",
       "     <g id=\"line2d_10\">\n",
       "      <defs>\n",
       "       <path id=\"m637b105042\" d=\"M 0 0 \n",
       "L -3.5 0 \n",
       "\" style=\"stroke: #000000; stroke-width: 0.8\"/>\n",
       "      </defs>\n",
       "      <g>\n",
       "       <use xlink:href=\"#m637b105042\" x=\"34.839062\" y=\"278.630906\" style=\"stroke: #000000; stroke-width: 0.8\"/>\n",
       "      </g>\n",
       "     </g>\n",
       "     <g id=\"text_10\">\n",
       "      <!-- −4 -->\n",
       "      <g transform=\"translate(7.2 283.949812)scale(0.14 -0.14)\">\n",
       "       <use xlink:href=\"#DejaVuSans-2212\"/>\n",
       "       <use xlink:href=\"#DejaVuSans-34\" x=\"83.789062\"/>\n",
       "      </g>\n",
       "     </g>\n",
       "    </g>\n",
       "    <g id=\"ytick_2\">\n",
       "     <g id=\"line2d_11\">\n",
       "      <g>\n",
       "       <use xlink:href=\"#m637b105042\" x=\"34.839062\" y=\"245.366906\" style=\"stroke: #000000; stroke-width: 0.8\"/>\n",
       "      </g>\n",
       "     </g>\n",
       "     <g id=\"text_11\">\n",
       "      <!-- −3 -->\n",
       "      <g transform=\"translate(7.2 250.685812)scale(0.14 -0.14)\">\n",
       "       <use xlink:href=\"#DejaVuSans-2212\"/>\n",
       "       <use xlink:href=\"#DejaVuSans-33\" x=\"83.789062\"/>\n",
       "      </g>\n",
       "     </g>\n",
       "    </g>\n",
       "    <g id=\"ytick_3\">\n",
       "     <g id=\"line2d_12\">\n",
       "      <g>\n",
       "       <use xlink:href=\"#m637b105042\" x=\"34.839062\" y=\"212.102906\" style=\"stroke: #000000; stroke-width: 0.8\"/>\n",
       "      </g>\n",
       "     </g>\n",
       "     <g id=\"text_12\">\n",
       "      <!-- −2 -->\n",
       "      <g transform=\"translate(7.2 217.421812)scale(0.14 -0.14)\">\n",
       "       <use xlink:href=\"#DejaVuSans-2212\"/>\n",
       "       <use xlink:href=\"#DejaVuSans-32\" x=\"83.789062\"/>\n",
       "      </g>\n",
       "     </g>\n",
       "    </g>\n",
       "    <g id=\"ytick_4\">\n",
       "     <g id=\"line2d_13\">\n",
       "      <g>\n",
       "       <use xlink:href=\"#m637b105042\" x=\"34.839062\" y=\"178.838906\" style=\"stroke: #000000; stroke-width: 0.8\"/>\n",
       "      </g>\n",
       "     </g>\n",
       "     <g id=\"text_13\">\n",
       "      <!-- −1 -->\n",
       "      <g transform=\"translate(7.2 184.157812)scale(0.14 -0.14)\">\n",
       "       <use xlink:href=\"#DejaVuSans-2212\"/>\n",
       "       <use xlink:href=\"#DejaVuSans-31\" x=\"83.789062\"/>\n",
       "      </g>\n",
       "     </g>\n",
       "    </g>\n",
       "    <g id=\"ytick_5\">\n",
       "     <g id=\"line2d_14\">\n",
       "      <g>\n",
       "       <use xlink:href=\"#m637b105042\" x=\"34.839062\" y=\"145.574906\" style=\"stroke: #000000; stroke-width: 0.8\"/>\n",
       "      </g>\n",
       "     </g>\n",
       "     <g id=\"text_14\">\n",
       "      <!-- 0 -->\n",
       "      <g transform=\"translate(18.931562 150.893812)scale(0.14 -0.14)\">\n",
       "       <use xlink:href=\"#DejaVuSans-30\"/>\n",
       "      </g>\n",
       "     </g>\n",
       "    </g>\n",
       "    <g id=\"ytick_6\">\n",
       "     <g id=\"line2d_15\">\n",
       "      <g>\n",
       "       <use xlink:href=\"#m637b105042\" x=\"34.839062\" y=\"112.310906\" style=\"stroke: #000000; stroke-width: 0.8\"/>\n",
       "      </g>\n",
       "     </g>\n",
       "     <g id=\"text_15\">\n",
       "      <!-- 1 -->\n",
       "      <g transform=\"translate(18.931562 117.629812)scale(0.14 -0.14)\">\n",
       "       <use xlink:href=\"#DejaVuSans-31\"/>\n",
       "      </g>\n",
       "     </g>\n",
       "    </g>\n",
       "    <g id=\"ytick_7\">\n",
       "     <g id=\"line2d_16\">\n",
       "      <g>\n",
       "       <use xlink:href=\"#m637b105042\" x=\"34.839062\" y=\"79.046906\" style=\"stroke: #000000; stroke-width: 0.8\"/>\n",
       "      </g>\n",
       "     </g>\n",
       "     <g id=\"text_16\">\n",
       "      <!-- 2 -->\n",
       "      <g transform=\"translate(18.931562 84.365812)scale(0.14 -0.14)\">\n",
       "       <use xlink:href=\"#DejaVuSans-32\"/>\n",
       "      </g>\n",
       "     </g>\n",
       "    </g>\n",
       "    <g id=\"ytick_8\">\n",
       "     <g id=\"line2d_17\">\n",
       "      <g>\n",
       "       <use xlink:href=\"#m637b105042\" x=\"34.839062\" y=\"45.782906\" style=\"stroke: #000000; stroke-width: 0.8\"/>\n",
       "      </g>\n",
       "     </g>\n",
       "     <g id=\"text_17\">\n",
       "      <!-- 3 -->\n",
       "      <g transform=\"translate(18.931562 51.101812)scale(0.14 -0.14)\">\n",
       "       <use xlink:href=\"#DejaVuSans-33\"/>\n",
       "      </g>\n",
       "     </g>\n",
       "    </g>\n",
       "    <g id=\"ytick_9\">\n",
       "     <g id=\"line2d_18\">\n",
       "      <g>\n",
       "       <use xlink:href=\"#m637b105042\" x=\"34.839062\" y=\"12.518906\" style=\"stroke: #000000; stroke-width: 0.8\"/>\n",
       "      </g>\n",
       "     </g>\n",
       "     <g id=\"text_18\">\n",
       "      <!-- 4 -->\n",
       "      <g transform=\"translate(18.931562 17.837812)scale(0.14 -0.14)\">\n",
       "       <use xlink:href=\"#DejaVuSans-34\"/>\n",
       "      </g>\n",
       "     </g>\n",
       "    </g>\n",
       "   </g>\n",
       "   <g id=\"line2d_19\">\n",
       "    <defs>\n",
       "     <path id=\"m93174e2c21\" d=\"M 0 3 \n",
       "C 0.795609 3 1.55874 2.683901 2.12132 2.12132 \n",
       "C 2.683901 1.55874 3 0.795609 3 0 \n",
       "C 3 -0.795609 2.683901 -1.55874 2.12132 -2.12132 \n",
       "C 1.55874 -2.683901 0.795609 -3 0 -3 \n",
       "C -0.795609 -3 -1.55874 -2.683901 -2.12132 -2.12132 \n",
       "C -2.683901 -1.55874 -3 -0.795609 -3 0 \n",
       "C -3 0.795609 -2.683901 1.55874 -2.12132 2.12132 \n",
       "C -1.55874 2.683901 -0.795609 3 0 3 \n",
       "z\n",
       "\" style=\"stroke: #000000\"/>\n",
       "    </defs>\n",
       "    <g clip-path=\"url(#p6884741ede)\">\n",
       "     <use xlink:href=\"#m93174e2c21\" x=\"150.1183\" y=\"287.03803\" style=\"stroke: #000000\"/>\n",
       "    </g>\n",
       "   </g>\n",
       "   <g id=\"line2d_20\">\n",
       "    <g clip-path=\"url(#p6884741ede)\">\n",
       "     <use xlink:href=\"#m93174e2c21\" x=\"79.862075\" y=\"444.094687\" style=\"stroke: #000000\"/>\n",
       "    </g>\n",
       "   </g>\n",
       "   <g id=\"line2d_21\">\n",
       "    <g clip-path=\"url(#p6884741ede)\">\n",
       "     <use xlink:href=\"#m93174e2c21\" x=\"94.596799\" y=\"411.15545\" style=\"stroke: #000000\"/>\n",
       "    </g>\n",
       "   </g>\n",
       "   <g id=\"line2d_22\">\n",
       "    <g clip-path=\"url(#p6884741ede)\">\n",
       "     <use xlink:href=\"#m93174e2c21\" x=\"277.058631\" y=\"3.264969\" style=\"stroke: #000000\"/>\n",
       "    </g>\n",
       "   </g>\n",
       "   <g id=\"line2d_23\">\n",
       "    <g clip-path=\"url(#p6884741ede)\"/>\n",
       "   </g>\n",
       "   <g id=\"line2d_24\">\n",
       "    <g clip-path=\"url(#p6884741ede)\">\n",
       "     <use xlink:href=\"#m93174e2c21\" x=\"158.434663\" y=\"268.446936\" style=\"stroke: #000000\"/>\n",
       "    </g>\n",
       "   </g>\n",
       "   <g id=\"line2d_25\">\n",
       "    <g clip-path=\"url(#p6884741ede)\">\n",
       "     <use xlink:href=\"#m93174e2c21\" x=\"233.190188\" y=\"101.332165\" style=\"stroke: #000000\"/>\n",
       "    </g>\n",
       "   </g>\n",
       "   <g id=\"line2d_26\">\n",
       "    <g clip-path=\"url(#p6884741ede)\">\n",
       "     <use xlink:href=\"#m93174e2c21\" x=\"93.677547\" y=\"413.210422\" style=\"stroke: #000000\"/>\n",
       "    </g>\n",
       "   </g>\n",
       "   <g id=\"line2d_27\">\n",
       "    <g clip-path=\"url(#p6884741ede)\">\n",
       "     <use xlink:href=\"#m93174e2c21\" x=\"140.225682\" y=\"309.152818\" style=\"stroke: #000000\"/>\n",
       "    </g>\n",
       "   </g>\n",
       "   <g id=\"line2d_28\">\n",
       "    <g clip-path=\"url(#p6884741ede)\">\n",
       "     <use xlink:href=\"#m93174e2c21\" x=\"53.581481\" y=\"502.844533\" style=\"stroke: #000000\"/>\n",
       "    </g>\n",
       "   </g>\n",
       "   <g id=\"line2d_29\">\n",
       "    <g clip-path=\"url(#p6884741ede)\"/>\n",
       "   </g>\n",
       "   <g id=\"line2d_30\">\n",
       "    <g clip-path=\"url(#p6884741ede)\">\n",
       "     <use xlink:href=\"#m93174e2c21\" x=\"165.492055\" y=\"252.670248\" style=\"stroke: #000000\"/>\n",
       "    </g>\n",
       "   </g>\n",
       "   <g id=\"line2d_31\">\n",
       "    <g clip-path=\"url(#p6884741ede)\">\n",
       "     <use xlink:href=\"#m93174e2c21\" x=\"277.935356\" y=\"1.305064\" style=\"stroke: #000000\"/>\n",
       "    </g>\n",
       "   </g>\n",
       "   <g id=\"line2d_32\">\n",
       "    <g clip-path=\"url(#p6884741ede)\"/>\n",
       "   </g>\n",
       "   <g id=\"line2d_33\">\n",
       "    <g clip-path=\"url(#p6884741ede)\"/>\n",
       "   </g>\n",
       "   <g id=\"line2d_34\">\n",
       "    <g clip-path=\"url(#p6884741ede)\">\n",
       "     <use xlink:href=\"#m93174e2c21\" x=\"228.902381\" y=\"110.917487\" style=\"stroke: #000000\"/>\n",
       "    </g>\n",
       "   </g>\n",
       "   <g id=\"line2d_35\">\n",
       "    <g clip-path=\"url(#p6884741ede)\">\n",
       "     <use xlink:href=\"#m93174e2c21\" x=\"277.008346\" y=\"3.377379\" style=\"stroke: #000000\"/>\n",
       "    </g>\n",
       "   </g>\n",
       "   <g id=\"line2d_36\">\n",
       "    <g clip-path=\"url(#p6884741ede)\">\n",
       "     <use xlink:href=\"#m93174e2c21\" x=\"157.468148\" y=\"270.607564\" style=\"stroke: #000000\"/>\n",
       "    </g>\n",
       "   </g>\n",
       "   <g id=\"line2d_37\">\n",
       "    <g clip-path=\"url(#p6884741ede)\">\n",
       "     <use xlink:href=\"#m93174e2c21\" x=\"35.401801\" y=\"543.484914\" style=\"stroke: #000000\"/>\n",
       "    </g>\n",
       "   </g>\n",
       "   <g id=\"line2d_38\">\n",
       "    <g clip-path=\"url(#p6884741ede)\">\n",
       "     <use xlink:href=\"#m93174e2c21\" x=\"250.312961\" y=\"63.054481\" style=\"stroke: #000000\"/>\n",
       "    </g>\n",
       "   </g>\n",
       "   <g id=\"line2d_39\">\n",
       "    <g clip-path=\"url(#p6884741ede)\"/>\n",
       "   </g>\n",
       "   <g id=\"line2d_40\">\n",
       "    <g clip-path=\"url(#p6884741ede)\"/>\n",
       "   </g>\n",
       "   <g id=\"line2d_41\">\n",
       "    <g clip-path=\"url(#p6884741ede)\">\n",
       "     <use xlink:href=\"#m93174e2c21\" x=\"158.633991\" y=\"268.00134\" style=\"stroke: #000000\"/>\n",
       "    </g>\n",
       "   </g>\n",
       "   <g id=\"line2d_42\">\n",
       "    <g clip-path=\"url(#p6884741ede)\">\n",
       "     <use xlink:href=\"#m93174e2c21\" x=\"128.153366\" y=\"336.140286\" style=\"stroke: #000000\"/>\n",
       "    </g>\n",
       "   </g>\n",
       "   <g id=\"line2d_43\">\n",
       "    <g clip-path=\"url(#p6884741ede)\">\n",
       "     <use xlink:href=\"#m93174e2c21\" x=\"40.749362\" y=\"531.530526\" style=\"stroke: #000000\"/>\n",
       "    </g>\n",
       "   </g>\n",
       "   <g id=\"line2d_44\">\n",
       "    <g clip-path=\"url(#p6884741ede)\">\n",
       "     <use xlink:href=\"#m93174e2c21\" x=\"58.77813\" y=\"491.227507\" style=\"stroke: #000000\"/>\n",
       "    </g>\n",
       "   </g>\n",
       "   <g id=\"line2d_45\">\n",
       "    <g clip-path=\"url(#p6884741ede)\">\n",
       "     <use xlink:href=\"#m93174e2c21\" x=\"262.132533\" y=\"36.632018\" style=\"stroke: #000000\"/>\n",
       "    </g>\n",
       "   </g>\n",
       "   <g id=\"line2d_46\">\n",
       "    <g clip-path=\"url(#p6884741ede)\"/>\n",
       "   </g>\n",
       "   <g id=\"line2d_47\">\n",
       "    <g clip-path=\"url(#p6884741ede)\">\n",
       "     <use xlink:href=\"#m93174e2c21\" x=\"99.851703\" y=\"399.408196\" style=\"stroke: #000000\"/>\n",
       "    </g>\n",
       "   </g>\n",
       "   <g id=\"line2d_48\">\n",
       "    <g clip-path=\"url(#p6884741ede)\">\n",
       "     <use xlink:href=\"#m93174e2c21\" x=\"73.306643\" y=\"458.749249\" style=\"stroke: #000000\"/>\n",
       "    </g>\n",
       "   </g>\n",
       "   <g id=\"line2d_49\">\n",
       "    <g clip-path=\"url(#p6884741ede)\"/>\n",
       "   </g>\n",
       "   <g id=\"line2d_50\">\n",
       "    <g clip-path=\"url(#p6884741ede)\"/>\n",
       "   </g>\n",
       "   <g id=\"line2d_51\">\n",
       "    <g clip-path=\"url(#p6884741ede)\">\n",
       "     <use xlink:href=\"#m93174e2c21\" x=\"95.311484\" y=\"409.557783\" style=\"stroke: #000000\"/>\n",
       "    </g>\n",
       "   </g>\n",
       "   <g id=\"line2d_52\">\n",
       "    <g clip-path=\"url(#p6884741ede)\">\n",
       "     <use xlink:href=\"#m93174e2c21\" x=\"222.617499\" y=\"124.967239\" style=\"stroke: #000000\"/>\n",
       "    </g>\n",
       "   </g>\n",
       "   <g id=\"line2d_53\">\n",
       "    <g clip-path=\"url(#p6884741ede)\">\n",
       "     <use xlink:href=\"#m93174e2c21\" x=\"194.175156\" y=\"188.549639\" style=\"stroke: #000000\"/>\n",
       "    </g>\n",
       "   </g>\n",
       "   <g id=\"line2d_54\">\n",
       "    <g clip-path=\"url(#p6884741ede)\"/>\n",
       "   </g>\n",
       "   <g id=\"line2d_55\">\n",
       "    <g clip-path=\"url(#p6884741ede)\"/>\n",
       "   </g>\n",
       "   <g id=\"line2d_56\">\n",
       "    <g clip-path=\"url(#p6884741ede)\">\n",
       "     <use xlink:href=\"#m93174e2c21\" x=\"135.733436\" y=\"319.195161\" style=\"stroke: #000000\"/>\n",
       "    </g>\n",
       "   </g>\n",
       "   <g id=\"line2d_57\">\n",
       "    <g clip-path=\"url(#p6884741ede)\"/>\n",
       "   </g>\n",
       "   <g id=\"line2d_58\">\n",
       "    <g clip-path=\"url(#p6884741ede)\">\n",
       "     <use xlink:href=\"#m93174e2c21\" x=\"234.660289\" y=\"98.045777\" style=\"stroke: #000000\"/>\n",
       "    </g>\n",
       "   </g>\n",
       "   <g id=\"line2d_59\">\n",
       "    <g clip-path=\"url(#p6884741ede)\">\n",
       "     <use xlink:href=\"#m93174e2c21\" x=\"77.937325\" y=\"448.397435\" style=\"stroke: #000000\"/>\n",
       "    </g>\n",
       "   </g>\n",
       "   <g id=\"line2d_60\">\n",
       "    <g clip-path=\"url(#p6884741ede)\">\n",
       "     <use xlink:href=\"#m93174e2c21\" x=\"170.385557\" y=\"241.730904\" style=\"stroke: #000000\"/>\n",
       "    </g>\n",
       "   </g>\n",
       "   <g id=\"line2d_61\">\n",
       "    <g clip-path=\"url(#p6884741ede)\"/>\n",
       "   </g>\n",
       "   <g id=\"line2d_62\">\n",
       "    <g clip-path=\"url(#p6884741ede)\">\n",
       "     <use xlink:href=\"#m93174e2c21\" x=\"124.552399\" y=\"344.190189\" style=\"stroke: #000000\"/>\n",
       "    </g>\n",
       "   </g>\n",
       "   <g id=\"line2d_63\">\n",
       "    <g clip-path=\"url(#p6884741ede)\">\n",
       "     <use xlink:href=\"#m93174e2c21\" x=\"79.483617\" y=\"444.940726\" style=\"stroke: #000000\"/>\n",
       "    </g>\n",
       "   </g>\n",
       "   <g id=\"line2d_64\">\n",
       "    <g clip-path=\"url(#p6884741ede)\">\n",
       "     <use xlink:href=\"#m93174e2c21\" x=\"268.529483\" y=\"22.33174\" style=\"stroke: #000000\"/>\n",
       "    </g>\n",
       "   </g>\n",
       "   <g id=\"line2d_65\">\n",
       "    <g clip-path=\"url(#p6884741ede)\">\n",
       "     <use xlink:href=\"#m93174e2c21\" x=\"56.81142\" y=\"495.624057\" style=\"stroke: #000000\"/>\n",
       "    </g>\n",
       "   </g>\n",
       "   <g id=\"line2d_66\">\n",
       "    <g clip-path=\"url(#p6884741ede)\">\n",
       "     <use xlink:href=\"#m93174e2c21\" x=\"264.976817\" y=\"30.273669\" style=\"stroke: #000000\"/>\n",
       "    </g>\n",
       "   </g>\n",
       "   <g id=\"line2d_67\">\n",
       "    <g clip-path=\"url(#p6884741ede)\">\n",
       "     <use xlink:href=\"#m93174e2c21\" x=\"239.377809\" y=\"87.499838\" style=\"stroke: #000000\"/>\n",
       "    </g>\n",
       "   </g>\n",
       "   <g id=\"line2d_68\">\n",
       "    <g clip-path=\"url(#p6884741ede)\">\n",
       "     <use xlink:href=\"#m93174e2c21\" x=\"240.757898\" y=\"84.414672\" style=\"stroke: #000000\"/>\n",
       "    </g>\n",
       "   </g>\n",
       "   <g id=\"line2d_69\">\n",
       "    <g clip-path=\"url(#p6884741ede)\">\n",
       "     <use xlink:href=\"#m93174e2c21\" x=\"166.973502\" y=\"249.358499\" style=\"stroke: #000000\"/>\n",
       "    </g>\n",
       "   </g>\n",
       "   <g id=\"line2d_70\">\n",
       "    <g clip-path=\"url(#p6884741ede)\">\n",
       "     <use xlink:href=\"#m93174e2c21\" x=\"150.203075\" y=\"286.848518\" style=\"stroke: #000000\"/>\n",
       "    </g>\n",
       "   </g>\n",
       "   <g id=\"line2d_71\">\n",
       "    <g clip-path=\"url(#p6884741ede)\">\n",
       "     <use xlink:href=\"#m93174e2c21\" x=\"247.342077\" y=\"69.695844\" style=\"stroke: #000000\"/>\n",
       "    </g>\n",
       "   </g>\n",
       "   <g id=\"line2d_72\">\n",
       "    <g clip-path=\"url(#p6884741ede)\"/>\n",
       "   </g>\n",
       "   <g id=\"line2d_73\">\n",
       "    <g clip-path=\"url(#p6884741ede)\">\n",
       "     <use xlink:href=\"#m93174e2c21\" x=\"52.603418\" y=\"505.030975\" style=\"stroke: #000000\"/>\n",
       "    </g>\n",
       "   </g>\n",
       "   <g id=\"line2d_74\">\n",
       "    <g clip-path=\"url(#p6884741ede)\">\n",
       "     <use xlink:href=\"#m93174e2c21\" x=\"77.344401\" y=\"449.722907\" style=\"stroke: #000000\"/>\n",
       "    </g>\n",
       "   </g>\n",
       "   <g id=\"line2d_75\">\n",
       "    <g clip-path=\"url(#p6884741ede)\"/>\n",
       "   </g>\n",
       "   <g id=\"line2d_76\">\n",
       "    <g clip-path=\"url(#p6884741ede)\"/>\n",
       "   </g>\n",
       "   <g id=\"line2d_77\">\n",
       "    <g clip-path=\"url(#p6884741ede)\">\n",
       "     <use xlink:href=\"#m93174e2c21\" x=\"187.598314\" y=\"203.252063\" style=\"stroke: #000000\"/>\n",
       "    </g>\n",
       "   </g>\n",
       "   <g id=\"line2d_78\">\n",
       "    <g clip-path=\"url(#p6884741ede)\">\n",
       "     <use xlink:href=\"#m93174e2c21\" x=\"250.733267\" y=\"62.114894\" style=\"stroke: #000000\"/>\n",
       "    </g>\n",
       "   </g>\n",
       "   <g id=\"line2d_79\">\n",
       "    <g clip-path=\"url(#p6884741ede)\"/>\n",
       "   </g>\n",
       "   <g id=\"line2d_80\">\n",
       "    <g clip-path=\"url(#p6884741ede)\"/>\n",
       "   </g>\n",
       "   <g id=\"line2d_81\">\n",
       "    <g clip-path=\"url(#p6884741ede)\"/>\n",
       "   </g>\n",
       "   <g id=\"line2d_82\">\n",
       "    <g clip-path=\"url(#p6884741ede)\">\n",
       "     <use xlink:href=\"#m93174e2c21\" x=\"40.611391\" y=\"531.838958\" style=\"stroke: #000000\"/>\n",
       "    </g>\n",
       "   </g>\n",
       "   <g id=\"line2d_83\">\n",
       "    <g clip-path=\"url(#p6884741ede)\">\n",
       "     <use xlink:href=\"#m93174e2c21\" x=\"165.565219\" y=\"252.506691\" style=\"stroke: #000000\"/>\n",
       "    </g>\n",
       "   </g>\n",
       "   <g id=\"line2d_84\">\n",
       "    <g clip-path=\"url(#p6884741ede)\">\n",
       "     <use xlink:href=\"#m93174e2c21\" x=\"187.80678\" y=\"202.786041\" style=\"stroke: #000000\"/>\n",
       "    </g>\n",
       "   </g>\n",
       "   <g id=\"line2d_85\">\n",
       "    <g clip-path=\"url(#p6884741ede)\">\n",
       "     <use xlink:href=\"#m93174e2c21\" x=\"98.252989\" y=\"402.982097\" style=\"stroke: #000000\"/>\n",
       "    </g>\n",
       "   </g>\n",
       "   <g id=\"line2d_86\">\n",
       "    <g clip-path=\"url(#p6884741ede)\"/>\n",
       "   </g>\n",
       "   <g id=\"line2d_87\">\n",
       "    <g clip-path=\"url(#p6884741ede)\">\n",
       "     <use xlink:href=\"#m93174e2c21\" x=\"226.351144\" y=\"116.620737\" style=\"stroke: #000000\"/>\n",
       "    </g>\n",
       "   </g>\n",
       "   <g id=\"line2d_88\">\n",
       "    <g clip-path=\"url(#p6884741ede)\"/>\n",
       "   </g>\n",
       "   <g id=\"line2d_89\">\n",
       "    <g clip-path=\"url(#p6884741ede)\">\n",
       "     <use xlink:href=\"#m93174e2c21\" x=\"91.748184\" y=\"417.523484\" style=\"stroke: #000000\"/>\n",
       "    </g>\n",
       "   </g>\n",
       "   <g id=\"line2d_90\">\n",
       "    <g clip-path=\"url(#p6884741ede)\">\n",
       "     <use xlink:href=\"#m93174e2c21\" x=\"68.284257\" y=\"469.976713\" style=\"stroke: #000000\"/>\n",
       "    </g>\n",
       "   </g>\n",
       "   <g id=\"line2d_91\">\n",
       "    <g clip-path=\"url(#p6884741ede)\"/>\n",
       "   </g>\n",
       "   <g id=\"line2d_92\">\n",
       "    <g clip-path=\"url(#p6884741ede)\"/>\n",
       "   </g>\n",
       "   <g id=\"line2d_93\">\n",
       "    <g clip-path=\"url(#p6884741ede)\"/>\n",
       "   </g>\n",
       "   <g id=\"line2d_94\">\n",
       "    <g clip-path=\"url(#p6884741ede)\">\n",
       "     <use xlink:href=\"#m93174e2c21\" x=\"62.520134\" y=\"482.862318\" style=\"stroke: #000000\"/>\n",
       "    </g>\n",
       "   </g>\n",
       "   <g id=\"line2d_95\">\n",
       "    <g clip-path=\"url(#p6884741ede)\">\n",
       "     <use xlink:href=\"#m93174e2c21\" x=\"128.144881\" y=\"336.159254\" style=\"stroke: #000000\"/>\n",
       "    </g>\n",
       "   </g>\n",
       "   <g id=\"line2d_96\">\n",
       "    <g clip-path=\"url(#p6884741ede)\">\n",
       "     <use xlink:href=\"#m93174e2c21\" x=\"114.335788\" y=\"367.029259\" style=\"stroke: #000000\"/>\n",
       "    </g>\n",
       "   </g>\n",
       "   <g id=\"line2d_97\">\n",
       "    <g clip-path=\"url(#p6884741ede)\"/>\n",
       "   </g>\n",
       "   <g id=\"line2d_98\">\n",
       "    <g clip-path=\"url(#p6884741ede)\">\n",
       "     <use xlink:href=\"#m93174e2c21\" x=\"218.882069\" y=\"133.317734\" style=\"stroke: #000000\"/>\n",
       "    </g>\n",
       "   </g>\n",
       "   <g id=\"line2d_99\">\n",
       "    <g clip-path=\"url(#p6884741ede)\">\n",
       "     <use xlink:href=\"#m93174e2c21\" x=\"148.70403\" y=\"290.199607\" style=\"stroke: #000000\"/>\n",
       "    </g>\n",
       "   </g>\n",
       "   <g id=\"line2d_100\">\n",
       "    <g clip-path=\"url(#p6884741ede)\">\n",
       "     <use xlink:href=\"#m93174e2c21\" x=\"184.221996\" y=\"210.799767\" style=\"stroke: #000000\"/>\n",
       "    </g>\n",
       "   </g>\n",
       "   <g id=\"line2d_101\">\n",
       "    <g clip-path=\"url(#p6884741ede)\">\n",
       "     <use xlink:href=\"#m93174e2c21\" x=\"152.572573\" y=\"281.551543\" style=\"stroke: #000000\"/>\n",
       "    </g>\n",
       "   </g>\n",
       "   <g id=\"line2d_102\">\n",
       "    <g clip-path=\"url(#p6884741ede)\">\n",
       "     <use xlink:href=\"#m93174e2c21\" x=\"193.945893\" y=\"189.062152\" style=\"stroke: #000000\"/>\n",
       "    </g>\n",
       "   </g>\n",
       "   <g id=\"line2d_103\">\n",
       "    <g clip-path=\"url(#p6884741ede)\">\n",
       "     <use xlink:href=\"#m93174e2c21\" x=\"124.574213\" y=\"344.141424\" style=\"stroke: #000000\"/>\n",
       "    </g>\n",
       "   </g>\n",
       "   <g id=\"line2d_104\">\n",
       "    <g clip-path=\"url(#p6884741ede)\">\n",
       "     <use xlink:href=\"#m93174e2c21\" x=\"44.422386\" y=\"523.31954\" style=\"stroke: #000000\"/>\n",
       "    </g>\n",
       "   </g>\n",
       "   <g id=\"line2d_105\">\n",
       "    <g clip-path=\"url(#p6884741ede)\">\n",
       "     <use xlink:href=\"#m93174e2c21\" x=\"251.963638\" y=\"59.364419\" style=\"stroke: #000000\"/>\n",
       "    </g>\n",
       "   </g>\n",
       "   <g id=\"line2d_106\">\n",
       "    <g clip-path=\"url(#p6884741ede)\"/>\n",
       "   </g>\n",
       "   <g id=\"line2d_107\">\n",
       "    <g clip-path=\"url(#p6884741ede)\">\n",
       "     <use xlink:href=\"#m93174e2c21\" x=\"219.684375\" y=\"131.524191\" style=\"stroke: #000000\"/>\n",
       "    </g>\n",
       "   </g>\n",
       "   <g id=\"line2d_108\">\n",
       "    <g clip-path=\"url(#p6884741ede)\"/>\n",
       "   </g>\n",
       "   <g id=\"line2d_109\">\n",
       "    <g clip-path=\"url(#p6884741ede)\">\n",
       "     <use xlink:href=\"#m93174e2c21\" x=\"37.013022\" y=\"539.883055\" style=\"stroke: #000000\"/>\n",
       "    </g>\n",
       "   </g>\n",
       "   <g id=\"line2d_110\">\n",
       "    <g clip-path=\"url(#p6884741ede)\"/>\n",
       "   </g>\n",
       "   <g id=\"line2d_111\">\n",
       "    <g clip-path=\"url(#p6884741ede)\">\n",
       "     <use xlink:href=\"#m93174e2c21\" x=\"67.92146\" y=\"470.78774\" style=\"stroke: #000000\"/>\n",
       "    </g>\n",
       "   </g>\n",
       "   <g id=\"line2d_112\">\n",
       "    <g clip-path=\"url(#p6884741ede)\"/>\n",
       "   </g>\n",
       "   <g id=\"line2d_113\">\n",
       "    <g clip-path=\"url(#p6884741ede)\">\n",
       "     <use xlink:href=\"#m93174e2c21\" x=\"120.625168\" y=\"352.969451\" style=\"stroke: #000000\"/>\n",
       "    </g>\n",
       "   </g>\n",
       "   <g id=\"line2d_114\">\n",
       "    <g clip-path=\"url(#p6884741ede)\">\n",
       "     <use xlink:href=\"#m93174e2c21\" x=\"263.258256\" y=\"34.115482\" style=\"stroke: #000000\"/>\n",
       "    </g>\n",
       "   </g>\n",
       "   <g id=\"line2d_115\">\n",
       "    <g clip-path=\"url(#p6884741ede)\"/>\n",
       "   </g>\n",
       "   <g id=\"line2d_116\">\n",
       "    <g clip-path=\"url(#p6884741ede)\"/>\n",
       "   </g>\n",
       "   <g id=\"line2d_117\">\n",
       "    <g clip-path=\"url(#p6884741ede)\"/>\n",
       "   </g>\n",
       "   <g id=\"line2d_118\">\n",
       "    <g clip-path=\"url(#p6884741ede)\"/>\n",
       "   </g>\n",
       "   <g id=\"line2d_119\">\n",
       "    <g clip-path=\"url(#p6884741ede)\">\n",
       "     <use xlink:href=\"#m93174e2c21\" x=\"258.039062\" y=\"45.782906\" style=\"stroke: #000000\"/>\n",
       "    </g>\n",
       "   </g>\n",
       "   <g id=\"patch_3\">\n",
       "    <path d=\"M 34.839062 278.630906 \n",
       "L 34.839062 12.518906 \n",
       "\" style=\"fill: none; stroke: #000000; stroke-width: 0.8; stroke-linejoin: miter; stroke-linecap: square\"/>\n",
       "   </g>\n",
       "   <g id=\"patch_4\">\n",
       "    <path d=\"M 391.959063 278.630906 \n",
       "L 391.959063 12.518906 \n",
       "\" style=\"fill: none; stroke: #000000; stroke-width: 0.8; stroke-linejoin: miter; stroke-linecap: square\"/>\n",
       "   </g>\n",
       "   <g id=\"patch_5\">\n",
       "    <path d=\"M 34.839063 278.630906 \n",
       "L 391.959063 278.630906 \n",
       "\" style=\"fill: none; stroke: #000000; stroke-width: 0.8; stroke-linejoin: miter; stroke-linecap: square\"/>\n",
       "   </g>\n",
       "   <g id=\"patch_6\">\n",
       "    <path d=\"M 34.839063 12.518906 \n",
       "L 391.959063 12.518906 \n",
       "\" style=\"fill: none; stroke: #000000; stroke-width: 0.8; stroke-linejoin: miter; stroke-linecap: square\"/>\n",
       "   </g>\n",
       "  </g>\n",
       " </g>\n",
       " <defs>\n",
       "  <clipPath id=\"p6884741ede\">\n",
       "   <rect x=\"34.839062\" y=\"12.518906\" width=\"357.12\" height=\"266.112\"/>\n",
       "  </clipPath>\n",
       " </defs>\n",
       "</svg>\n"
      ],
      "text/plain": [
       "<Figure size 640x480 with 1 Axes>"
      ]
     },
     "metadata": {},
     "output_type": "display_data"
    }
   ],
   "source": [
    "import random\n",
    "\n",
    "V = [np.array([1, 3])]\n",
    "\n",
    "scalars = []\n",
    "for i in range(0, 100):\n",
    "    scalars.append(random.uniform(-4, 4))\n",
    "\n",
    "for i, s in enumerate(scalars):\n",
    "    V.insert(i, s*V[i])\n",
    "\n",
    "for v in V:\n",
    "    plt.plot(v[0],v[1],'ko')\n",
    "    \n",
    "plt.xlim([-4, 4])\n",
    "plt.ylim([-4, 4])\n",
    "plt.show()\n"
   ]
  },
  {
   "cell_type": "code",
   "execution_count": 120,
   "metadata": {},
   "outputs": [
    {
     "name": "stdout",
     "output_type": "stream",
     "text": [
      "min x: -5.413653609860722\n",
      "min y: -11.029772406090704\n",
      "min z: -1.5080701444276912\n",
      "(100, 3)\n"
     ]
    },
    {
     "data": {
      "application/vnd.plotly.v1+json": {
       "config": {
        "plotlyServerURL": "https://plot.ly"
       },
       "data": [
        {
         "marker": {
          "color": "black",
          "size": 6
         },
         "mode": "markers",
         "type": "scatter3d",
         "x": [
          -3.2481921659164334,
          -6.6178634436544215,
          -0.9048420866566147,
          -5.718334413344955,
          -6.660599338173335,
          -12.156491091529471,
          -10.809850035220926,
          14.012403405185577,
          11.552954161933403,
          5.956369330417017,
          5.943779075143176,
          -6.1419315568640815,
          9.719783269659452,
          -6.163293588940024,
          5.5324410559485235,
          6.155393401950409,
          13.363363295811359,
          7.446738787229745,
          1.8366625717615657,
          -13.232550778218142,
          7.040719214292947,
          -0.24267353792721558,
          9.953384955773068,
          -6.345401690957849,
          12.360773652899653,
          15.17160909678458,
          -1.9576400116935746,
          -12.238036135670598,
          -2.8972170921369185,
          -5.189041144778846,
          10.539757188887105,
          -0.4538592430694721,
          6.0450860725477655,
          -4.623341231366885,
          -1.6470284053757407,
          -4.804982177315875,
          9.204987665915306,
          2.534772125979189,
          5.443193357132923,
          -5.924511775739541,
          6.261391007969403,
          8.168777360496604,
          -11.080115454072384,
          -10.017082516767115,
          6.19114505958124,
          15.068203695234994,
          -4.189148125477248,
          -2.01724113912216,
          -5.656689375663746,
          6.004723656983742,
          -1.1228753572421306,
          7.596024040666613,
          9.304582256351067,
          1.957855132349121,
          1.0475533149716028,
          -7.578575639531599,
          -6.090866016394083,
          6.517404139559637,
          -11.370118291160184,
          7.18478494640234,
          -2.7619160052397924,
          9.776313656271803,
          -12.26744304596775,
          7.085845437930364,
          5.520554060983157,
          10.875379484882377,
          -2.8394496577548844,
          -5.4707136318978,
          3.8759221425565458,
          5.1168843009943,
          6.112459359846158,
          -6.347810735562042,
          -5.334176920887135,
          0.09589538409524767,
          -5.9486970086889945,
          4.206172506818598,
          0.8382495267573749,
          9.937354555991888,
          1.5154790213221307,
          11.726080868876817,
          -8.858151572216496,
          7.830953853037058,
          -10.895218842412824,
          5.541720276016955,
          4.0214501852103535,
          -3.9288252390909726,
          4.086799352211294,
          9.03221908511633,
          1.7276412455782406,
          -7.02000744863121,
          1.55227419536349,
          9.122462275965866,
          0.0049104063927649655,
          -1.817558671860092,
          -5.703592826451539,
          5.674905574208323,
          -1.4911427634284813,
          1.445796511434668,
          4.515905391146165,
          12.923382356669002
         ],
         "y": [
          -5.413653609860722,
          -11.029772406090704,
          -1.5080701444276912,
          -9.530557355574924,
          -11.10099889695556,
          -20.26081848588245,
          -18.01641672536821,
          23.354005675309292,
          19.254923603222338,
          9.927282217361695,
          9.90629845857196,
          -10.23655259477347,
          16.199638782765753,
          -10.272155981566705,
          9.22073509324754,
          10.258989003250683,
          22.2722721596856,
          12.411231312049575,
          3.061104286269276,
          -22.054251297030234,
          11.734532023821577,
          -0.4044558965453593,
          16.588974926288447,
          -10.575669484929747,
          20.601289421499423,
          25.28601516130763,
          -3.2627333528226243,
          -20.39672689278433,
          -4.828695153561531,
          -8.648401907964743,
          17.566261981478508,
          -0.7564320717824531,
          10.075143454246277,
          -7.705568718944809,
          -2.7450473422929003,
          -8.008303628859794,
          15.341646109858841,
          4.224620209965315,
          9.071988928554873,
          -9.874186292899234,
          10.435651679949006,
          13.614628934161006,
          -18.466859090120643,
          -16.695137527945192,
          10.318575099302068,
          25.113672825391653,
          -6.981913542462079,
          -3.3620685652035993,
          -9.427815626106243,
          10.007872761639574,
          -1.8714589287368852,
          12.660040067777688,
          15.507637093918445,
          3.263091887248535,
          1.745922191619338,
          -12.630959399219329,
          -10.151443360656804,
          10.862340232599394,
          -18.95019715193364,
          11.974641577337232,
          -4.603193342066321,
          16.29385609378634,
          -20.44573840994625,
          11.809742396550607,
          9.200923434971932,
          18.12563247480396,
          -4.732416096258141,
          -9.117856053163,
          6.459870237594243,
          8.528140501657166,
          10.187432266410264,
          -10.57968455927007,
          -8.890294868145222,
          0.15982564015874612,
          -9.914495014481655,
          7.01028751136433,
          1.3970825445956248,
          16.562257593319814,
          2.525798368870219,
          19.543468114794695,
          -14.763585953694157,
          13.051589755061764,
          -18.158698070688036,
          9.23620046002826,
          6.702416975350589,
          -6.54804206515162,
          6.811332253685489,
          15.053698475193883,
          2.8794020759637355,
          -11.70001241438535,
          2.58712365893915,
          15.204103793276442,
          0.008184010654607832,
          -3.0292644531001534,
          -9.505988044085898,
          9.458175957013871,
          -2.485237939047469,
          2.4096608523911134,
          7.52650898524361,
          21.538970594448337
         ],
         "z": [
          -1.0827307219721445,
          -2.2059544812181406,
          -0.30161402888553823,
          -1.906111471114985,
          -2.2201997793911117,
          -4.05216369717649,
          -3.603283345073642,
          4.670801135061859,
          3.850984720644468,
          1.985456443472339,
          1.981259691714392,
          -2.047310518954694,
          3.2399277565531506,
          -2.0544311963133413,
          1.8441470186495081,
          2.0517978006501365,
          4.454454431937119,
          2.482246262409915,
          0.6122208572538552,
          -4.410850259406047,
          2.3469064047643156,
          -0.08089117930907186,
          3.3177949852576893,
          -2.1151338969859497,
          4.1202578842998845,
          5.057203032261526,
          -0.6525466705645249,
          -4.079345378556866,
          -0.9657390307123062,
          -1.729680381592949,
          3.5132523962957016,
          -0.1512864143564907,
          2.015028690849255,
          -1.5411137437889617,
          -0.5490094684585802,
          -1.6016607257719584,
          3.0683292219717684,
          0.844924041993063,
          1.8143977857109745,
          -1.9748372585798468,
          2.087130335989801,
          2.722925786832201,
          -3.6933718180241284,
          -3.3390275055890384,
          2.0637150198604135,
          5.022734565078331,
          -1.3963827084924159,
          -0.67241371304072,
          -1.8855631252212488,
          2.0015745523279143,
          -0.37429178574737687,
          2.532008013555538,
          3.101527418783689,
          0.652618377449707,
          0.3491844383238676,
          -2.526191879843866,
          -2.030288672131361,
          2.172468046519879,
          -3.7900394303867277,
          2.3949283154674466,
          -0.9206386684132641,
          3.2587712187572677,
          -4.08914768198925,
          2.3619484793101213,
          1.840184686994386,
          3.625126494960792,
          -0.9464832192516281,
          -1.8235712106326,
          1.2919740475188486,
          1.7056281003314333,
          2.0374864532820527,
          -2.115936911854014,
          -1.7780589736290446,
          0.031965128031749224,
          -1.9828990028963314,
          1.402057502272866,
          0.27941650891912495,
          3.3124515186639627,
          0.5051596737740436,
          3.908693622958939,
          -2.9527171907388317,
          2.6103179510123526,
          -3.6317396141376075,
          1.8472400920056518,
          1.3404833950701178,
          -1.309608413030324,
          1.3622664507370978,
          3.0107396950387764,
          0.575880415192747,
          -2.34000248287707,
          0.51742473178783,
          3.0408207586552884,
          0.0016368021309216552,
          -0.6058528906200307,
          -1.9011976088171796,
          1.8916351914027745,
          -0.49704758780949376,
          0.4819321704782227,
          1.505301797048722,
          4.307794118889667
         ]
        }
       ],
       "layout": {
        "margin": {
         "b": 0,
         "l": 0,
         "r": 0,
         "t": 0
        },
        "template": {
         "data": {
          "bar": [
           {
            "error_x": {
             "color": "#2a3f5f"
            },
            "error_y": {
             "color": "#2a3f5f"
            },
            "marker": {
             "line": {
              "color": "#E5ECF6",
              "width": 0.5
             },
             "pattern": {
              "fillmode": "overlay",
              "size": 10,
              "solidity": 0.2
             }
            },
            "type": "bar"
           }
          ],
          "barpolar": [
           {
            "marker": {
             "line": {
              "color": "#E5ECF6",
              "width": 0.5
             },
             "pattern": {
              "fillmode": "overlay",
              "size": 10,
              "solidity": 0.2
             }
            },
            "type": "barpolar"
           }
          ],
          "carpet": [
           {
            "aaxis": {
             "endlinecolor": "#2a3f5f",
             "gridcolor": "white",
             "linecolor": "white",
             "minorgridcolor": "white",
             "startlinecolor": "#2a3f5f"
            },
            "baxis": {
             "endlinecolor": "#2a3f5f",
             "gridcolor": "white",
             "linecolor": "white",
             "minorgridcolor": "white",
             "startlinecolor": "#2a3f5f"
            },
            "type": "carpet"
           }
          ],
          "choropleth": [
           {
            "colorbar": {
             "outlinewidth": 0,
             "ticks": ""
            },
            "type": "choropleth"
           }
          ],
          "contour": [
           {
            "colorbar": {
             "outlinewidth": 0,
             "ticks": ""
            },
            "colorscale": [
             [
              0,
              "#0d0887"
             ],
             [
              0.1111111111111111,
              "#46039f"
             ],
             [
              0.2222222222222222,
              "#7201a8"
             ],
             [
              0.3333333333333333,
              "#9c179e"
             ],
             [
              0.4444444444444444,
              "#bd3786"
             ],
             [
              0.5555555555555556,
              "#d8576b"
             ],
             [
              0.6666666666666666,
              "#ed7953"
             ],
             [
              0.7777777777777778,
              "#fb9f3a"
             ],
             [
              0.8888888888888888,
              "#fdca26"
             ],
             [
              1,
              "#f0f921"
             ]
            ],
            "type": "contour"
           }
          ],
          "contourcarpet": [
           {
            "colorbar": {
             "outlinewidth": 0,
             "ticks": ""
            },
            "type": "contourcarpet"
           }
          ],
          "heatmap": [
           {
            "colorbar": {
             "outlinewidth": 0,
             "ticks": ""
            },
            "colorscale": [
             [
              0,
              "#0d0887"
             ],
             [
              0.1111111111111111,
              "#46039f"
             ],
             [
              0.2222222222222222,
              "#7201a8"
             ],
             [
              0.3333333333333333,
              "#9c179e"
             ],
             [
              0.4444444444444444,
              "#bd3786"
             ],
             [
              0.5555555555555556,
              "#d8576b"
             ],
             [
              0.6666666666666666,
              "#ed7953"
             ],
             [
              0.7777777777777778,
              "#fb9f3a"
             ],
             [
              0.8888888888888888,
              "#fdca26"
             ],
             [
              1,
              "#f0f921"
             ]
            ],
            "type": "heatmap"
           }
          ],
          "heatmapgl": [
           {
            "colorbar": {
             "outlinewidth": 0,
             "ticks": ""
            },
            "colorscale": [
             [
              0,
              "#0d0887"
             ],
             [
              0.1111111111111111,
              "#46039f"
             ],
             [
              0.2222222222222222,
              "#7201a8"
             ],
             [
              0.3333333333333333,
              "#9c179e"
             ],
             [
              0.4444444444444444,
              "#bd3786"
             ],
             [
              0.5555555555555556,
              "#d8576b"
             ],
             [
              0.6666666666666666,
              "#ed7953"
             ],
             [
              0.7777777777777778,
              "#fb9f3a"
             ],
             [
              0.8888888888888888,
              "#fdca26"
             ],
             [
              1,
              "#f0f921"
             ]
            ],
            "type": "heatmapgl"
           }
          ],
          "histogram": [
           {
            "marker": {
             "pattern": {
              "fillmode": "overlay",
              "size": 10,
              "solidity": 0.2
             }
            },
            "type": "histogram"
           }
          ],
          "histogram2d": [
           {
            "colorbar": {
             "outlinewidth": 0,
             "ticks": ""
            },
            "colorscale": [
             [
              0,
              "#0d0887"
             ],
             [
              0.1111111111111111,
              "#46039f"
             ],
             [
              0.2222222222222222,
              "#7201a8"
             ],
             [
              0.3333333333333333,
              "#9c179e"
             ],
             [
              0.4444444444444444,
              "#bd3786"
             ],
             [
              0.5555555555555556,
              "#d8576b"
             ],
             [
              0.6666666666666666,
              "#ed7953"
             ],
             [
              0.7777777777777778,
              "#fb9f3a"
             ],
             [
              0.8888888888888888,
              "#fdca26"
             ],
             [
              1,
              "#f0f921"
             ]
            ],
            "type": "histogram2d"
           }
          ],
          "histogram2dcontour": [
           {
            "colorbar": {
             "outlinewidth": 0,
             "ticks": ""
            },
            "colorscale": [
             [
              0,
              "#0d0887"
             ],
             [
              0.1111111111111111,
              "#46039f"
             ],
             [
              0.2222222222222222,
              "#7201a8"
             ],
             [
              0.3333333333333333,
              "#9c179e"
             ],
             [
              0.4444444444444444,
              "#bd3786"
             ],
             [
              0.5555555555555556,
              "#d8576b"
             ],
             [
              0.6666666666666666,
              "#ed7953"
             ],
             [
              0.7777777777777778,
              "#fb9f3a"
             ],
             [
              0.8888888888888888,
              "#fdca26"
             ],
             [
              1,
              "#f0f921"
             ]
            ],
            "type": "histogram2dcontour"
           }
          ],
          "mesh3d": [
           {
            "colorbar": {
             "outlinewidth": 0,
             "ticks": ""
            },
            "type": "mesh3d"
           }
          ],
          "parcoords": [
           {
            "line": {
             "colorbar": {
              "outlinewidth": 0,
              "ticks": ""
             }
            },
            "type": "parcoords"
           }
          ],
          "pie": [
           {
            "automargin": true,
            "type": "pie"
           }
          ],
          "scatter": [
           {
            "fillpattern": {
             "fillmode": "overlay",
             "size": 10,
             "solidity": 0.2
            },
            "type": "scatter"
           }
          ],
          "scatter3d": [
           {
            "line": {
             "colorbar": {
              "outlinewidth": 0,
              "ticks": ""
             }
            },
            "marker": {
             "colorbar": {
              "outlinewidth": 0,
              "ticks": ""
             }
            },
            "type": "scatter3d"
           }
          ],
          "scattercarpet": [
           {
            "marker": {
             "colorbar": {
              "outlinewidth": 0,
              "ticks": ""
             }
            },
            "type": "scattercarpet"
           }
          ],
          "scattergeo": [
           {
            "marker": {
             "colorbar": {
              "outlinewidth": 0,
              "ticks": ""
             }
            },
            "type": "scattergeo"
           }
          ],
          "scattergl": [
           {
            "marker": {
             "colorbar": {
              "outlinewidth": 0,
              "ticks": ""
             }
            },
            "type": "scattergl"
           }
          ],
          "scattermapbox": [
           {
            "marker": {
             "colorbar": {
              "outlinewidth": 0,
              "ticks": ""
             }
            },
            "type": "scattermapbox"
           }
          ],
          "scatterpolar": [
           {
            "marker": {
             "colorbar": {
              "outlinewidth": 0,
              "ticks": ""
             }
            },
            "type": "scatterpolar"
           }
          ],
          "scatterpolargl": [
           {
            "marker": {
             "colorbar": {
              "outlinewidth": 0,
              "ticks": ""
             }
            },
            "type": "scatterpolargl"
           }
          ],
          "scatterternary": [
           {
            "marker": {
             "colorbar": {
              "outlinewidth": 0,
              "ticks": ""
             }
            },
            "type": "scatterternary"
           }
          ],
          "surface": [
           {
            "colorbar": {
             "outlinewidth": 0,
             "ticks": ""
            },
            "colorscale": [
             [
              0,
              "#0d0887"
             ],
             [
              0.1111111111111111,
              "#46039f"
             ],
             [
              0.2222222222222222,
              "#7201a8"
             ],
             [
              0.3333333333333333,
              "#9c179e"
             ],
             [
              0.4444444444444444,
              "#bd3786"
             ],
             [
              0.5555555555555556,
              "#d8576b"
             ],
             [
              0.6666666666666666,
              "#ed7953"
             ],
             [
              0.7777777777777778,
              "#fb9f3a"
             ],
             [
              0.8888888888888888,
              "#fdca26"
             ],
             [
              1,
              "#f0f921"
             ]
            ],
            "type": "surface"
           }
          ],
          "table": [
           {
            "cells": {
             "fill": {
              "color": "#EBF0F8"
             },
             "line": {
              "color": "white"
             }
            },
            "header": {
             "fill": {
              "color": "#C8D4E3"
             },
             "line": {
              "color": "white"
             }
            },
            "type": "table"
           }
          ]
         },
         "layout": {
          "annotationdefaults": {
           "arrowcolor": "#2a3f5f",
           "arrowhead": 0,
           "arrowwidth": 1
          },
          "autotypenumbers": "strict",
          "coloraxis": {
           "colorbar": {
            "outlinewidth": 0,
            "ticks": ""
           }
          },
          "colorscale": {
           "diverging": [
            [
             0,
             "#8e0152"
            ],
            [
             0.1,
             "#c51b7d"
            ],
            [
             0.2,
             "#de77ae"
            ],
            [
             0.3,
             "#f1b6da"
            ],
            [
             0.4,
             "#fde0ef"
            ],
            [
             0.5,
             "#f7f7f7"
            ],
            [
             0.6,
             "#e6f5d0"
            ],
            [
             0.7,
             "#b8e186"
            ],
            [
             0.8,
             "#7fbc41"
            ],
            [
             0.9,
             "#4d9221"
            ],
            [
             1,
             "#276419"
            ]
           ],
           "sequential": [
            [
             0,
             "#0d0887"
            ],
            [
             0.1111111111111111,
             "#46039f"
            ],
            [
             0.2222222222222222,
             "#7201a8"
            ],
            [
             0.3333333333333333,
             "#9c179e"
            ],
            [
             0.4444444444444444,
             "#bd3786"
            ],
            [
             0.5555555555555556,
             "#d8576b"
            ],
            [
             0.6666666666666666,
             "#ed7953"
            ],
            [
             0.7777777777777778,
             "#fb9f3a"
            ],
            [
             0.8888888888888888,
             "#fdca26"
            ],
            [
             1,
             "#f0f921"
            ]
           ],
           "sequentialminus": [
            [
             0,
             "#0d0887"
            ],
            [
             0.1111111111111111,
             "#46039f"
            ],
            [
             0.2222222222222222,
             "#7201a8"
            ],
            [
             0.3333333333333333,
             "#9c179e"
            ],
            [
             0.4444444444444444,
             "#bd3786"
            ],
            [
             0.5555555555555556,
             "#d8576b"
            ],
            [
             0.6666666666666666,
             "#ed7953"
            ],
            [
             0.7777777777777778,
             "#fb9f3a"
            ],
            [
             0.8888888888888888,
             "#fdca26"
            ],
            [
             1,
             "#f0f921"
            ]
           ]
          },
          "colorway": [
           "#636efa",
           "#EF553B",
           "#00cc96",
           "#ab63fa",
           "#FFA15A",
           "#19d3f3",
           "#FF6692",
           "#B6E880",
           "#FF97FF",
           "#FECB52"
          ],
          "font": {
           "color": "#2a3f5f"
          },
          "geo": {
           "bgcolor": "white",
           "lakecolor": "white",
           "landcolor": "#E5ECF6",
           "showlakes": true,
           "showland": true,
           "subunitcolor": "white"
          },
          "hoverlabel": {
           "align": "left"
          },
          "hovermode": "closest",
          "mapbox": {
           "style": "light"
          },
          "paper_bgcolor": "white",
          "plot_bgcolor": "#E5ECF6",
          "polar": {
           "angularaxis": {
            "gridcolor": "white",
            "linecolor": "white",
            "ticks": ""
           },
           "bgcolor": "#E5ECF6",
           "radialaxis": {
            "gridcolor": "white",
            "linecolor": "white",
            "ticks": ""
           }
          },
          "scene": {
           "xaxis": {
            "backgroundcolor": "#E5ECF6",
            "gridcolor": "white",
            "gridwidth": 2,
            "linecolor": "white",
            "showbackground": true,
            "ticks": "",
            "zerolinecolor": "white"
           },
           "yaxis": {
            "backgroundcolor": "#E5ECF6",
            "gridcolor": "white",
            "gridwidth": 2,
            "linecolor": "white",
            "showbackground": true,
            "ticks": "",
            "zerolinecolor": "white"
           },
           "zaxis": {
            "backgroundcolor": "#E5ECF6",
            "gridcolor": "white",
            "gridwidth": 2,
            "linecolor": "white",
            "showbackground": true,
            "ticks": "",
            "zerolinecolor": "white"
           }
          },
          "shapedefaults": {
           "line": {
            "color": "#2a3f5f"
           }
          },
          "ternary": {
           "aaxis": {
            "gridcolor": "white",
            "linecolor": "white",
            "ticks": ""
           },
           "baxis": {
            "gridcolor": "white",
            "linecolor": "white",
            "ticks": ""
           },
           "bgcolor": "#E5ECF6",
           "caxis": {
            "gridcolor": "white",
            "linecolor": "white",
            "ticks": ""
           }
          },
          "title": {
           "x": 0.05
          },
          "xaxis": {
           "automargin": true,
           "gridcolor": "white",
           "linecolor": "white",
           "ticks": "",
           "title": {
            "standoff": 15
           },
           "zerolinecolor": "white",
           "zerolinewidth": 2
          },
          "yaxis": {
           "automargin": true,
           "gridcolor": "white",
           "linecolor": "white",
           "ticks": "",
           "title": {
            "standoff": 15
           },
           "zerolinecolor": "white",
           "zerolinewidth": 2
          }
         }
        }
       }
      },
      "text/html": [
       "<div>                            <div id=\"fbbaa7b5-ddc8-406f-b027-2ae37e1ad9a7\" class=\"plotly-graph-div\" style=\"height:525px; width:100%;\"></div>            <script type=\"text/javascript\">                require([\"plotly\"], function(Plotly) {                    window.PLOTLYENV=window.PLOTLYENV || {};                                    if (document.getElementById(\"fbbaa7b5-ddc8-406f-b027-2ae37e1ad9a7\")) {                    Plotly.newPlot(                        \"fbbaa7b5-ddc8-406f-b027-2ae37e1ad9a7\",                        [{\"marker\":{\"color\":\"black\",\"size\":6},\"mode\":\"markers\",\"x\":[-3.2481921659164334,-6.6178634436544215,-0.9048420866566147,-5.718334413344955,-6.660599338173335,-12.156491091529471,-10.809850035220926,14.012403405185577,11.552954161933403,5.956369330417017,5.943779075143176,-6.1419315568640815,9.719783269659452,-6.163293588940024,5.5324410559485235,6.155393401950409,13.363363295811359,7.446738787229745,1.8366625717615657,-13.232550778218142,7.040719214292947,-0.24267353792721558,9.953384955773068,-6.345401690957849,12.360773652899653,15.17160909678458,-1.9576400116935746,-12.238036135670598,-2.8972170921369185,-5.189041144778846,10.539757188887105,-0.4538592430694721,6.0450860725477655,-4.623341231366885,-1.6470284053757407,-4.804982177315875,9.204987665915306,2.534772125979189,5.443193357132923,-5.924511775739541,6.261391007969403,8.168777360496604,-11.080115454072384,-10.017082516767115,6.19114505958124,15.068203695234994,-4.189148125477248,-2.01724113912216,-5.656689375663746,6.004723656983742,-1.1228753572421306,7.596024040666613,9.304582256351067,1.957855132349121,1.0475533149716028,-7.578575639531599,-6.090866016394083,6.517404139559637,-11.370118291160184,7.18478494640234,-2.7619160052397924,9.776313656271803,-12.26744304596775,7.085845437930364,5.520554060983157,10.875379484882377,-2.8394496577548844,-5.4707136318978,3.8759221425565458,5.1168843009943,6.112459359846158,-6.347810735562042,-5.334176920887135,0.09589538409524767,-5.9486970086889945,4.206172506818598,0.8382495267573749,9.937354555991888,1.5154790213221307,11.726080868876817,-8.858151572216496,7.830953853037058,-10.895218842412824,5.541720276016955,4.0214501852103535,-3.9288252390909726,4.086799352211294,9.03221908511633,1.7276412455782406,-7.02000744863121,1.55227419536349,9.122462275965866,0.0049104063927649655,-1.817558671860092,-5.703592826451539,5.674905574208323,-1.4911427634284813,1.445796511434668,4.515905391146165,12.923382356669002],\"y\":[-5.413653609860722,-11.029772406090704,-1.5080701444276912,-9.530557355574924,-11.10099889695556,-20.26081848588245,-18.01641672536821,23.354005675309292,19.254923603222338,9.927282217361695,9.90629845857196,-10.23655259477347,16.199638782765753,-10.272155981566705,9.22073509324754,10.258989003250683,22.2722721596856,12.411231312049575,3.061104286269276,-22.054251297030234,11.734532023821577,-0.4044558965453593,16.588974926288447,-10.575669484929747,20.601289421499423,25.28601516130763,-3.2627333528226243,-20.39672689278433,-4.828695153561531,-8.648401907964743,17.566261981478508,-0.7564320717824531,10.075143454246277,-7.705568718944809,-2.7450473422929003,-8.008303628859794,15.341646109858841,4.224620209965315,9.071988928554873,-9.874186292899234,10.435651679949006,13.614628934161006,-18.466859090120643,-16.695137527945192,10.318575099302068,25.113672825391653,-6.981913542462079,-3.3620685652035993,-9.427815626106243,10.007872761639574,-1.8714589287368852,12.660040067777688,15.507637093918445,3.263091887248535,1.745922191619338,-12.630959399219329,-10.151443360656804,10.862340232599394,-18.95019715193364,11.974641577337232,-4.603193342066321,16.29385609378634,-20.44573840994625,11.809742396550607,9.200923434971932,18.12563247480396,-4.732416096258141,-9.117856053163,6.459870237594243,8.528140501657166,10.187432266410264,-10.57968455927007,-8.890294868145222,0.15982564015874612,-9.914495014481655,7.01028751136433,1.3970825445956248,16.562257593319814,2.525798368870219,19.543468114794695,-14.763585953694157,13.051589755061764,-18.158698070688036,9.23620046002826,6.702416975350589,-6.54804206515162,6.811332253685489,15.053698475193883,2.8794020759637355,-11.70001241438535,2.58712365893915,15.204103793276442,0.008184010654607832,-3.0292644531001534,-9.505988044085898,9.458175957013871,-2.485237939047469,2.4096608523911134,7.52650898524361,21.538970594448337],\"z\":[-1.0827307219721445,-2.2059544812181406,-0.30161402888553823,-1.906111471114985,-2.2201997793911117,-4.05216369717649,-3.603283345073642,4.670801135061859,3.850984720644468,1.985456443472339,1.981259691714392,-2.047310518954694,3.2399277565531506,-2.0544311963133413,1.8441470186495081,2.0517978006501365,4.454454431937119,2.482246262409915,0.6122208572538552,-4.410850259406047,2.3469064047643156,-0.08089117930907186,3.3177949852576893,-2.1151338969859497,4.1202578842998845,5.057203032261526,-0.6525466705645249,-4.079345378556866,-0.9657390307123062,-1.729680381592949,3.5132523962957016,-0.1512864143564907,2.015028690849255,-1.5411137437889617,-0.5490094684585802,-1.6016607257719584,3.0683292219717684,0.844924041993063,1.8143977857109745,-1.9748372585798468,2.087130335989801,2.722925786832201,-3.6933718180241284,-3.3390275055890384,2.0637150198604135,5.022734565078331,-1.3963827084924159,-0.67241371304072,-1.8855631252212488,2.0015745523279143,-0.37429178574737687,2.532008013555538,3.101527418783689,0.652618377449707,0.3491844383238676,-2.526191879843866,-2.030288672131361,2.172468046519879,-3.7900394303867277,2.3949283154674466,-0.9206386684132641,3.2587712187572677,-4.08914768198925,2.3619484793101213,1.840184686994386,3.625126494960792,-0.9464832192516281,-1.8235712106326,1.2919740475188486,1.7056281003314333,2.0374864532820527,-2.115936911854014,-1.7780589736290446,0.031965128031749224,-1.9828990028963314,1.402057502272866,0.27941650891912495,3.3124515186639627,0.5051596737740436,3.908693622958939,-2.9527171907388317,2.6103179510123526,-3.6317396141376075,1.8472400920056518,1.3404833950701178,-1.309608413030324,1.3622664507370978,3.0107396950387764,0.575880415192747,-2.34000248287707,0.51742473178783,3.0408207586552884,0.0016368021309216552,-0.6058528906200307,-1.9011976088171796,1.8916351914027745,-0.49704758780949376,0.4819321704782227,1.505301797048722,4.307794118889667],\"type\":\"scatter3d\"}],                        {\"template\":{\"data\":{\"histogram2dcontour\":[{\"type\":\"histogram2dcontour\",\"colorbar\":{\"outlinewidth\":0,\"ticks\":\"\"},\"colorscale\":[[0.0,\"#0d0887\"],[0.1111111111111111,\"#46039f\"],[0.2222222222222222,\"#7201a8\"],[0.3333333333333333,\"#9c179e\"],[0.4444444444444444,\"#bd3786\"],[0.5555555555555556,\"#d8576b\"],[0.6666666666666666,\"#ed7953\"],[0.7777777777777778,\"#fb9f3a\"],[0.8888888888888888,\"#fdca26\"],[1.0,\"#f0f921\"]]}],\"choropleth\":[{\"type\":\"choropleth\",\"colorbar\":{\"outlinewidth\":0,\"ticks\":\"\"}}],\"histogram2d\":[{\"type\":\"histogram2d\",\"colorbar\":{\"outlinewidth\":0,\"ticks\":\"\"},\"colorscale\":[[0.0,\"#0d0887\"],[0.1111111111111111,\"#46039f\"],[0.2222222222222222,\"#7201a8\"],[0.3333333333333333,\"#9c179e\"],[0.4444444444444444,\"#bd3786\"],[0.5555555555555556,\"#d8576b\"],[0.6666666666666666,\"#ed7953\"],[0.7777777777777778,\"#fb9f3a\"],[0.8888888888888888,\"#fdca26\"],[1.0,\"#f0f921\"]]}],\"heatmap\":[{\"type\":\"heatmap\",\"colorbar\":{\"outlinewidth\":0,\"ticks\":\"\"},\"colorscale\":[[0.0,\"#0d0887\"],[0.1111111111111111,\"#46039f\"],[0.2222222222222222,\"#7201a8\"],[0.3333333333333333,\"#9c179e\"],[0.4444444444444444,\"#bd3786\"],[0.5555555555555556,\"#d8576b\"],[0.6666666666666666,\"#ed7953\"],[0.7777777777777778,\"#fb9f3a\"],[0.8888888888888888,\"#fdca26\"],[1.0,\"#f0f921\"]]}],\"heatmapgl\":[{\"type\":\"heatmapgl\",\"colorbar\":{\"outlinewidth\":0,\"ticks\":\"\"},\"colorscale\":[[0.0,\"#0d0887\"],[0.1111111111111111,\"#46039f\"],[0.2222222222222222,\"#7201a8\"],[0.3333333333333333,\"#9c179e\"],[0.4444444444444444,\"#bd3786\"],[0.5555555555555556,\"#d8576b\"],[0.6666666666666666,\"#ed7953\"],[0.7777777777777778,\"#fb9f3a\"],[0.8888888888888888,\"#fdca26\"],[1.0,\"#f0f921\"]]}],\"contourcarpet\":[{\"type\":\"contourcarpet\",\"colorbar\":{\"outlinewidth\":0,\"ticks\":\"\"}}],\"contour\":[{\"type\":\"contour\",\"colorbar\":{\"outlinewidth\":0,\"ticks\":\"\"},\"colorscale\":[[0.0,\"#0d0887\"],[0.1111111111111111,\"#46039f\"],[0.2222222222222222,\"#7201a8\"],[0.3333333333333333,\"#9c179e\"],[0.4444444444444444,\"#bd3786\"],[0.5555555555555556,\"#d8576b\"],[0.6666666666666666,\"#ed7953\"],[0.7777777777777778,\"#fb9f3a\"],[0.8888888888888888,\"#fdca26\"],[1.0,\"#f0f921\"]]}],\"surface\":[{\"type\":\"surface\",\"colorbar\":{\"outlinewidth\":0,\"ticks\":\"\"},\"colorscale\":[[0.0,\"#0d0887\"],[0.1111111111111111,\"#46039f\"],[0.2222222222222222,\"#7201a8\"],[0.3333333333333333,\"#9c179e\"],[0.4444444444444444,\"#bd3786\"],[0.5555555555555556,\"#d8576b\"],[0.6666666666666666,\"#ed7953\"],[0.7777777777777778,\"#fb9f3a\"],[0.8888888888888888,\"#fdca26\"],[1.0,\"#f0f921\"]]}],\"mesh3d\":[{\"type\":\"mesh3d\",\"colorbar\":{\"outlinewidth\":0,\"ticks\":\"\"}}],\"scatter\":[{\"fillpattern\":{\"fillmode\":\"overlay\",\"size\":10,\"solidity\":0.2},\"type\":\"scatter\"}],\"parcoords\":[{\"type\":\"parcoords\",\"line\":{\"colorbar\":{\"outlinewidth\":0,\"ticks\":\"\"}}}],\"scatterpolargl\":[{\"type\":\"scatterpolargl\",\"marker\":{\"colorbar\":{\"outlinewidth\":0,\"ticks\":\"\"}}}],\"bar\":[{\"error_x\":{\"color\":\"#2a3f5f\"},\"error_y\":{\"color\":\"#2a3f5f\"},\"marker\":{\"line\":{\"color\":\"#E5ECF6\",\"width\":0.5},\"pattern\":{\"fillmode\":\"overlay\",\"size\":10,\"solidity\":0.2}},\"type\":\"bar\"}],\"scattergeo\":[{\"type\":\"scattergeo\",\"marker\":{\"colorbar\":{\"outlinewidth\":0,\"ticks\":\"\"}}}],\"scatterpolar\":[{\"type\":\"scatterpolar\",\"marker\":{\"colorbar\":{\"outlinewidth\":0,\"ticks\":\"\"}}}],\"histogram\":[{\"marker\":{\"pattern\":{\"fillmode\":\"overlay\",\"size\":10,\"solidity\":0.2}},\"type\":\"histogram\"}],\"scattergl\":[{\"type\":\"scattergl\",\"marker\":{\"colorbar\":{\"outlinewidth\":0,\"ticks\":\"\"}}}],\"scatter3d\":[{\"type\":\"scatter3d\",\"line\":{\"colorbar\":{\"outlinewidth\":0,\"ticks\":\"\"}},\"marker\":{\"colorbar\":{\"outlinewidth\":0,\"ticks\":\"\"}}}],\"scattermapbox\":[{\"type\":\"scattermapbox\",\"marker\":{\"colorbar\":{\"outlinewidth\":0,\"ticks\":\"\"}}}],\"scatterternary\":[{\"type\":\"scatterternary\",\"marker\":{\"colorbar\":{\"outlinewidth\":0,\"ticks\":\"\"}}}],\"scattercarpet\":[{\"type\":\"scattercarpet\",\"marker\":{\"colorbar\":{\"outlinewidth\":0,\"ticks\":\"\"}}}],\"carpet\":[{\"aaxis\":{\"endlinecolor\":\"#2a3f5f\",\"gridcolor\":\"white\",\"linecolor\":\"white\",\"minorgridcolor\":\"white\",\"startlinecolor\":\"#2a3f5f\"},\"baxis\":{\"endlinecolor\":\"#2a3f5f\",\"gridcolor\":\"white\",\"linecolor\":\"white\",\"minorgridcolor\":\"white\",\"startlinecolor\":\"#2a3f5f\"},\"type\":\"carpet\"}],\"table\":[{\"cells\":{\"fill\":{\"color\":\"#EBF0F8\"},\"line\":{\"color\":\"white\"}},\"header\":{\"fill\":{\"color\":\"#C8D4E3\"},\"line\":{\"color\":\"white\"}},\"type\":\"table\"}],\"barpolar\":[{\"marker\":{\"line\":{\"color\":\"#E5ECF6\",\"width\":0.5},\"pattern\":{\"fillmode\":\"overlay\",\"size\":10,\"solidity\":0.2}},\"type\":\"barpolar\"}],\"pie\":[{\"automargin\":true,\"type\":\"pie\"}]},\"layout\":{\"autotypenumbers\":\"strict\",\"colorway\":[\"#636efa\",\"#EF553B\",\"#00cc96\",\"#ab63fa\",\"#FFA15A\",\"#19d3f3\",\"#FF6692\",\"#B6E880\",\"#FF97FF\",\"#FECB52\"],\"font\":{\"color\":\"#2a3f5f\"},\"hovermode\":\"closest\",\"hoverlabel\":{\"align\":\"left\"},\"paper_bgcolor\":\"white\",\"plot_bgcolor\":\"#E5ECF6\",\"polar\":{\"bgcolor\":\"#E5ECF6\",\"angularaxis\":{\"gridcolor\":\"white\",\"linecolor\":\"white\",\"ticks\":\"\"},\"radialaxis\":{\"gridcolor\":\"white\",\"linecolor\":\"white\",\"ticks\":\"\"}},\"ternary\":{\"bgcolor\":\"#E5ECF6\",\"aaxis\":{\"gridcolor\":\"white\",\"linecolor\":\"white\",\"ticks\":\"\"},\"baxis\":{\"gridcolor\":\"white\",\"linecolor\":\"white\",\"ticks\":\"\"},\"caxis\":{\"gridcolor\":\"white\",\"linecolor\":\"white\",\"ticks\":\"\"}},\"coloraxis\":{\"colorbar\":{\"outlinewidth\":0,\"ticks\":\"\"}},\"colorscale\":{\"sequential\":[[0.0,\"#0d0887\"],[0.1111111111111111,\"#46039f\"],[0.2222222222222222,\"#7201a8\"],[0.3333333333333333,\"#9c179e\"],[0.4444444444444444,\"#bd3786\"],[0.5555555555555556,\"#d8576b\"],[0.6666666666666666,\"#ed7953\"],[0.7777777777777778,\"#fb9f3a\"],[0.8888888888888888,\"#fdca26\"],[1.0,\"#f0f921\"]],\"sequentialminus\":[[0.0,\"#0d0887\"],[0.1111111111111111,\"#46039f\"],[0.2222222222222222,\"#7201a8\"],[0.3333333333333333,\"#9c179e\"],[0.4444444444444444,\"#bd3786\"],[0.5555555555555556,\"#d8576b\"],[0.6666666666666666,\"#ed7953\"],[0.7777777777777778,\"#fb9f3a\"],[0.8888888888888888,\"#fdca26\"],[1.0,\"#f0f921\"]],\"diverging\":[[0,\"#8e0152\"],[0.1,\"#c51b7d\"],[0.2,\"#de77ae\"],[0.3,\"#f1b6da\"],[0.4,\"#fde0ef\"],[0.5,\"#f7f7f7\"],[0.6,\"#e6f5d0\"],[0.7,\"#b8e186\"],[0.8,\"#7fbc41\"],[0.9,\"#4d9221\"],[1,\"#276419\"]]},\"xaxis\":{\"gridcolor\":\"white\",\"linecolor\":\"white\",\"ticks\":\"\",\"title\":{\"standoff\":15},\"zerolinecolor\":\"white\",\"automargin\":true,\"zerolinewidth\":2},\"yaxis\":{\"gridcolor\":\"white\",\"linecolor\":\"white\",\"ticks\":\"\",\"title\":{\"standoff\":15},\"zerolinecolor\":\"white\",\"automargin\":true,\"zerolinewidth\":2},\"scene\":{\"xaxis\":{\"backgroundcolor\":\"#E5ECF6\",\"gridcolor\":\"white\",\"linecolor\":\"white\",\"showbackground\":true,\"ticks\":\"\",\"zerolinecolor\":\"white\",\"gridwidth\":2},\"yaxis\":{\"backgroundcolor\":\"#E5ECF6\",\"gridcolor\":\"white\",\"linecolor\":\"white\",\"showbackground\":true,\"ticks\":\"\",\"zerolinecolor\":\"white\",\"gridwidth\":2},\"zaxis\":{\"backgroundcolor\":\"#E5ECF6\",\"gridcolor\":\"white\",\"linecolor\":\"white\",\"showbackground\":true,\"ticks\":\"\",\"zerolinecolor\":\"white\",\"gridwidth\":2}},\"shapedefaults\":{\"line\":{\"color\":\"#2a3f5f\"}},\"annotationdefaults\":{\"arrowcolor\":\"#2a3f5f\",\"arrowhead\":0,\"arrowwidth\":1},\"geo\":{\"bgcolor\":\"white\",\"landcolor\":\"#E5ECF6\",\"subunitcolor\":\"white\",\"showland\":true,\"showlakes\":true,\"lakecolor\":\"white\"},\"title\":{\"x\":0.05},\"mapbox\":{\"style\":\"light\"}}},\"margin\":{\"l\":0,\"r\":0,\"b\":0,\"t\":0}},                        {\"responsive\": true}                    ).then(function(){\n",
       "                            \n",
       "var gd = document.getElementById('fbbaa7b5-ddc8-406f-b027-2ae37e1ad9a7');\n",
       "var x = new MutationObserver(function (mutations, observer) {{\n",
       "        var display = window.getComputedStyle(gd).display;\n",
       "        if (!display || display === 'none') {{\n",
       "            console.log([gd, 'removed!']);\n",
       "            Plotly.purge(gd);\n",
       "            observer.disconnect();\n",
       "        }}\n",
       "}});\n",
       "\n",
       "// Listen for the removal of the full notebook cells\n",
       "var notebookContainer = gd.closest('#notebook-container');\n",
       "if (notebookContainer) {{\n",
       "    x.observe(notebookContainer, {childList: true});\n",
       "}}\n",
       "\n",
       "// Listen for the clearing of the current output cell\n",
       "var outputEl = gd.closest('.output');\n",
       "if (outputEl) {{\n",
       "    x.observe(outputEl, {childList: true});\n",
       "}}\n",
       "\n",
       "                        })                };                });            </script>        </div>"
      ]
     },
     "metadata": {},
     "output_type": "display_data"
    }
   ],
   "source": [
    "import plotly.graph_objects as go\n",
    "import pprint\n",
    "\n",
    "v1 = np.array([3, 5, 1])\n",
    "v2 = np.array([1.5, 2.5, 0.5])\n",
    "V = []\n",
    "scalars1 = []\n",
    "scalars2 = []\n",
    "\n",
    "for i in range(0, 100):\n",
    "    scalars1.append(random.uniform(-4, 4))\n",
    "    scalars2.append(random.uniform(-4, 4))\n",
    "    \n",
    "for s1, s2 in zip(scalars1, scalars2):\n",
    "    V.append(s1*v1 + s2*v2)\n",
    "    \n",
    "print(\"min x:\", min(V[0]))\n",
    "print(\"min y:\", min(V[1]))\n",
    "print(\"min z:\", min(V[2]))\n",
    "V = np.array(V)\n",
    "print(np.shape(V))\n",
    "# draw the dots in the plane\n",
    "fig = go.Figure( data=[go.Scatter3d(x=V[:,0], y=V[:,1], z=V[:,2], \n",
    "                                    mode='markers', marker=dict(size=6,color='black') )])\n",
    "\n",
    "fig.update_layout(margin=dict(l=0,r=0,b=0,t=0))\n",
    "fig.show()"
   ]
  },
  {
   "cell_type": "markdown",
   "metadata": {
    "id": "m3p0sJfGYJEC"
   },
   "source": [
    "# Exercises"
   ]
  },
  {
   "cell_type": "markdown",
   "metadata": {
    "id": "dPpXof4wYgcM"
   },
   "source": [
    "# Exercise 1"
   ]
  },
  {
   "cell_type": "code",
   "execution_count": 23,
   "metadata": {
    "id": "2YX1MnwPRA9w"
   },
   "outputs": [
    {
     "data": {
      "text/plain": [
       "array([ 13., -34.,  -3.])"
      ]
     },
     "execution_count": 23,
     "metadata": {},
     "output_type": "execute_result"
    }
   ],
   "source": [
    "## Note: Make sure you run the code earlier to create variables l1, l2, etc.\n",
    "\n",
    "# organized into lists\n",
    "scalars = [ l1,l2,l3 ]\n",
    "vectors = [ v1,v2,v3 ]\n",
    "\n",
    "# initialize the linear combination\n",
    "linCombo = np.zeros(len(v1))\n",
    "\n",
    "# implement linear weighted combination using zip()\n",
    "for s,v in zip(scalars,vectors):\n",
    "  linCombo += s*v\n",
    "\n",
    "# confirm it's the same answer as above\n",
    "linCombo"
   ]
  },
  {
   "cell_type": "code",
   "execution_count": null,
   "metadata": {
    "id": "oko9ARd3Yhi8"
   },
   "outputs": [],
   "source": []
  },
  {
   "cell_type": "markdown",
   "metadata": {
    "id": "gaDegzriYJHQ"
   },
   "source": [
    "# Exercise 2"
   ]
  },
  {
   "cell_type": "code",
   "execution_count": null,
   "metadata": {
    "id": "dxEDtY-VZEGW"
   },
   "outputs": [],
   "source": [
    "# Whether it works or throws an error depends on how you set up the code.\n",
    "# Using zip() as above works, because zip() will use only the minimum-matching items.\n",
    "# Re-writing the code using indexing will cause an error, as in the code below.\n",
    "\n",
    "# make the scalars longer\n",
    "scalars = [ l1,l2,l3,5 ]\n",
    "vectors = [ v1,v2,v3 ]\n",
    "\n",
    "linCombo = np.zeros(len(v1))\n",
    "\n",
    "for i in range(len(scalars)):\n",
    "  linCombo += scalars[i]*vectors[i]"
   ]
  },
  {
   "cell_type": "code",
   "execution_count": null,
   "metadata": {
    "id": "zcphFAUCYJN2"
   },
   "outputs": [],
   "source": []
  },
  {
   "cell_type": "markdown",
   "metadata": {
    "id": "RMG1ofpwuPBj"
   },
   "source": [
    "# Exercise 3"
   ]
  },
  {
   "cell_type": "code",
   "execution_count": 103,
   "metadata": {
    "id": "yFBpjwwjuRfP"
   },
   "outputs": [
    {
     "data": {
      "image/svg+xml": [
       "<?xml version=\"1.0\" encoding=\"utf-8\" standalone=\"no\"?>\n",
       "<!DOCTYPE svg PUBLIC \"-//W3C//DTD SVG 1.1//EN\"\n",
       "  \"http://www.w3.org/Graphics/SVG/1.1/DTD/svg11.dtd\">\n",
       "<svg xmlns:xlink=\"http://www.w3.org/1999/xlink\" width=\"381.292812pt\" height=\"402.056563pt\" viewBox=\"0 0 381.292812 402.056563\" xmlns=\"http://www.w3.org/2000/svg\" version=\"1.1\">\n",
       " <metadata>\n",
       "  <rdf:RDF xmlns:dc=\"http://purl.org/dc/elements/1.1/\" xmlns:cc=\"http://creativecommons.org/ns#\" xmlns:rdf=\"http://www.w3.org/1999/02/22-rdf-syntax-ns#\">\n",
       "   <cc:Work>\n",
       "    <dc:type rdf:resource=\"http://purl.org/dc/dcmitype/StillImage\"/>\n",
       "    <dc:date>2023-01-24T14:06:47.062960</dc:date>\n",
       "    <dc:format>image/svg+xml</dc:format>\n",
       "    <dc:creator>\n",
       "     <cc:Agent>\n",
       "      <dc:title>Matplotlib v3.5.2, https://matplotlib.org/</dc:title>\n",
       "     </cc:Agent>\n",
       "    </dc:creator>\n",
       "   </cc:Work>\n",
       "  </rdf:RDF>\n",
       " </metadata>\n",
       " <defs>\n",
       "  <style type=\"text/css\">*{stroke-linejoin: round; stroke-linecap: butt}</style>\n",
       " </defs>\n",
       " <g id=\"figure_1\">\n",
       "  <g id=\"patch_1\">\n",
       "   <path d=\"M 0 402.056563 \n",
       "L 381.292812 402.056563 \n",
       "L 381.292812 0 \n",
       "L 0 0 \n",
       "z\n",
       "\" style=\"fill: #ffffff\"/>\n",
       "  </g>\n",
       "  <g id=\"axes_1\">\n",
       "   <g id=\"patch_2\">\n",
       "    <path d=\"M 34.839063 374.307188 \n",
       "L 369.639063 374.307188 \n",
       "L 369.639063 41.667188 \n",
       "L 34.839063 41.667188 \n",
       "z\n",
       "\" style=\"fill: #ffffff\"/>\n",
       "   </g>\n",
       "   <g id=\"matplotlib.axis_1\">\n",
       "    <g id=\"xtick_1\">\n",
       "     <g id=\"line2d_1\">\n",
       "      <path d=\"M 34.839063 374.307188 \n",
       "L 34.839063 41.667188 \n",
       "\" clip-path=\"url(#p1d1f1cd2e8)\" style=\"fill: none; stroke: #b0b0b0; stroke-width: 0.8; stroke-linecap: square\"/>\n",
       "     </g>\n",
       "     <g id=\"line2d_2\">\n",
       "      <defs>\n",
       "       <path id=\"m62ae96480f\" d=\"M 0 0 \n",
       "L 0 3.5 \n",
       "\" style=\"stroke: #000000; stroke-width: 0.8\"/>\n",
       "      </defs>\n",
       "      <g>\n",
       "       <use xlink:href=\"#m62ae96480f\" x=\"34.839063\" y=\"374.307188\" style=\"stroke: #000000; stroke-width: 0.8\"/>\n",
       "      </g>\n",
       "     </g>\n",
       "     <g id=\"text_1\">\n",
       "      <!-- −4 -->\n",
       "      <g transform=\"translate(24.519531 391.945)scale(0.14 -0.14)\">\n",
       "       <defs>\n",
       "        <path id=\"DejaVuSans-2212\" d=\"M 678 2272 \n",
       "L 4684 2272 \n",
       "L 4684 1741 \n",
       "L 678 1741 \n",
       "L 678 2272 \n",
       "z\n",
       "\" transform=\"scale(0.015625)\"/>\n",
       "        <path id=\"DejaVuSans-34\" d=\"M 2419 4116 \n",
       "L 825 1625 \n",
       "L 2419 1625 \n",
       "L 2419 4116 \n",
       "z\n",
       "M 2253 4666 \n",
       "L 3047 4666 \n",
       "L 3047 1625 \n",
       "L 3713 1625 \n",
       "L 3713 1100 \n",
       "L 3047 1100 \n",
       "L 3047 0 \n",
       "L 2419 0 \n",
       "L 2419 1100 \n",
       "L 313 1100 \n",
       "L 313 1709 \n",
       "L 2253 4666 \n",
       "z\n",
       "\" transform=\"scale(0.015625)\"/>\n",
       "       </defs>\n",
       "       <use xlink:href=\"#DejaVuSans-2212\"/>\n",
       "       <use xlink:href=\"#DejaVuSans-34\" x=\"83.789062\"/>\n",
       "      </g>\n",
       "     </g>\n",
       "    </g>\n",
       "    <g id=\"xtick_2\">\n",
       "     <g id=\"line2d_3\">\n",
       "      <path d=\"M 118.539063 374.307188 \n",
       "L 118.539063 41.667188 \n",
       "\" clip-path=\"url(#p1d1f1cd2e8)\" style=\"fill: none; stroke: #b0b0b0; stroke-width: 0.8; stroke-linecap: square\"/>\n",
       "     </g>\n",
       "     <g id=\"line2d_4\">\n",
       "      <g>\n",
       "       <use xlink:href=\"#m62ae96480f\" x=\"118.539063\" y=\"374.307188\" style=\"stroke: #000000; stroke-width: 0.8\"/>\n",
       "      </g>\n",
       "     </g>\n",
       "     <g id=\"text_2\">\n",
       "      <!-- −2 -->\n",
       "      <g transform=\"translate(108.219531 391.945)scale(0.14 -0.14)\">\n",
       "       <defs>\n",
       "        <path id=\"DejaVuSans-32\" d=\"M 1228 531 \n",
       "L 3431 531 \n",
       "L 3431 0 \n",
       "L 469 0 \n",
       "L 469 531 \n",
       "Q 828 903 1448 1529 \n",
       "Q 2069 2156 2228 2338 \n",
       "Q 2531 2678 2651 2914 \n",
       "Q 2772 3150 2772 3378 \n",
       "Q 2772 3750 2511 3984 \n",
       "Q 2250 4219 1831 4219 \n",
       "Q 1534 4219 1204 4116 \n",
       "Q 875 4013 500 3803 \n",
       "L 500 4441 \n",
       "Q 881 4594 1212 4672 \n",
       "Q 1544 4750 1819 4750 \n",
       "Q 2544 4750 2975 4387 \n",
       "Q 3406 4025 3406 3419 \n",
       "Q 3406 3131 3298 2873 \n",
       "Q 3191 2616 2906 2266 \n",
       "Q 2828 2175 2409 1742 \n",
       "Q 1991 1309 1228 531 \n",
       "z\n",
       "\" transform=\"scale(0.015625)\"/>\n",
       "       </defs>\n",
       "       <use xlink:href=\"#DejaVuSans-2212\"/>\n",
       "       <use xlink:href=\"#DejaVuSans-32\" x=\"83.789062\"/>\n",
       "      </g>\n",
       "     </g>\n",
       "    </g>\n",
       "    <g id=\"xtick_3\">\n",
       "     <g id=\"line2d_5\">\n",
       "      <path d=\"M 202.239063 374.307188 \n",
       "L 202.239063 41.667188 \n",
       "\" clip-path=\"url(#p1d1f1cd2e8)\" style=\"fill: none; stroke: #b0b0b0; stroke-width: 0.8; stroke-linecap: square\"/>\n",
       "     </g>\n",
       "     <g id=\"line2d_6\">\n",
       "      <g>\n",
       "       <use xlink:href=\"#m62ae96480f\" x=\"202.239063\" y=\"374.307188\" style=\"stroke: #000000; stroke-width: 0.8\"/>\n",
       "      </g>\n",
       "     </g>\n",
       "     <g id=\"text_3\">\n",
       "      <!-- 0 -->\n",
       "      <g transform=\"translate(197.785313 391.945)scale(0.14 -0.14)\">\n",
       "       <defs>\n",
       "        <path id=\"DejaVuSans-30\" d=\"M 2034 4250 \n",
       "Q 1547 4250 1301 3770 \n",
       "Q 1056 3291 1056 2328 \n",
       "Q 1056 1369 1301 889 \n",
       "Q 1547 409 2034 409 \n",
       "Q 2525 409 2770 889 \n",
       "Q 3016 1369 3016 2328 \n",
       "Q 3016 3291 2770 3770 \n",
       "Q 2525 4250 2034 4250 \n",
       "z\n",
       "M 2034 4750 \n",
       "Q 2819 4750 3233 4129 \n",
       "Q 3647 3509 3647 2328 \n",
       "Q 3647 1150 3233 529 \n",
       "Q 2819 -91 2034 -91 \n",
       "Q 1250 -91 836 529 \n",
       "Q 422 1150 422 2328 \n",
       "Q 422 3509 836 4129 \n",
       "Q 1250 4750 2034 4750 \n",
       "z\n",
       "\" transform=\"scale(0.015625)\"/>\n",
       "       </defs>\n",
       "       <use xlink:href=\"#DejaVuSans-30\"/>\n",
       "      </g>\n",
       "     </g>\n",
       "    </g>\n",
       "    <g id=\"xtick_4\">\n",
       "     <g id=\"line2d_7\">\n",
       "      <path d=\"M 285.939063 374.307188 \n",
       "L 285.939063 41.667188 \n",
       "\" clip-path=\"url(#p1d1f1cd2e8)\" style=\"fill: none; stroke: #b0b0b0; stroke-width: 0.8; stroke-linecap: square\"/>\n",
       "     </g>\n",
       "     <g id=\"line2d_8\">\n",
       "      <g>\n",
       "       <use xlink:href=\"#m62ae96480f\" x=\"285.939063\" y=\"374.307188\" style=\"stroke: #000000; stroke-width: 0.8\"/>\n",
       "      </g>\n",
       "     </g>\n",
       "     <g id=\"text_4\">\n",
       "      <!-- 2 -->\n",
       "      <g transform=\"translate(281.485313 391.945)scale(0.14 -0.14)\">\n",
       "       <use xlink:href=\"#DejaVuSans-32\"/>\n",
       "      </g>\n",
       "     </g>\n",
       "    </g>\n",
       "    <g id=\"xtick_5\">\n",
       "     <g id=\"line2d_9\">\n",
       "      <path d=\"M 369.639063 374.307188 \n",
       "L 369.639063 41.667188 \n",
       "\" clip-path=\"url(#p1d1f1cd2e8)\" style=\"fill: none; stroke: #b0b0b0; stroke-width: 0.8; stroke-linecap: square\"/>\n",
       "     </g>\n",
       "     <g id=\"line2d_10\">\n",
       "      <g>\n",
       "       <use xlink:href=\"#m62ae96480f\" x=\"369.639063\" y=\"374.307188\" style=\"stroke: #000000; stroke-width: 0.8\"/>\n",
       "      </g>\n",
       "     </g>\n",
       "     <g id=\"text_5\">\n",
       "      <!-- 4 -->\n",
       "      <g transform=\"translate(365.185313 391.945)scale(0.14 -0.14)\">\n",
       "       <use xlink:href=\"#DejaVuSans-34\"/>\n",
       "      </g>\n",
       "     </g>\n",
       "    </g>\n",
       "   </g>\n",
       "   <g id=\"matplotlib.axis_2\">\n",
       "    <g id=\"ytick_1\">\n",
       "     <g id=\"line2d_11\">\n",
       "      <path d=\"M 34.839063 374.307188 \n",
       "L 369.639063 374.307188 \n",
       "\" clip-path=\"url(#p1d1f1cd2e8)\" style=\"fill: none; stroke: #b0b0b0; stroke-width: 0.8; stroke-linecap: square\"/>\n",
       "     </g>\n",
       "     <g id=\"line2d_12\">\n",
       "      <defs>\n",
       "       <path id=\"m51ee348904\" d=\"M 0 0 \n",
       "L -3.5 0 \n",
       "\" style=\"stroke: #000000; stroke-width: 0.8\"/>\n",
       "      </defs>\n",
       "      <g>\n",
       "       <use xlink:href=\"#m51ee348904\" x=\"34.839063\" y=\"374.307188\" style=\"stroke: #000000; stroke-width: 0.8\"/>\n",
       "      </g>\n",
       "     </g>\n",
       "     <g id=\"text_6\">\n",
       "      <!-- −4 -->\n",
       "      <g transform=\"translate(7.2 379.626094)scale(0.14 -0.14)\">\n",
       "       <use xlink:href=\"#DejaVuSans-2212\"/>\n",
       "       <use xlink:href=\"#DejaVuSans-34\" x=\"83.789062\"/>\n",
       "      </g>\n",
       "     </g>\n",
       "    </g>\n",
       "    <g id=\"ytick_2\">\n",
       "     <g id=\"line2d_13\">\n",
       "      <path d=\"M 34.839063 332.727188 \n",
       "L 369.639063 332.727188 \n",
       "\" clip-path=\"url(#p1d1f1cd2e8)\" style=\"fill: none; stroke: #b0b0b0; stroke-width: 0.8; stroke-linecap: square\"/>\n",
       "     </g>\n",
       "     <g id=\"line2d_14\">\n",
       "      <g>\n",
       "       <use xlink:href=\"#m51ee348904\" x=\"34.839063\" y=\"332.727188\" style=\"stroke: #000000; stroke-width: 0.8\"/>\n",
       "      </g>\n",
       "     </g>\n",
       "     <g id=\"text_7\">\n",
       "      <!-- −3 -->\n",
       "      <g transform=\"translate(7.2 338.046094)scale(0.14 -0.14)\">\n",
       "       <defs>\n",
       "        <path id=\"DejaVuSans-33\" d=\"M 2597 2516 \n",
       "Q 3050 2419 3304 2112 \n",
       "Q 3559 1806 3559 1356 \n",
       "Q 3559 666 3084 287 \n",
       "Q 2609 -91 1734 -91 \n",
       "Q 1441 -91 1130 -33 \n",
       "Q 819 25 488 141 \n",
       "L 488 750 \n",
       "Q 750 597 1062 519 \n",
       "Q 1375 441 1716 441 \n",
       "Q 2309 441 2620 675 \n",
       "Q 2931 909 2931 1356 \n",
       "Q 2931 1769 2642 2001 \n",
       "Q 2353 2234 1838 2234 \n",
       "L 1294 2234 \n",
       "L 1294 2753 \n",
       "L 1863 2753 \n",
       "Q 2328 2753 2575 2939 \n",
       "Q 2822 3125 2822 3475 \n",
       "Q 2822 3834 2567 4026 \n",
       "Q 2313 4219 1838 4219 \n",
       "Q 1578 4219 1281 4162 \n",
       "Q 984 4106 628 3988 \n",
       "L 628 4550 \n",
       "Q 988 4650 1302 4700 \n",
       "Q 1616 4750 1894 4750 \n",
       "Q 2613 4750 3031 4423 \n",
       "Q 3450 4097 3450 3541 \n",
       "Q 3450 3153 3228 2886 \n",
       "Q 3006 2619 2597 2516 \n",
       "z\n",
       "\" transform=\"scale(0.015625)\"/>\n",
       "       </defs>\n",
       "       <use xlink:href=\"#DejaVuSans-2212\"/>\n",
       "       <use xlink:href=\"#DejaVuSans-33\" x=\"83.789062\"/>\n",
       "      </g>\n",
       "     </g>\n",
       "    </g>\n",
       "    <g id=\"ytick_3\">\n",
       "     <g id=\"line2d_15\">\n",
       "      <path d=\"M 34.839063 291.147188 \n",
       "L 369.639063 291.147188 \n",
       "\" clip-path=\"url(#p1d1f1cd2e8)\" style=\"fill: none; stroke: #b0b0b0; stroke-width: 0.8; stroke-linecap: square\"/>\n",
       "     </g>\n",
       "     <g id=\"line2d_16\">\n",
       "      <g>\n",
       "       <use xlink:href=\"#m51ee348904\" x=\"34.839063\" y=\"291.147188\" style=\"stroke: #000000; stroke-width: 0.8\"/>\n",
       "      </g>\n",
       "     </g>\n",
       "     <g id=\"text_8\">\n",
       "      <!-- −2 -->\n",
       "      <g transform=\"translate(7.2 296.466094)scale(0.14 -0.14)\">\n",
       "       <use xlink:href=\"#DejaVuSans-2212\"/>\n",
       "       <use xlink:href=\"#DejaVuSans-32\" x=\"83.789062\"/>\n",
       "      </g>\n",
       "     </g>\n",
       "    </g>\n",
       "    <g id=\"ytick_4\">\n",
       "     <g id=\"line2d_17\">\n",
       "      <path d=\"M 34.839063 249.567188 \n",
       "L 369.639063 249.567188 \n",
       "\" clip-path=\"url(#p1d1f1cd2e8)\" style=\"fill: none; stroke: #b0b0b0; stroke-width: 0.8; stroke-linecap: square\"/>\n",
       "     </g>\n",
       "     <g id=\"line2d_18\">\n",
       "      <g>\n",
       "       <use xlink:href=\"#m51ee348904\" x=\"34.839063\" y=\"249.567188\" style=\"stroke: #000000; stroke-width: 0.8\"/>\n",
       "      </g>\n",
       "     </g>\n",
       "     <g id=\"text_9\">\n",
       "      <!-- −1 -->\n",
       "      <g transform=\"translate(7.2 254.886094)scale(0.14 -0.14)\">\n",
       "       <defs>\n",
       "        <path id=\"DejaVuSans-31\" d=\"M 794 531 \n",
       "L 1825 531 \n",
       "L 1825 4091 \n",
       "L 703 3866 \n",
       "L 703 4441 \n",
       "L 1819 4666 \n",
       "L 2450 4666 \n",
       "L 2450 531 \n",
       "L 3481 531 \n",
       "L 3481 0 \n",
       "L 794 0 \n",
       "L 794 531 \n",
       "z\n",
       "\" transform=\"scale(0.015625)\"/>\n",
       "       </defs>\n",
       "       <use xlink:href=\"#DejaVuSans-2212\"/>\n",
       "       <use xlink:href=\"#DejaVuSans-31\" x=\"83.789062\"/>\n",
       "      </g>\n",
       "     </g>\n",
       "    </g>\n",
       "    <g id=\"ytick_5\">\n",
       "     <g id=\"line2d_19\">\n",
       "      <path d=\"M 34.839063 207.987188 \n",
       "L 369.639063 207.987188 \n",
       "\" clip-path=\"url(#p1d1f1cd2e8)\" style=\"fill: none; stroke: #b0b0b0; stroke-width: 0.8; stroke-linecap: square\"/>\n",
       "     </g>\n",
       "     <g id=\"line2d_20\">\n",
       "      <g>\n",
       "       <use xlink:href=\"#m51ee348904\" x=\"34.839063\" y=\"207.987188\" style=\"stroke: #000000; stroke-width: 0.8\"/>\n",
       "      </g>\n",
       "     </g>\n",
       "     <g id=\"text_10\">\n",
       "      <!-- 0 -->\n",
       "      <g transform=\"translate(18.931563 213.306094)scale(0.14 -0.14)\">\n",
       "       <use xlink:href=\"#DejaVuSans-30\"/>\n",
       "      </g>\n",
       "     </g>\n",
       "    </g>\n",
       "    <g id=\"ytick_6\">\n",
       "     <g id=\"line2d_21\">\n",
       "      <path d=\"M 34.839063 166.407187 \n",
       "L 369.639063 166.407187 \n",
       "\" clip-path=\"url(#p1d1f1cd2e8)\" style=\"fill: none; stroke: #b0b0b0; stroke-width: 0.8; stroke-linecap: square\"/>\n",
       "     </g>\n",
       "     <g id=\"line2d_22\">\n",
       "      <g>\n",
       "       <use xlink:href=\"#m51ee348904\" x=\"34.839063\" y=\"166.407187\" style=\"stroke: #000000; stroke-width: 0.8\"/>\n",
       "      </g>\n",
       "     </g>\n",
       "     <g id=\"text_11\">\n",
       "      <!-- 1 -->\n",
       "      <g transform=\"translate(18.931563 171.726094)scale(0.14 -0.14)\">\n",
       "       <use xlink:href=\"#DejaVuSans-31\"/>\n",
       "      </g>\n",
       "     </g>\n",
       "    </g>\n",
       "    <g id=\"ytick_7\">\n",
       "     <g id=\"line2d_23\">\n",
       "      <path d=\"M 34.839063 124.827187 \n",
       "L 369.639063 124.827187 \n",
       "\" clip-path=\"url(#p1d1f1cd2e8)\" style=\"fill: none; stroke: #b0b0b0; stroke-width: 0.8; stroke-linecap: square\"/>\n",
       "     </g>\n",
       "     <g id=\"line2d_24\">\n",
       "      <g>\n",
       "       <use xlink:href=\"#m51ee348904\" x=\"34.839063\" y=\"124.827187\" style=\"stroke: #000000; stroke-width: 0.8\"/>\n",
       "      </g>\n",
       "     </g>\n",
       "     <g id=\"text_12\">\n",
       "      <!-- 2 -->\n",
       "      <g transform=\"translate(18.931563 130.146094)scale(0.14 -0.14)\">\n",
       "       <use xlink:href=\"#DejaVuSans-32\"/>\n",
       "      </g>\n",
       "     </g>\n",
       "    </g>\n",
       "    <g id=\"ytick_8\">\n",
       "     <g id=\"line2d_25\">\n",
       "      <path d=\"M 34.839063 83.247187 \n",
       "L 369.639063 83.247187 \n",
       "\" clip-path=\"url(#p1d1f1cd2e8)\" style=\"fill: none; stroke: #b0b0b0; stroke-width: 0.8; stroke-linecap: square\"/>\n",
       "     </g>\n",
       "     <g id=\"line2d_26\">\n",
       "      <g>\n",
       "       <use xlink:href=\"#m51ee348904\" x=\"34.839063\" y=\"83.247187\" style=\"stroke: #000000; stroke-width: 0.8\"/>\n",
       "      </g>\n",
       "     </g>\n",
       "     <g id=\"text_13\">\n",
       "      <!-- 3 -->\n",
       "      <g transform=\"translate(18.931563 88.566094)scale(0.14 -0.14)\">\n",
       "       <use xlink:href=\"#DejaVuSans-33\"/>\n",
       "      </g>\n",
       "     </g>\n",
       "    </g>\n",
       "    <g id=\"ytick_9\">\n",
       "     <g id=\"line2d_27\">\n",
       "      <path d=\"M 34.839063 41.667187 \n",
       "L 369.639063 41.667187 \n",
       "\" clip-path=\"url(#p1d1f1cd2e8)\" style=\"fill: none; stroke: #b0b0b0; stroke-width: 0.8; stroke-linecap: square\"/>\n",
       "     </g>\n",
       "     <g id=\"line2d_28\">\n",
       "      <g>\n",
       "       <use xlink:href=\"#m51ee348904\" x=\"34.839063\" y=\"41.667187\" style=\"stroke: #000000; stroke-width: 0.8\"/>\n",
       "      </g>\n",
       "     </g>\n",
       "     <g id=\"text_14\">\n",
       "      <!-- 4 -->\n",
       "      <g transform=\"translate(18.931563 46.986094)scale(0.14 -0.14)\">\n",
       "       <use xlink:href=\"#DejaVuSans-34\"/>\n",
       "      </g>\n",
       "     </g>\n",
       "    </g>\n",
       "   </g>\n",
       "   <g id=\"line2d_29\">\n",
       "    <defs>\n",
       "     <path id=\"mcf3419525c\" d=\"M 0 3 \n",
       "C 0.795609 3 1.55874 2.683901 2.12132 2.12132 \n",
       "C 2.683901 1.55874 3 0.795609 3 0 \n",
       "C 3 -0.795609 2.683901 -1.55874 2.12132 -2.12132 \n",
       "C 1.55874 -2.683901 0.795609 -3 0 -3 \n",
       "C -0.795609 -3 -1.55874 -2.683901 -2.12132 -2.12132 \n",
       "C -2.683901 -1.55874 -3 -0.795609 -3 0 \n",
       "C -3 0.795609 -2.683901 1.55874 -2.12132 2.12132 \n",
       "C -1.55874 2.683901 -0.795609 3 0 3 \n",
       "z\n",
       "\" style=\"stroke: #000000\"/>\n",
       "    </defs>\n",
       "    <g clip-path=\"url(#p1d1f1cd2e8)\"/>\n",
       "   </g>\n",
       "   <g id=\"line2d_30\">\n",
       "    <g clip-path=\"url(#p1d1f1cd2e8)\">\n",
       "     <use xlink:href=\"#mcf3419525c\" x=\"76.08327\" y=\"584.012839\" style=\"stroke: #000000\"/>\n",
       "    </g>\n",
       "   </g>\n",
       "   <g id=\"line2d_31\">\n",
       "    <g clip-path=\"url(#p1d1f1cd2e8)\">\n",
       "     <use xlink:href=\"#mcf3419525c\" x=\"208.844647\" y=\"188.298283\" style=\"stroke: #000000\"/>\n",
       "    </g>\n",
       "   </g>\n",
       "   <g id=\"line2d_32\">\n",
       "    <g clip-path=\"url(#p1d1f1cd2e8)\"/>\n",
       "   </g>\n",
       "   <g id=\"line2d_33\">\n",
       "    <g clip-path=\"url(#p1d1f1cd2e8)\">\n",
       "     <use xlink:href=\"#mcf3419525c\" x=\"73.440024\" y=\"591.891419\" style=\"stroke: #000000\"/>\n",
       "    </g>\n",
       "   </g>\n",
       "   <g id=\"line2d_34\">\n",
       "    <g clip-path=\"url(#p1d1f1cd2e8)\"/>\n",
       "   </g>\n",
       "   <g id=\"line2d_35\">\n",
       "    <g clip-path=\"url(#p1d1f1cd2e8)\">\n",
       "     <use xlink:href=\"#mcf3419525c\" x=\"71.924408\" y=\"596.408932\" style=\"stroke: #000000\"/>\n",
       "    </g>\n",
       "   </g>\n",
       "   <g id=\"line2d_36\">\n",
       "    <g clip-path=\"url(#p1d1f1cd2e8)\">\n",
       "     <use xlink:href=\"#mcf3419525c\" x=\"146.899858\" y=\"372.933719\" style=\"stroke: #000000\"/>\n",
       "    </g>\n",
       "   </g>\n",
       "   <g id=\"line2d_37\">\n",
       "    <g clip-path=\"url(#p1d1f1cd2e8)\"/>\n",
       "   </g>\n",
       "   <g id=\"line2d_38\">\n",
       "    <g clip-path=\"url(#p1d1f1cd2e8)\"/>\n",
       "   </g>\n",
       "   <g id=\"line2d_39\">\n",
       "    <g clip-path=\"url(#p1d1f1cd2e8)\">\n",
       "     <use xlink:href=\"#mcf3419525c\" x=\"76.757368\" y=\"582.003592\" style=\"stroke: #000000\"/>\n",
       "    </g>\n",
       "   </g>\n",
       "   <g id=\"line2d_40\">\n",
       "    <g clip-path=\"url(#p1d1f1cd2e8)\">\n",
       "     <use xlink:href=\"#mcf3419525c\" x=\"256.445899\" y=\"46.415843\" style=\"stroke: #000000\"/>\n",
       "    </g>\n",
       "   </g>\n",
       "   <g id=\"line2d_41\">\n",
       "    <g clip-path=\"url(#p1d1f1cd2e8)\">\n",
       "     <use xlink:href=\"#mcf3419525c\" x=\"149.550358\" y=\"365.03352\" style=\"stroke: #000000\"/>\n",
       "    </g>\n",
       "   </g>\n",
       "   <g id=\"line2d_42\">\n",
       "    <g clip-path=\"url(#p1d1f1cd2e8)\"/>\n",
       "   </g>\n",
       "   <g id=\"line2d_43\">\n",
       "    <g clip-path=\"url(#p1d1f1cd2e8)\"/>\n",
       "   </g>\n",
       "   <g id=\"line2d_44\">\n",
       "    <g clip-path=\"url(#p1d1f1cd2e8)\"/>\n",
       "   </g>\n",
       "   <g id=\"line2d_45\">\n",
       "    <g clip-path=\"url(#p1d1f1cd2e8)\">\n",
       "     <use xlink:href=\"#mcf3419525c\" x=\"80.490553\" y=\"570.876292\" style=\"stroke: #000000\"/>\n",
       "    </g>\n",
       "   </g>\n",
       "   <g id=\"line2d_46\">\n",
       "    <g clip-path=\"url(#p1d1f1cd2e8)\"/>\n",
       "   </g>\n",
       "   <g id=\"line2d_47\">\n",
       "    <g clip-path=\"url(#p1d1f1cd2e8)\">\n",
       "     <use xlink:href=\"#mcf3419525c\" x=\"150.452409\" y=\"362.344826\" style=\"stroke: #000000\"/>\n",
       "    </g>\n",
       "   </g>\n",
       "   <g id=\"line2d_48\">\n",
       "    <g clip-path=\"url(#p1d1f1cd2e8)\"/>\n",
       "   </g>\n",
       "   <g id=\"line2d_49\">\n",
       "    <g clip-path=\"url(#p1d1f1cd2e8)\">\n",
       "     <use xlink:href=\"#mcf3419525c\" x=\"80.782207\" y=\"570.006977\" style=\"stroke: #000000\"/>\n",
       "    </g>\n",
       "   </g>\n",
       "   <g id=\"line2d_50\">\n",
       "    <g clip-path=\"url(#p1d1f1cd2e8)\">\n",
       "     <use xlink:href=\"#mcf3419525c\" x=\"44.130279\" y=\"679.253368\" style=\"stroke: #000000\"/>\n",
       "    </g>\n",
       "   </g>\n",
       "   <g id=\"line2d_51\">\n",
       "    <g clip-path=\"url(#p1d1f1cd2e8)\"/>\n",
       "   </g>\n",
       "   <g id=\"line2d_52\">\n",
       "    <g clip-path=\"url(#p1d1f1cd2e8)\">\n",
       "     <use xlink:href=\"#mcf3419525c\" x=\"247.301197\" y=\"73.672954\" style=\"stroke: #000000\"/>\n",
       "    </g>\n",
       "   </g>\n",
       "   <g id=\"line2d_53\">\n",
       "    <g clip-path=\"url(#p1d1f1cd2e8)\">\n",
       "     <use xlink:href=\"#mcf3419525c\" x=\"232.720957\" y=\"117.131477\" style=\"stroke: #000000\"/>\n",
       "    </g>\n",
       "   </g>\n",
       "   <g id=\"line2d_54\">\n",
       "    <g clip-path=\"url(#p1d1f1cd2e8)\">\n",
       "     <use xlink:href=\"#mcf3419525c\" x=\"258.079051\" y=\"41.547995\" style=\"stroke: #000000\"/>\n",
       "    </g>\n",
       "   </g>\n",
       "   <g id=\"line2d_55\">\n",
       "    <g clip-path=\"url(#p1d1f1cd2e8)\">\n",
       "     <use xlink:href=\"#mcf3419525c\" x=\"81.894381\" y=\"566.691979\" style=\"stroke: #000000\"/>\n",
       "    </g>\n",
       "   </g>\n",
       "   <g id=\"line2d_56\">\n",
       "    <g clip-path=\"url(#p1d1f1cd2e8)\">\n",
       "     <use xlink:href=\"#mcf3419525c\" x=\"95.935104\" y=\"524.841567\" style=\"stroke: #000000\"/>\n",
       "    </g>\n",
       "   </g>\n",
       "   <g id=\"line2d_57\">\n",
       "    <g clip-path=\"url(#p1d1f1cd2e8)\"/>\n",
       "   </g>\n",
       "   <g id=\"line2d_58\">\n",
       "    <g clip-path=\"url(#p1d1f1cd2e8)\">\n",
       "     <use xlink:href=\"#mcf3419525c\" x=\"85.268315\" y=\"556.63548\" style=\"stroke: #000000\"/>\n",
       "    </g>\n",
       "   </g>\n",
       "   <g id=\"line2d_59\">\n",
       "    <g clip-path=\"url(#p1d1f1cd2e8)\">\n",
       "     <use xlink:href=\"#mcf3419525c\" x=\"215.172162\" y=\"169.438207\" style=\"stroke: #000000\"/>\n",
       "    </g>\n",
       "   </g>\n",
       "   <g id=\"line2d_60\">\n",
       "    <g clip-path=\"url(#p1d1f1cd2e8)\">\n",
       "     <use xlink:href=\"#mcf3419525c\" x=\"261.458314\" y=\"31.475611\" style=\"stroke: #000000\"/>\n",
       "    </g>\n",
       "   </g>\n",
       "   <g id=\"line2d_61\">\n",
       "    <g clip-path=\"url(#p1d1f1cd2e8)\"/>\n",
       "   </g>\n",
       "   <g id=\"line2d_62\">\n",
       "    <g clip-path=\"url(#p1d1f1cd2e8)\">\n",
       "     <use xlink:href=\"#mcf3419525c\" x=\"200.979222\" y=\"211.742325\" style=\"stroke: #000000\"/>\n",
       "    </g>\n",
       "   </g>\n",
       "   <g id=\"line2d_63\">\n",
       "    <g clip-path=\"url(#p1d1f1cd2e8)\">\n",
       "     <use xlink:href=\"#mcf3419525c\" x=\"41.182863\" y=\"688.038568\" style=\"stroke: #000000\"/>\n",
       "    </g>\n",
       "   </g>\n",
       "   <g id=\"line2d_64\">\n",
       "    <g clip-path=\"url(#p1d1f1cd2e8)\">\n",
       "     <use xlink:href=\"#mcf3419525c\" x=\"253.128052\" y=\"56.305167\" style=\"stroke: #000000\"/>\n",
       "    </g>\n",
       "   </g>\n",
       "   <g id=\"line2d_65\">\n",
       "    <g clip-path=\"url(#p1d1f1cd2e8)\">\n",
       "     <use xlink:href=\"#mcf3419525c\" x=\"178.786716\" y=\"277.890311\" style=\"stroke: #000000\"/>\n",
       "    </g>\n",
       "   </g>\n",
       "   <g id=\"line2d_66\">\n",
       "    <g clip-path=\"url(#p1d1f1cd2e8)\">\n",
       "     <use xlink:href=\"#mcf3419525c\" x=\"133.582404\" y=\"412.628326\" style=\"stroke: #000000\"/>\n",
       "    </g>\n",
       "   </g>\n",
       "   <g id=\"line2d_67\">\n",
       "    <g clip-path=\"url(#p1d1f1cd2e8)\">\n",
       "     <use xlink:href=\"#mcf3419525c\" x=\"224.17623\" y=\"142.600275\" style=\"stroke: #000000\"/>\n",
       "    </g>\n",
       "   </g>\n",
       "   <g id=\"line2d_68\">\n",
       "    <g clip-path=\"url(#p1d1f1cd2e8)\">\n",
       "     <use xlink:href=\"#mcf3419525c\" x=\"257.549434\" y=\"43.126596\" style=\"stroke: #000000\"/>\n",
       "    </g>\n",
       "   </g>\n",
       "   <g id=\"line2d_69\">\n",
       "    <g clip-path=\"url(#p1d1f1cd2e8)\">\n",
       "     <use xlink:href=\"#mcf3419525c\" x=\"171.56004\" y=\"299.430468\" style=\"stroke: #000000\"/>\n",
       "    </g>\n",
       "   </g>\n",
       "   <g id=\"line2d_70\">\n",
       "    <g clip-path=\"url(#p1d1f1cd2e8)\">\n",
       "     <use xlink:href=\"#mcf3419525c\" x=\"94.701079\" y=\"528.519757\" style=\"stroke: #000000\"/>\n",
       "    </g>\n",
       "   </g>\n",
       "   <g id=\"line2d_71\">\n",
       "    <g clip-path=\"url(#p1d1f1cd2e8)\">\n",
       "     <use xlink:href=\"#mcf3419525c\" x=\"59.928407\" y=\"632.164756\" style=\"stroke: #000000\"/>\n",
       "    </g>\n",
       "   </g>\n",
       "   <g id=\"line2d_72\">\n",
       "    <g clip-path=\"url(#p1d1f1cd2e8)\"/>\n",
       "   </g>\n",
       "   <g id=\"line2d_73\">\n",
       "    <g clip-path=\"url(#p1d1f1cd2e8)\">\n",
       "     <use xlink:href=\"#mcf3419525c\" x=\"113.780945\" y=\"471.649448\" style=\"stroke: #000000\"/>\n",
       "    </g>\n",
       "   </g>\n",
       "   <g id=\"line2d_74\">\n",
       "    <g clip-path=\"url(#p1d1f1cd2e8)\">\n",
       "     <use xlink:href=\"#mcf3419525c\" x=\"231.358644\" y=\"121.192048\" style=\"stroke: #000000\"/>\n",
       "    </g>\n",
       "   </g>\n",
       "   <g id=\"line2d_75\">\n",
       "    <g clip-path=\"url(#p1d1f1cd2e8)\">\n",
       "     <use xlink:href=\"#mcf3419525c\" x=\"81.753793\" y=\"567.111024\" style=\"stroke: #000000\"/>\n",
       "    </g>\n",
       "   </g>\n",
       "   <g id=\"line2d_76\">\n",
       "    <g clip-path=\"url(#p1d1f1cd2e8)\">\n",
       "     <use xlink:href=\"#mcf3419525c\" x=\"203.741723\" y=\"203.50829\" style=\"stroke: #000000\"/>\n",
       "    </g>\n",
       "   </g>\n",
       "   <g id=\"line2d_77\">\n",
       "    <g clip-path=\"url(#p1d1f1cd2e8)\">\n",
       "     <use xlink:href=\"#mcf3419525c\" x=\"220.818749\" y=\"152.607735\" style=\"stroke: #000000\"/>\n",
       "    </g>\n",
       "   </g>\n",
       "   <g id=\"line2d_78\">\n",
       "    <g clip-path=\"url(#p1d1f1cd2e8)\"/>\n",
       "   </g>\n",
       "   <g id=\"line2d_79\">\n",
       "    <g clip-path=\"url(#p1d1f1cd2e8)\">\n",
       "     <use xlink:href=\"#mcf3419525c\" x=\"49.438766\" y=\"663.430651\" style=\"stroke: #000000\"/>\n",
       "    </g>\n",
       "   </g>\n",
       "   <g id=\"line2d_80\">\n",
       "    <g clip-path=\"url(#p1d1f1cd2e8)\">\n",
       "     <use xlink:href=\"#mcf3419525c\" x=\"118.923267\" y=\"456.322011\" style=\"stroke: #000000\"/>\n",
       "    </g>\n",
       "   </g>\n",
       "   <g id=\"line2d_81\">\n",
       "    <g clip-path=\"url(#p1d1f1cd2e8)\">\n",
       "     <use xlink:href=\"#mcf3419525c\" x=\"260.825905\" y=\"33.3606\" style=\"stroke: #000000\"/>\n",
       "    </g>\n",
       "   </g>\n",
       "   <g id=\"line2d_82\">\n",
       "    <g clip-path=\"url(#p1d1f1cd2e8)\">\n",
       "     <use xlink:href=\"#mcf3419525c\" x=\"86.976956\" y=\"551.542628\" style=\"stroke: #000000\"/>\n",
       "    </g>\n",
       "   </g>\n",
       "   <g id=\"line2d_83\">\n",
       "    <g clip-path=\"url(#p1d1f1cd2e8)\">\n",
       "     <use xlink:href=\"#mcf3419525c\" x=\"159.421084\" y=\"335.612389\" style=\"stroke: #000000\"/>\n",
       "    </g>\n",
       "   </g>\n",
       "   <g id=\"line2d_84\">\n",
       "    <g clip-path=\"url(#p1d1f1cd2e8)\">\n",
       "     <use xlink:href=\"#mcf3419525c\" x=\"118.218369\" y=\"458.423062\" style=\"stroke: #000000\"/>\n",
       "    </g>\n",
       "   </g>\n",
       "   <g id=\"line2d_85\">\n",
       "    <g clip-path=\"url(#p1d1f1cd2e8)\">\n",
       "     <use xlink:href=\"#mcf3419525c\" x=\"204.546498\" y=\"201.109541\" style=\"stroke: #000000\"/>\n",
       "    </g>\n",
       "   </g>\n",
       "   <g id=\"line2d_86\">\n",
       "    <g clip-path=\"url(#p1d1f1cd2e8)\">\n",
       "     <use xlink:href=\"#mcf3419525c\" x=\"247.962851\" y=\"71.700799\" style=\"stroke: #000000\"/>\n",
       "    </g>\n",
       "   </g>\n",
       "   <g id=\"line2d_87\">\n",
       "    <g clip-path=\"url(#p1d1f1cd2e8)\"/>\n",
       "   </g>\n",
       "   <g id=\"line2d_88\">\n",
       "    <g clip-path=\"url(#p1d1f1cd2e8)\"/>\n",
       "   </g>\n",
       "   <g id=\"line2d_89\">\n",
       "    <g clip-path=\"url(#p1d1f1cd2e8)\"/>\n",
       "   </g>\n",
       "   <g id=\"line2d_90\">\n",
       "    <g clip-path=\"url(#p1d1f1cd2e8)\">\n",
       "     <use xlink:href=\"#mcf3419525c\" x=\"77.242272\" y=\"580.558265\" style=\"stroke: #000000\"/>\n",
       "    </g>\n",
       "   </g>\n",
       "   <g id=\"line2d_91\">\n",
       "    <g clip-path=\"url(#p1d1f1cd2e8)\"/>\n",
       "   </g>\n",
       "   <g id=\"line2d_92\">\n",
       "    <g clip-path=\"url(#p1d1f1cd2e8)\">\n",
       "     <use xlink:href=\"#mcf3419525c\" x=\"139.7073\" y=\"394.372183\" style=\"stroke: #000000\"/>\n",
       "    </g>\n",
       "   </g>\n",
       "   <g id=\"line2d_93\">\n",
       "    <g clip-path=\"url(#p1d1f1cd2e8)\"/>\n",
       "   </g>\n",
       "   <g id=\"line2d_94\">\n",
       "    <g clip-path=\"url(#p1d1f1cd2e8)\">\n",
       "     <use xlink:href=\"#mcf3419525c\" x=\"48.402472\" y=\"666.519476\" style=\"stroke: #000000\"/>\n",
       "    </g>\n",
       "   </g>\n",
       "   <g id=\"line2d_95\">\n",
       "    <g clip-path=\"url(#p1d1f1cd2e8)\">\n",
       "     <use xlink:href=\"#mcf3419525c\" x=\"200.486131\" y=\"213.212055\" style=\"stroke: #000000\"/>\n",
       "    </g>\n",
       "   </g>\n",
       "   <g id=\"line2d_96\">\n",
       "    <g clip-path=\"url(#p1d1f1cd2e8)\"/>\n",
       "   </g>\n",
       "   <g id=\"line2d_97\">\n",
       "    <g clip-path=\"url(#p1d1f1cd2e8)\">\n",
       "     <use xlink:href=\"#mcf3419525c\" x=\"204.298851\" y=\"201.847688\" style=\"stroke: #000000\"/>\n",
       "    </g>\n",
       "   </g>\n",
       "   <g id=\"line2d_98\">\n",
       "    <g clip-path=\"url(#p1d1f1cd2e8)\">\n",
       "     <use xlink:href=\"#mcf3419525c\" x=\"102.336961\" y=\"505.759904\" style=\"stroke: #000000\"/>\n",
       "    </g>\n",
       "   </g>\n",
       "   <g id=\"line2d_99\">\n",
       "    <g clip-path=\"url(#p1d1f1cd2e8)\"/>\n",
       "   </g>\n",
       "   <g id=\"line2d_100\">\n",
       "    <g clip-path=\"url(#p1d1f1cd2e8)\">\n",
       "     <use xlink:href=\"#mcf3419525c\" x=\"252.581067\" y=\"57.935536\" style=\"stroke: #000000\"/>\n",
       "    </g>\n",
       "   </g>\n",
       "   <g id=\"line2d_101\">\n",
       "    <g clip-path=\"url(#p1d1f1cd2e8)\">\n",
       "     <use xlink:href=\"#mcf3419525c\" x=\"221.706338\" y=\"149.962146\" style=\"stroke: #000000\"/>\n",
       "    </g>\n",
       "   </g>\n",
       "   <g id=\"line2d_102\">\n",
       "    <g clip-path=\"url(#p1d1f1cd2e8)\">\n",
       "     <use xlink:href=\"#mcf3419525c\" x=\"79.124656\" y=\"574.947547\" style=\"stroke: #000000\"/>\n",
       "    </g>\n",
       "   </g>\n",
       "   <g id=\"line2d_103\">\n",
       "    <g clip-path=\"url(#p1d1f1cd2e8)\">\n",
       "     <use xlink:href=\"#mcf3419525c\" x=\"57.803691\" y=\"638.497778\" style=\"stroke: #000000\"/>\n",
       "    </g>\n",
       "   </g>\n",
       "   <g id=\"line2d_104\">\n",
       "    <g clip-path=\"url(#p1d1f1cd2e8)\"/>\n",
       "   </g>\n",
       "   <g id=\"line2d_105\">\n",
       "    <g clip-path=\"url(#p1d1f1cd2e8)\">\n",
       "     <use xlink:href=\"#mcf3419525c\" x=\"89.427604\" y=\"544.238115\" style=\"stroke: #000000\"/>\n",
       "    </g>\n",
       "   </g>\n",
       "   <g id=\"line2d_106\">\n",
       "    <g clip-path=\"url(#p1d1f1cd2e8)\">\n",
       "     <use xlink:href=\"#mcf3419525c\" x=\"98.923989\" y=\"515.932761\" style=\"stroke: #000000\"/>\n",
       "    </g>\n",
       "   </g>\n",
       "   <g id=\"line2d_107\">\n",
       "    <g clip-path=\"url(#p1d1f1cd2e8)\"/>\n",
       "   </g>\n",
       "   <g id=\"line2d_108\">\n",
       "    <g clip-path=\"url(#p1d1f1cd2e8)\">\n",
       "     <use xlink:href=\"#mcf3419525c\" x=\"227.615752\" y=\"132.348282\" style=\"stroke: #000000\"/>\n",
       "    </g>\n",
       "   </g>\n",
       "   <g id=\"line2d_109\">\n",
       "    <g clip-path=\"url(#p1d1f1cd2e8)\">\n",
       "     <use xlink:href=\"#mcf3419525c\" x=\"54.613202\" y=\"648.007494\" style=\"stroke: #000000\"/>\n",
       "    </g>\n",
       "   </g>\n",
       "   <g id=\"line2d_110\">\n",
       "    <g clip-path=\"url(#p1d1f1cd2e8)\">\n",
       "     <use xlink:href=\"#mcf3419525c\" x=\"105.464127\" y=\"496.438931\" style=\"stroke: #000000\"/>\n",
       "    </g>\n",
       "   </g>\n",
       "   <g id=\"line2d_111\">\n",
       "    <g clip-path=\"url(#p1d1f1cd2e8)\"/>\n",
       "   </g>\n",
       "   <g id=\"line2d_112\">\n",
       "    <g clip-path=\"url(#p1d1f1cd2e8)\">\n",
       "     <use xlink:href=\"#mcf3419525c\" x=\"179.447792\" y=\"275.919876\" style=\"stroke: #000000\"/>\n",
       "    </g>\n",
       "   </g>\n",
       "   <g id=\"line2d_113\">\n",
       "    <g clip-path=\"url(#p1d1f1cd2e8)\"/>\n",
       "   </g>\n",
       "   <g id=\"line2d_114\">\n",
       "    <g clip-path=\"url(#p1d1f1cd2e8)\">\n",
       "     <use xlink:href=\"#mcf3419525c\" x=\"195.676507\" y=\"227.547837\" style=\"stroke: #000000\"/>\n",
       "    </g>\n",
       "   </g>\n",
       "   <g id=\"line2d_115\">\n",
       "    <g clip-path=\"url(#p1d1f1cd2e8)\">\n",
       "     <use xlink:href=\"#mcf3419525c\" x=\"36.68032\" y=\"701.459053\" style=\"stroke: #000000\"/>\n",
       "    </g>\n",
       "   </g>\n",
       "   <g id=\"line2d_116\">\n",
       "    <g clip-path=\"url(#p1d1f1cd2e8)\">\n",
       "     <use xlink:href=\"#mcf3419525c\" x=\"174.509095\" y=\"290.640382\" style=\"stroke: #000000\"/>\n",
       "    </g>\n",
       "   </g>\n",
       "   <g id=\"line2d_117\">\n",
       "    <g clip-path=\"url(#p1d1f1cd2e8)\"/>\n",
       "   </g>\n",
       "   <g id=\"line2d_118\">\n",
       "    <g clip-path=\"url(#p1d1f1cd2e8)\">\n",
       "     <use xlink:href=\"#mcf3419525c\" x=\"90.152172\" y=\"542.078436\" style=\"stroke: #000000\"/>\n",
       "    </g>\n",
       "   </g>\n",
       "   <g id=\"line2d_119\">\n",
       "    <g clip-path=\"url(#p1d1f1cd2e8)\">\n",
       "     <use xlink:href=\"#mcf3419525c\" x=\"217.230289\" y=\"163.303661\" style=\"stroke: #000000\"/>\n",
       "    </g>\n",
       "   </g>\n",
       "   <g id=\"line2d_120\">\n",
       "    <g clip-path=\"url(#p1d1f1cd2e8)\">\n",
       "     <use xlink:href=\"#mcf3419525c\" x=\"57.290586\" y=\"640.027163\" style=\"stroke: #000000\"/>\n",
       "    </g>\n",
       "   </g>\n",
       "   <g id=\"line2d_121\">\n",
       "    <g clip-path=\"url(#p1d1f1cd2e8)\"/>\n",
       "   </g>\n",
       "   <g id=\"line2d_122\">\n",
       "    <g clip-path=\"url(#p1d1f1cd2e8)\">\n",
       "     <use xlink:href=\"#mcf3419525c\" x=\"255.435939\" y=\"49.426174\" style=\"stroke: #000000\"/>\n",
       "    </g>\n",
       "   </g>\n",
       "   <g id=\"line2d_123\">\n",
       "    <g clip-path=\"url(#p1d1f1cd2e8)\">\n",
       "     <use xlink:href=\"#mcf3419525c\" x=\"123.688757\" y=\"442.117776\" style=\"stroke: #000000\"/>\n",
       "    </g>\n",
       "   </g>\n",
       "   <g id=\"line2d_124\">\n",
       "    <g clip-path=\"url(#p1d1f1cd2e8)\">\n",
       "     <use xlink:href=\"#mcf3419525c\" x=\"221.032154\" y=\"151.971649\" style=\"stroke: #000000\"/>\n",
       "    </g>\n",
       "   </g>\n",
       "   <g id=\"line2d_125\">\n",
       "    <g clip-path=\"url(#p1d1f1cd2e8)\"/>\n",
       "   </g>\n",
       "   <g id=\"line2d_126\">\n",
       "    <g clip-path=\"url(#p1d1f1cd2e8)\">\n",
       "     <use xlink:href=\"#mcf3419525c\" x=\"108.115321\" y=\"488.536661\" style=\"stroke: #000000\"/>\n",
       "    </g>\n",
       "   </g>\n",
       "   <g id=\"line2d_127\">\n",
       "    <g clip-path=\"url(#p1d1f1cd2e8)\"/>\n",
       "   </g>\n",
       "   <g id=\"line2d_128\">\n",
       "    <g clip-path=\"url(#p1d1f1cd2e8)\"/>\n",
       "   </g>\n",
       "   <g id=\"patch_3\">\n",
       "    <path d=\"M 34.839063 374.307188 \n",
       "L 34.839063 41.667187 \n",
       "\" style=\"fill: none; stroke: #000000; stroke-width: 0.8; stroke-linejoin: miter; stroke-linecap: square\"/>\n",
       "   </g>\n",
       "   <g id=\"patch_4\">\n",
       "    <path d=\"M 369.639063 374.307188 \n",
       "L 369.639063 41.667187 \n",
       "\" style=\"fill: none; stroke: #000000; stroke-width: 0.8; stroke-linejoin: miter; stroke-linecap: square\"/>\n",
       "   </g>\n",
       "   <g id=\"patch_5\">\n",
       "    <path d=\"M 34.839063 374.307188 \n",
       "L 369.639063 374.307188 \n",
       "\" style=\"fill: none; stroke: #000000; stroke-width: 0.8; stroke-linejoin: miter; stroke-linecap: square\"/>\n",
       "   </g>\n",
       "   <g id=\"patch_6\">\n",
       "    <path d=\"M 34.839063 41.667188 \n",
       "L 369.639063 41.667188 \n",
       "\" style=\"fill: none; stroke: #000000; stroke-width: 0.8; stroke-linejoin: miter; stroke-linecap: square\"/>\n",
       "   </g>\n",
       "   <g id=\"text_15\">\n",
       "    <!-- A) -->\n",
       "    <g transform=\"translate(13.914062 20.877187)scale(0.18 -0.18)\">\n",
       "     <defs>\n",
       "      <path id=\"DejaVuSans-Bold-41\" d=\"M 3419 850 \n",
       "L 1538 850 \n",
       "L 1241 0 \n",
       "L 31 0 \n",
       "L 1759 4666 \n",
       "L 3194 4666 \n",
       "L 4922 0 \n",
       "L 3713 0 \n",
       "L 3419 850 \n",
       "z\n",
       "M 1838 1716 \n",
       "L 3116 1716 \n",
       "L 2478 3572 \n",
       "L 1838 1716 \n",
       "z\n",
       "\" transform=\"scale(0.015625)\"/>\n",
       "      <path id=\"DejaVuSans-Bold-29\" d=\"M 513 -844 \n",
       "Q 913 -100 1113 609 \n",
       "Q 1313 1319 1313 2009 \n",
       "Q 1313 2700 1113 3408 \n",
       "Q 913 4116 513 4856 \n",
       "L 1441 4856 \n",
       "Q 1916 4091 2145 3389 \n",
       "Q 2375 2688 2375 2003 \n",
       "Q 2375 1319 2147 623 \n",
       "Q 1919 -72 1441 -844 \n",
       "L 513 -844 \n",
       "z\n",
       "\" transform=\"scale(0.015625)\"/>\n",
       "     </defs>\n",
       "     <use xlink:href=\"#DejaVuSans-Bold-41\"/>\n",
       "     <use xlink:href=\"#DejaVuSans-Bold-29\" x=\"77.392578\"/>\n",
       "    </g>\n",
       "   </g>\n",
       "  </g>\n",
       " </g>\n",
       " <defs>\n",
       "  <clipPath id=\"p1d1f1cd2e8\">\n",
       "   <rect x=\"34.839063\" y=\"41.667188\" width=\"334.8\" height=\"332.64\"/>\n",
       "  </clipPath>\n",
       " </defs>\n",
       "</svg>\n"
      ],
      "text/plain": [
       "<Figure size 600x600 with 1 Axes>"
      ]
     },
     "metadata": {},
     "output_type": "display_data"
    }
   ],
   "source": [
    "# the vector set (just one vector)\n",
    "A  = np.array([ 1,3 ])\n",
    "\n",
    "# x-axis range\n",
    "xlim = [-4,4]\n",
    "\n",
    "# random scalars in that range\n",
    "scalars = np.random.uniform(low=xlim[0],high=xlim[1],size=100)\n",
    "\n",
    "\n",
    "\n",
    "# create a figure, etc\n",
    "plt.figure(figsize=(6,6))\n",
    "\n",
    "# loop over the random scalars\n",
    "for s in scalars:\n",
    "\n",
    "  # create point p\n",
    "  p = A*s\n",
    "\n",
    "  # plot it\n",
    "  plt.plot(p[0],p[1],'ko')\n",
    "\n",
    "\n",
    "plt.xlim(xlim)\n",
    "plt.ylim(xlim)\n",
    "plt.grid()\n",
    "plt.text(-4.5,4.5,'A)',fontweight='bold',fontsize=18)\n",
    "plt.savefig('Figure_03_07a.png',dpi=300)\n",
    "plt.show()"
   ]
  },
  {
   "cell_type": "code",
   "execution_count": 121,
   "metadata": {
    "id": "Hm8ml4FcuRmA"
   },
   "outputs": [
    {
     "name": "stdout",
     "output_type": "stream",
     "text": [
      "(100, 3)\n"
     ]
    },
    {
     "data": {
      "application/vnd.plotly.v1+json": {
       "config": {
        "plotlyServerURL": "https://plot.ly"
       },
       "data": [
        {
         "marker": {
          "color": "black",
          "size": 6
         },
         "mode": "markers",
         "type": "scatter3d",
         "x": [
          2.8378743104742665,
          -5.737142262364522,
          7.568115948110449,
          -2.8835176715598823,
          -5.168334127104503,
          1.8634255592084212,
          1.5354823603196506,
          2.465408076010995,
          -9.46955439980638,
          -1.9686667063141172,
          -2.3675577773052505,
          -6.629978132571195,
          0.20976221817413432,
          -1.2993854095592559,
          5.145116031902534,
          -1.134955539768062,
          -4.864950555244373,
          -4.46194440117746,
          8.612989113986286,
          -3.1360580507886944,
          2.4700715901770662,
          12.128438171937812,
          -12.184653752511345,
          4.451815563758915,
          9.717480451202595,
          3.936161422401949,
          -9.966224775496194,
          2.7407205719077146,
          -11.992314774425868,
          -3.429074983596694,
          0.40638151164593683,
          0.5245589457310533,
          7.888347243892351,
          -7.255304478902495,
          -3.3506941405830695,
          -0.6334501053918298,
          4.7483803579051616,
          0.18892697742081932,
          -13.966292045587602,
          -12.341385614817424,
          12.935142389750402,
          2.9369732423170603,
          -7.354361339527347,
          -12.128127016497038,
          2.829707622550064,
          5.233488590724201,
          -13.117681224489317,
          -2.5328302357019297,
          -6.617673177077176,
          6.21867507017428,
          -2.8457962240666834,
          8.101941958775244,
          -12.76289912954502,
          2.2901048107404955,
          16.04555551092151,
          9.926785176948599,
          7.113906343644874,
          -7.178207510364853,
          -14.5336688348642,
          5.15001139134138,
          1.7648027919278464,
          -5.4453887590035706,
          8.384118046155455,
          12.53122669413208,
          10.848484454108231,
          9.500518039514098,
          -7.446542860804456,
          4.4633669243393355,
          -12.017893730614384,
          -4.371463418385009,
          11.695080239808597,
          12.501075694333707,
          -5.059381924885555,
          12.314033228419456,
          -4.280439408455381,
          3.9076843532643775,
          -6.403296973050827,
          -9.264896414811451,
          -1.1225157749175185,
          -14.944071442313394,
          14.375319732790862,
          9.986039373133615,
          -5.741137137646834,
          11.30164472093071,
          10.017702710735488,
          -1.9780454213277103,
          -5.74213903456579,
          7.652166149499605,
          -4.0041056510865936,
          -3.7915364021739593,
          -5.836604292300235,
          9.700987132906851,
          -7.617381457977677,
          -1.336290777615348,
          7.903730553910553,
          -4.182985424209963,
          11.346086145037635,
          11.502190230683146,
          1.3835844860854793,
          5.247979099589714
         ],
         "y": [
          4.729790517457111,
          -9.561903770607536,
          12.613526580184082,
          -4.805862785933137,
          -8.613890211840838,
          3.10570926534737,
          2.559137267199419,
          4.109013460018325,
          -15.782590666343967,
          -3.281111177190194,
          -3.945929628842084,
          -11.049963554285327,
          0.34960369695689053,
          -2.1656423492654264,
          8.575193386504223,
          -1.891592566280102,
          -8.108250925407287,
          -7.436574001962432,
          14.354981856643809,
          -5.226763417981157,
          4.116785983628444,
          20.214063619896358,
          -20.307756254185577,
          7.419692606264858,
          16.195800752004324,
          6.560269037336581,
          -16.610374625826992,
          4.567867619846191,
          -19.987191290709777,
          -5.7151249726611555,
          0.6773025194098947,
          0.8742649095517567,
          13.147245406487254,
          -12.092174131504159,
          -5.584490234305115,
          -1.0557501756530496,
          7.91396726317527,
          0.31487829570136583,
          -23.277153409312668,
          -20.568976024695708,
          21.558570649584006,
          4.894955403861768,
          -12.257268899212246,
          -20.213545027495062,
          4.716179370916773,
          8.722480984540333,
          -21.862802040815524,
          -4.221383726169883,
          -11.029455295128628,
          10.364458450290467,
          -4.7429937067778045,
          13.503236597958741,
          -21.2714985492417,
          3.8168413512341592,
          26.742592518202514,
          16.544641961580993,
          11.856510572741456,
          -11.963679183941425,
          -24.222781391440336,
          8.5833523189023,
          2.9413379865464107,
          -9.075647931672616,
          13.97353007692576,
          20.885377823553462,
          18.080807423513722,
          15.834196732523498,
          -12.410904768007427,
          7.438944873898891,
          -20.02982288435731,
          -7.285772363975013,
          19.49180039968099,
          20.835126157222845,
          -8.43230320814259,
          20.523388714032425,
          -7.134065680758967,
          6.512807255440628,
          -10.672161621751377,
          -15.44149402468575,
          -1.8708596248625309,
          -24.90678573718899,
          23.958866221318104,
          16.643398955222686,
          -9.568561896078055,
          18.836074534884517,
          16.696171184559148,
          -3.296742368879517,
          -9.570231724276313,
          12.753610249166007,
          -6.673509418477656,
          -6.319227336956599,
          -9.727673820500392,
          16.16831188817808,
          -12.69563576329613,
          -2.22715129602558,
          13.172884256517591,
          -6.971642373683271,
          18.910143575062722,
          19.170317051138575,
          2.305974143475799,
          8.746631832649523
         ],
         "z": [
          0.9459581034914222,
          -1.9123807541215072,
          2.5227053160368165,
          -0.9611725571866274,
          -1.7227780423681676,
          0.6211418530694739,
          0.5118274534398837,
          0.821802692003665,
          -3.1565181332687935,
          -0.6562222354380389,
          -0.7891859257684168,
          -2.2099927108570654,
          0.0699207393913781,
          -0.4331284698530853,
          1.7150386773008446,
          -0.3783185132560205,
          -1.6216501850814575,
          -1.4873148003924865,
          2.870996371328762,
          -1.0453526835962315,
          0.8233571967256887,
          4.042812723979271,
          -4.061551250837115,
          1.4839385212529717,
          3.239160150400865,
          1.3120538074673163,
          -3.3220749251653983,
          0.9135735239692382,
          -3.9974382581419556,
          -1.1430249945322313,
          0.13546050388197894,
          0.17485298191035126,
          2.6294490812974507,
          -2.4184348263008317,
          -1.116898046861023,
          -0.21115003513060993,
          1.582793452635054,
          0.06297565914027325,
          -4.6554306818625335,
          -4.113795204939141,
          4.311714129916801,
          0.9789910807723534,
          -2.451453779842449,
          -4.042709005499013,
          0.9432358741833546,
          1.7444961969080666,
          -4.372560408163105,
          -0.8442767452339766,
          -2.2058910590257255,
          2.072891690058093,
          -0.948598741355561,
          2.700647319591748,
          -4.25429970984834,
          0.7633682702468318,
          5.348518503640503,
          3.308928392316199,
          2.3713021145482913,
          -2.3927358367882845,
          -4.844556278288067,
          1.71667046378046,
          0.5882675973092821,
          -1.8151295863345234,
          2.794706015385152,
          4.177075564710693,
          3.616161484702744,
          3.1668393465046996,
          -2.4821809536014854,
          1.4877889747797783,
          -4.005964576871461,
          -1.4571544727950028,
          3.8983600799361984,
          4.167025231444569,
          -1.6864606416285182,
          4.104677742806485,
          -1.4268131361517935,
          1.3025614510881258,
          -2.1344323243502754,
          -3.0882988049371503,
          -0.3741719249725062,
          -4.981357147437798,
          4.79177324426362,
          3.3286797910445376,
          -1.9137123792156112,
          3.767214906976904,
          3.339234236911829,
          -0.6593484737759034,
          -1.914046344855263,
          2.5507220498332015,
          -1.3347018836955313,
          -1.2638454673913198,
          -1.9455347641000782,
          3.233662377635617,
          -2.539127152659226,
          -0.44543025920511603,
          2.634576851303518,
          -1.3943284747366542,
          3.7820287150125447,
          3.8340634102277154,
          0.46119482869515993,
          1.7493263665299046
         ]
        }
       ],
       "layout": {
        "margin": {
         "b": 0,
         "l": 0,
         "r": 0,
         "t": 0
        },
        "template": {
         "data": {
          "bar": [
           {
            "error_x": {
             "color": "#2a3f5f"
            },
            "error_y": {
             "color": "#2a3f5f"
            },
            "marker": {
             "line": {
              "color": "#E5ECF6",
              "width": 0.5
             },
             "pattern": {
              "fillmode": "overlay",
              "size": 10,
              "solidity": 0.2
             }
            },
            "type": "bar"
           }
          ],
          "barpolar": [
           {
            "marker": {
             "line": {
              "color": "#E5ECF6",
              "width": 0.5
             },
             "pattern": {
              "fillmode": "overlay",
              "size": 10,
              "solidity": 0.2
             }
            },
            "type": "barpolar"
           }
          ],
          "carpet": [
           {
            "aaxis": {
             "endlinecolor": "#2a3f5f",
             "gridcolor": "white",
             "linecolor": "white",
             "minorgridcolor": "white",
             "startlinecolor": "#2a3f5f"
            },
            "baxis": {
             "endlinecolor": "#2a3f5f",
             "gridcolor": "white",
             "linecolor": "white",
             "minorgridcolor": "white",
             "startlinecolor": "#2a3f5f"
            },
            "type": "carpet"
           }
          ],
          "choropleth": [
           {
            "colorbar": {
             "outlinewidth": 0,
             "ticks": ""
            },
            "type": "choropleth"
           }
          ],
          "contour": [
           {
            "colorbar": {
             "outlinewidth": 0,
             "ticks": ""
            },
            "colorscale": [
             [
              0,
              "#0d0887"
             ],
             [
              0.1111111111111111,
              "#46039f"
             ],
             [
              0.2222222222222222,
              "#7201a8"
             ],
             [
              0.3333333333333333,
              "#9c179e"
             ],
             [
              0.4444444444444444,
              "#bd3786"
             ],
             [
              0.5555555555555556,
              "#d8576b"
             ],
             [
              0.6666666666666666,
              "#ed7953"
             ],
             [
              0.7777777777777778,
              "#fb9f3a"
             ],
             [
              0.8888888888888888,
              "#fdca26"
             ],
             [
              1,
              "#f0f921"
             ]
            ],
            "type": "contour"
           }
          ],
          "contourcarpet": [
           {
            "colorbar": {
             "outlinewidth": 0,
             "ticks": ""
            },
            "type": "contourcarpet"
           }
          ],
          "heatmap": [
           {
            "colorbar": {
             "outlinewidth": 0,
             "ticks": ""
            },
            "colorscale": [
             [
              0,
              "#0d0887"
             ],
             [
              0.1111111111111111,
              "#46039f"
             ],
             [
              0.2222222222222222,
              "#7201a8"
             ],
             [
              0.3333333333333333,
              "#9c179e"
             ],
             [
              0.4444444444444444,
              "#bd3786"
             ],
             [
              0.5555555555555556,
              "#d8576b"
             ],
             [
              0.6666666666666666,
              "#ed7953"
             ],
             [
              0.7777777777777778,
              "#fb9f3a"
             ],
             [
              0.8888888888888888,
              "#fdca26"
             ],
             [
              1,
              "#f0f921"
             ]
            ],
            "type": "heatmap"
           }
          ],
          "heatmapgl": [
           {
            "colorbar": {
             "outlinewidth": 0,
             "ticks": ""
            },
            "colorscale": [
             [
              0,
              "#0d0887"
             ],
             [
              0.1111111111111111,
              "#46039f"
             ],
             [
              0.2222222222222222,
              "#7201a8"
             ],
             [
              0.3333333333333333,
              "#9c179e"
             ],
             [
              0.4444444444444444,
              "#bd3786"
             ],
             [
              0.5555555555555556,
              "#d8576b"
             ],
             [
              0.6666666666666666,
              "#ed7953"
             ],
             [
              0.7777777777777778,
              "#fb9f3a"
             ],
             [
              0.8888888888888888,
              "#fdca26"
             ],
             [
              1,
              "#f0f921"
             ]
            ],
            "type": "heatmapgl"
           }
          ],
          "histogram": [
           {
            "marker": {
             "pattern": {
              "fillmode": "overlay",
              "size": 10,
              "solidity": 0.2
             }
            },
            "type": "histogram"
           }
          ],
          "histogram2d": [
           {
            "colorbar": {
             "outlinewidth": 0,
             "ticks": ""
            },
            "colorscale": [
             [
              0,
              "#0d0887"
             ],
             [
              0.1111111111111111,
              "#46039f"
             ],
             [
              0.2222222222222222,
              "#7201a8"
             ],
             [
              0.3333333333333333,
              "#9c179e"
             ],
             [
              0.4444444444444444,
              "#bd3786"
             ],
             [
              0.5555555555555556,
              "#d8576b"
             ],
             [
              0.6666666666666666,
              "#ed7953"
             ],
             [
              0.7777777777777778,
              "#fb9f3a"
             ],
             [
              0.8888888888888888,
              "#fdca26"
             ],
             [
              1,
              "#f0f921"
             ]
            ],
            "type": "histogram2d"
           }
          ],
          "histogram2dcontour": [
           {
            "colorbar": {
             "outlinewidth": 0,
             "ticks": ""
            },
            "colorscale": [
             [
              0,
              "#0d0887"
             ],
             [
              0.1111111111111111,
              "#46039f"
             ],
             [
              0.2222222222222222,
              "#7201a8"
             ],
             [
              0.3333333333333333,
              "#9c179e"
             ],
             [
              0.4444444444444444,
              "#bd3786"
             ],
             [
              0.5555555555555556,
              "#d8576b"
             ],
             [
              0.6666666666666666,
              "#ed7953"
             ],
             [
              0.7777777777777778,
              "#fb9f3a"
             ],
             [
              0.8888888888888888,
              "#fdca26"
             ],
             [
              1,
              "#f0f921"
             ]
            ],
            "type": "histogram2dcontour"
           }
          ],
          "mesh3d": [
           {
            "colorbar": {
             "outlinewidth": 0,
             "ticks": ""
            },
            "type": "mesh3d"
           }
          ],
          "parcoords": [
           {
            "line": {
             "colorbar": {
              "outlinewidth": 0,
              "ticks": ""
             }
            },
            "type": "parcoords"
           }
          ],
          "pie": [
           {
            "automargin": true,
            "type": "pie"
           }
          ],
          "scatter": [
           {
            "fillpattern": {
             "fillmode": "overlay",
             "size": 10,
             "solidity": 0.2
            },
            "type": "scatter"
           }
          ],
          "scatter3d": [
           {
            "line": {
             "colorbar": {
              "outlinewidth": 0,
              "ticks": ""
             }
            },
            "marker": {
             "colorbar": {
              "outlinewidth": 0,
              "ticks": ""
             }
            },
            "type": "scatter3d"
           }
          ],
          "scattercarpet": [
           {
            "marker": {
             "colorbar": {
              "outlinewidth": 0,
              "ticks": ""
             }
            },
            "type": "scattercarpet"
           }
          ],
          "scattergeo": [
           {
            "marker": {
             "colorbar": {
              "outlinewidth": 0,
              "ticks": ""
             }
            },
            "type": "scattergeo"
           }
          ],
          "scattergl": [
           {
            "marker": {
             "colorbar": {
              "outlinewidth": 0,
              "ticks": ""
             }
            },
            "type": "scattergl"
           }
          ],
          "scattermapbox": [
           {
            "marker": {
             "colorbar": {
              "outlinewidth": 0,
              "ticks": ""
             }
            },
            "type": "scattermapbox"
           }
          ],
          "scatterpolar": [
           {
            "marker": {
             "colorbar": {
              "outlinewidth": 0,
              "ticks": ""
             }
            },
            "type": "scatterpolar"
           }
          ],
          "scatterpolargl": [
           {
            "marker": {
             "colorbar": {
              "outlinewidth": 0,
              "ticks": ""
             }
            },
            "type": "scatterpolargl"
           }
          ],
          "scatterternary": [
           {
            "marker": {
             "colorbar": {
              "outlinewidth": 0,
              "ticks": ""
             }
            },
            "type": "scatterternary"
           }
          ],
          "surface": [
           {
            "colorbar": {
             "outlinewidth": 0,
             "ticks": ""
            },
            "colorscale": [
             [
              0,
              "#0d0887"
             ],
             [
              0.1111111111111111,
              "#46039f"
             ],
             [
              0.2222222222222222,
              "#7201a8"
             ],
             [
              0.3333333333333333,
              "#9c179e"
             ],
             [
              0.4444444444444444,
              "#bd3786"
             ],
             [
              0.5555555555555556,
              "#d8576b"
             ],
             [
              0.6666666666666666,
              "#ed7953"
             ],
             [
              0.7777777777777778,
              "#fb9f3a"
             ],
             [
              0.8888888888888888,
              "#fdca26"
             ],
             [
              1,
              "#f0f921"
             ]
            ],
            "type": "surface"
           }
          ],
          "table": [
           {
            "cells": {
             "fill": {
              "color": "#EBF0F8"
             },
             "line": {
              "color": "white"
             }
            },
            "header": {
             "fill": {
              "color": "#C8D4E3"
             },
             "line": {
              "color": "white"
             }
            },
            "type": "table"
           }
          ]
         },
         "layout": {
          "annotationdefaults": {
           "arrowcolor": "#2a3f5f",
           "arrowhead": 0,
           "arrowwidth": 1
          },
          "autotypenumbers": "strict",
          "coloraxis": {
           "colorbar": {
            "outlinewidth": 0,
            "ticks": ""
           }
          },
          "colorscale": {
           "diverging": [
            [
             0,
             "#8e0152"
            ],
            [
             0.1,
             "#c51b7d"
            ],
            [
             0.2,
             "#de77ae"
            ],
            [
             0.3,
             "#f1b6da"
            ],
            [
             0.4,
             "#fde0ef"
            ],
            [
             0.5,
             "#f7f7f7"
            ],
            [
             0.6,
             "#e6f5d0"
            ],
            [
             0.7,
             "#b8e186"
            ],
            [
             0.8,
             "#7fbc41"
            ],
            [
             0.9,
             "#4d9221"
            ],
            [
             1,
             "#276419"
            ]
           ],
           "sequential": [
            [
             0,
             "#0d0887"
            ],
            [
             0.1111111111111111,
             "#46039f"
            ],
            [
             0.2222222222222222,
             "#7201a8"
            ],
            [
             0.3333333333333333,
             "#9c179e"
            ],
            [
             0.4444444444444444,
             "#bd3786"
            ],
            [
             0.5555555555555556,
             "#d8576b"
            ],
            [
             0.6666666666666666,
             "#ed7953"
            ],
            [
             0.7777777777777778,
             "#fb9f3a"
            ],
            [
             0.8888888888888888,
             "#fdca26"
            ],
            [
             1,
             "#f0f921"
            ]
           ],
           "sequentialminus": [
            [
             0,
             "#0d0887"
            ],
            [
             0.1111111111111111,
             "#46039f"
            ],
            [
             0.2222222222222222,
             "#7201a8"
            ],
            [
             0.3333333333333333,
             "#9c179e"
            ],
            [
             0.4444444444444444,
             "#bd3786"
            ],
            [
             0.5555555555555556,
             "#d8576b"
            ],
            [
             0.6666666666666666,
             "#ed7953"
            ],
            [
             0.7777777777777778,
             "#fb9f3a"
            ],
            [
             0.8888888888888888,
             "#fdca26"
            ],
            [
             1,
             "#f0f921"
            ]
           ]
          },
          "colorway": [
           "#636efa",
           "#EF553B",
           "#00cc96",
           "#ab63fa",
           "#FFA15A",
           "#19d3f3",
           "#FF6692",
           "#B6E880",
           "#FF97FF",
           "#FECB52"
          ],
          "font": {
           "color": "#2a3f5f"
          },
          "geo": {
           "bgcolor": "white",
           "lakecolor": "white",
           "landcolor": "#E5ECF6",
           "showlakes": true,
           "showland": true,
           "subunitcolor": "white"
          },
          "hoverlabel": {
           "align": "left"
          },
          "hovermode": "closest",
          "mapbox": {
           "style": "light"
          },
          "paper_bgcolor": "white",
          "plot_bgcolor": "#E5ECF6",
          "polar": {
           "angularaxis": {
            "gridcolor": "white",
            "linecolor": "white",
            "ticks": ""
           },
           "bgcolor": "#E5ECF6",
           "radialaxis": {
            "gridcolor": "white",
            "linecolor": "white",
            "ticks": ""
           }
          },
          "scene": {
           "xaxis": {
            "backgroundcolor": "#E5ECF6",
            "gridcolor": "white",
            "gridwidth": 2,
            "linecolor": "white",
            "showbackground": true,
            "ticks": "",
            "zerolinecolor": "white"
           },
           "yaxis": {
            "backgroundcolor": "#E5ECF6",
            "gridcolor": "white",
            "gridwidth": 2,
            "linecolor": "white",
            "showbackground": true,
            "ticks": "",
            "zerolinecolor": "white"
           },
           "zaxis": {
            "backgroundcolor": "#E5ECF6",
            "gridcolor": "white",
            "gridwidth": 2,
            "linecolor": "white",
            "showbackground": true,
            "ticks": "",
            "zerolinecolor": "white"
           }
          },
          "shapedefaults": {
           "line": {
            "color": "#2a3f5f"
           }
          },
          "ternary": {
           "aaxis": {
            "gridcolor": "white",
            "linecolor": "white",
            "ticks": ""
           },
           "baxis": {
            "gridcolor": "white",
            "linecolor": "white",
            "ticks": ""
           },
           "bgcolor": "#E5ECF6",
           "caxis": {
            "gridcolor": "white",
            "linecolor": "white",
            "ticks": ""
           }
          },
          "title": {
           "x": 0.05
          },
          "xaxis": {
           "automargin": true,
           "gridcolor": "white",
           "linecolor": "white",
           "ticks": "",
           "title": {
            "standoff": 15
           },
           "zerolinecolor": "white",
           "zerolinewidth": 2
          },
          "yaxis": {
           "automargin": true,
           "gridcolor": "white",
           "linecolor": "white",
           "ticks": "",
           "title": {
            "standoff": 15
           },
           "zerolinecolor": "white",
           "zerolinewidth": 2
          }
         }
        }
       }
      },
      "text/html": [
       "<div>                            <div id=\"09a17112-7589-416a-93dd-b4b2d3aac529\" class=\"plotly-graph-div\" style=\"height:525px; width:100%;\"></div>            <script type=\"text/javascript\">                require([\"plotly\"], function(Plotly) {                    window.PLOTLYENV=window.PLOTLYENV || {};                                    if (document.getElementById(\"09a17112-7589-416a-93dd-b4b2d3aac529\")) {                    Plotly.newPlot(                        \"09a17112-7589-416a-93dd-b4b2d3aac529\",                        [{\"marker\":{\"color\":\"black\",\"size\":6},\"mode\":\"markers\",\"x\":[2.8378743104742665,-5.737142262364522,7.568115948110449,-2.8835176715598823,-5.168334127104503,1.8634255592084212,1.5354823603196506,2.465408076010995,-9.46955439980638,-1.9686667063141172,-2.3675577773052505,-6.629978132571195,0.20976221817413432,-1.2993854095592559,5.145116031902534,-1.134955539768062,-4.864950555244373,-4.46194440117746,8.612989113986286,-3.1360580507886944,2.4700715901770662,12.128438171937812,-12.184653752511345,4.451815563758915,9.717480451202595,3.936161422401949,-9.966224775496194,2.7407205719077146,-11.992314774425868,-3.429074983596694,0.40638151164593683,0.5245589457310533,7.888347243892351,-7.255304478902495,-3.3506941405830695,-0.6334501053918298,4.7483803579051616,0.18892697742081932,-13.966292045587602,-12.341385614817424,12.935142389750402,2.9369732423170603,-7.354361339527347,-12.128127016497038,2.829707622550064,5.233488590724201,-13.117681224489317,-2.5328302357019297,-6.617673177077176,6.21867507017428,-2.8457962240666834,8.101941958775244,-12.76289912954502,2.2901048107404955,16.04555551092151,9.926785176948599,7.113906343644874,-7.178207510364853,-14.5336688348642,5.15001139134138,1.7648027919278464,-5.4453887590035706,8.384118046155455,12.53122669413208,10.848484454108231,9.500518039514098,-7.446542860804456,4.4633669243393355,-12.017893730614384,-4.371463418385009,11.695080239808597,12.501075694333707,-5.059381924885555,12.314033228419456,-4.280439408455381,3.9076843532643775,-6.403296973050827,-9.264896414811451,-1.1225157749175185,-14.944071442313394,14.375319732790862,9.986039373133615,-5.741137137646834,11.30164472093071,10.017702710735488,-1.9780454213277103,-5.74213903456579,7.652166149499605,-4.0041056510865936,-3.7915364021739593,-5.836604292300235,9.700987132906851,-7.617381457977677,-1.336290777615348,7.903730553910553,-4.182985424209963,11.346086145037635,11.502190230683146,1.3835844860854793,5.247979099589714],\"y\":[4.729790517457111,-9.561903770607536,12.613526580184082,-4.805862785933137,-8.613890211840838,3.10570926534737,2.559137267199419,4.109013460018325,-15.782590666343967,-3.281111177190194,-3.945929628842084,-11.049963554285327,0.34960369695689053,-2.1656423492654264,8.575193386504223,-1.891592566280102,-8.108250925407287,-7.436574001962432,14.354981856643809,-5.226763417981157,4.116785983628444,20.214063619896358,-20.307756254185577,7.419692606264858,16.195800752004324,6.560269037336581,-16.610374625826992,4.567867619846191,-19.987191290709777,-5.7151249726611555,0.6773025194098947,0.8742649095517567,13.147245406487254,-12.092174131504159,-5.584490234305115,-1.0557501756530496,7.91396726317527,0.31487829570136583,-23.277153409312668,-20.568976024695708,21.558570649584006,4.894955403861768,-12.257268899212246,-20.213545027495062,4.716179370916773,8.722480984540333,-21.862802040815524,-4.221383726169883,-11.029455295128628,10.364458450290467,-4.7429937067778045,13.503236597958741,-21.2714985492417,3.8168413512341592,26.742592518202514,16.544641961580993,11.856510572741456,-11.963679183941425,-24.222781391440336,8.5833523189023,2.9413379865464107,-9.075647931672616,13.97353007692576,20.885377823553462,18.080807423513722,15.834196732523498,-12.410904768007427,7.438944873898891,-20.02982288435731,-7.285772363975013,19.49180039968099,20.835126157222845,-8.43230320814259,20.523388714032425,-7.134065680758967,6.512807255440628,-10.672161621751377,-15.44149402468575,-1.8708596248625309,-24.90678573718899,23.958866221318104,16.643398955222686,-9.568561896078055,18.836074534884517,16.696171184559148,-3.296742368879517,-9.570231724276313,12.753610249166007,-6.673509418477656,-6.319227336956599,-9.727673820500392,16.16831188817808,-12.69563576329613,-2.22715129602558,13.172884256517591,-6.971642373683271,18.910143575062722,19.170317051138575,2.305974143475799,8.746631832649523],\"z\":[0.9459581034914222,-1.9123807541215072,2.5227053160368165,-0.9611725571866274,-1.7227780423681676,0.6211418530694739,0.5118274534398837,0.821802692003665,-3.1565181332687935,-0.6562222354380389,-0.7891859257684168,-2.2099927108570654,0.0699207393913781,-0.4331284698530853,1.7150386773008446,-0.3783185132560205,-1.6216501850814575,-1.4873148003924865,2.870996371328762,-1.0453526835962315,0.8233571967256887,4.042812723979271,-4.061551250837115,1.4839385212529717,3.239160150400865,1.3120538074673163,-3.3220749251653983,0.9135735239692382,-3.9974382581419556,-1.1430249945322313,0.13546050388197894,0.17485298191035126,2.6294490812974507,-2.4184348263008317,-1.116898046861023,-0.21115003513060993,1.582793452635054,0.06297565914027325,-4.6554306818625335,-4.113795204939141,4.311714129916801,0.9789910807723534,-2.451453779842449,-4.042709005499013,0.9432358741833546,1.7444961969080666,-4.372560408163105,-0.8442767452339766,-2.2058910590257255,2.072891690058093,-0.948598741355561,2.700647319591748,-4.25429970984834,0.7633682702468318,5.348518503640503,3.308928392316199,2.3713021145482913,-2.3927358367882845,-4.844556278288067,1.71667046378046,0.5882675973092821,-1.8151295863345234,2.794706015385152,4.177075564710693,3.616161484702744,3.1668393465046996,-2.4821809536014854,1.4877889747797783,-4.005964576871461,-1.4571544727950028,3.8983600799361984,4.167025231444569,-1.6864606416285182,4.104677742806485,-1.4268131361517935,1.3025614510881258,-2.1344323243502754,-3.0882988049371503,-0.3741719249725062,-4.981357147437798,4.79177324426362,3.3286797910445376,-1.9137123792156112,3.767214906976904,3.339234236911829,-0.6593484737759034,-1.914046344855263,2.5507220498332015,-1.3347018836955313,-1.2638454673913198,-1.9455347641000782,3.233662377635617,-2.539127152659226,-0.44543025920511603,2.634576851303518,-1.3943284747366542,3.7820287150125447,3.8340634102277154,0.46119482869515993,1.7493263665299046],\"type\":\"scatter3d\"}],                        {\"template\":{\"data\":{\"histogram2dcontour\":[{\"type\":\"histogram2dcontour\",\"colorbar\":{\"outlinewidth\":0,\"ticks\":\"\"},\"colorscale\":[[0.0,\"#0d0887\"],[0.1111111111111111,\"#46039f\"],[0.2222222222222222,\"#7201a8\"],[0.3333333333333333,\"#9c179e\"],[0.4444444444444444,\"#bd3786\"],[0.5555555555555556,\"#d8576b\"],[0.6666666666666666,\"#ed7953\"],[0.7777777777777778,\"#fb9f3a\"],[0.8888888888888888,\"#fdca26\"],[1.0,\"#f0f921\"]]}],\"choropleth\":[{\"type\":\"choropleth\",\"colorbar\":{\"outlinewidth\":0,\"ticks\":\"\"}}],\"histogram2d\":[{\"type\":\"histogram2d\",\"colorbar\":{\"outlinewidth\":0,\"ticks\":\"\"},\"colorscale\":[[0.0,\"#0d0887\"],[0.1111111111111111,\"#46039f\"],[0.2222222222222222,\"#7201a8\"],[0.3333333333333333,\"#9c179e\"],[0.4444444444444444,\"#bd3786\"],[0.5555555555555556,\"#d8576b\"],[0.6666666666666666,\"#ed7953\"],[0.7777777777777778,\"#fb9f3a\"],[0.8888888888888888,\"#fdca26\"],[1.0,\"#f0f921\"]]}],\"heatmap\":[{\"type\":\"heatmap\",\"colorbar\":{\"outlinewidth\":0,\"ticks\":\"\"},\"colorscale\":[[0.0,\"#0d0887\"],[0.1111111111111111,\"#46039f\"],[0.2222222222222222,\"#7201a8\"],[0.3333333333333333,\"#9c179e\"],[0.4444444444444444,\"#bd3786\"],[0.5555555555555556,\"#d8576b\"],[0.6666666666666666,\"#ed7953\"],[0.7777777777777778,\"#fb9f3a\"],[0.8888888888888888,\"#fdca26\"],[1.0,\"#f0f921\"]]}],\"heatmapgl\":[{\"type\":\"heatmapgl\",\"colorbar\":{\"outlinewidth\":0,\"ticks\":\"\"},\"colorscale\":[[0.0,\"#0d0887\"],[0.1111111111111111,\"#46039f\"],[0.2222222222222222,\"#7201a8\"],[0.3333333333333333,\"#9c179e\"],[0.4444444444444444,\"#bd3786\"],[0.5555555555555556,\"#d8576b\"],[0.6666666666666666,\"#ed7953\"],[0.7777777777777778,\"#fb9f3a\"],[0.8888888888888888,\"#fdca26\"],[1.0,\"#f0f921\"]]}],\"contourcarpet\":[{\"type\":\"contourcarpet\",\"colorbar\":{\"outlinewidth\":0,\"ticks\":\"\"}}],\"contour\":[{\"type\":\"contour\",\"colorbar\":{\"outlinewidth\":0,\"ticks\":\"\"},\"colorscale\":[[0.0,\"#0d0887\"],[0.1111111111111111,\"#46039f\"],[0.2222222222222222,\"#7201a8\"],[0.3333333333333333,\"#9c179e\"],[0.4444444444444444,\"#bd3786\"],[0.5555555555555556,\"#d8576b\"],[0.6666666666666666,\"#ed7953\"],[0.7777777777777778,\"#fb9f3a\"],[0.8888888888888888,\"#fdca26\"],[1.0,\"#f0f921\"]]}],\"surface\":[{\"type\":\"surface\",\"colorbar\":{\"outlinewidth\":0,\"ticks\":\"\"},\"colorscale\":[[0.0,\"#0d0887\"],[0.1111111111111111,\"#46039f\"],[0.2222222222222222,\"#7201a8\"],[0.3333333333333333,\"#9c179e\"],[0.4444444444444444,\"#bd3786\"],[0.5555555555555556,\"#d8576b\"],[0.6666666666666666,\"#ed7953\"],[0.7777777777777778,\"#fb9f3a\"],[0.8888888888888888,\"#fdca26\"],[1.0,\"#f0f921\"]]}],\"mesh3d\":[{\"type\":\"mesh3d\",\"colorbar\":{\"outlinewidth\":0,\"ticks\":\"\"}}],\"scatter\":[{\"fillpattern\":{\"fillmode\":\"overlay\",\"size\":10,\"solidity\":0.2},\"type\":\"scatter\"}],\"parcoords\":[{\"type\":\"parcoords\",\"line\":{\"colorbar\":{\"outlinewidth\":0,\"ticks\":\"\"}}}],\"scatterpolargl\":[{\"type\":\"scatterpolargl\",\"marker\":{\"colorbar\":{\"outlinewidth\":0,\"ticks\":\"\"}}}],\"bar\":[{\"error_x\":{\"color\":\"#2a3f5f\"},\"error_y\":{\"color\":\"#2a3f5f\"},\"marker\":{\"line\":{\"color\":\"#E5ECF6\",\"width\":0.5},\"pattern\":{\"fillmode\":\"overlay\",\"size\":10,\"solidity\":0.2}},\"type\":\"bar\"}],\"scattergeo\":[{\"type\":\"scattergeo\",\"marker\":{\"colorbar\":{\"outlinewidth\":0,\"ticks\":\"\"}}}],\"scatterpolar\":[{\"type\":\"scatterpolar\",\"marker\":{\"colorbar\":{\"outlinewidth\":0,\"ticks\":\"\"}}}],\"histogram\":[{\"marker\":{\"pattern\":{\"fillmode\":\"overlay\",\"size\":10,\"solidity\":0.2}},\"type\":\"histogram\"}],\"scattergl\":[{\"type\":\"scattergl\",\"marker\":{\"colorbar\":{\"outlinewidth\":0,\"ticks\":\"\"}}}],\"scatter3d\":[{\"type\":\"scatter3d\",\"line\":{\"colorbar\":{\"outlinewidth\":0,\"ticks\":\"\"}},\"marker\":{\"colorbar\":{\"outlinewidth\":0,\"ticks\":\"\"}}}],\"scattermapbox\":[{\"type\":\"scattermapbox\",\"marker\":{\"colorbar\":{\"outlinewidth\":0,\"ticks\":\"\"}}}],\"scatterternary\":[{\"type\":\"scatterternary\",\"marker\":{\"colorbar\":{\"outlinewidth\":0,\"ticks\":\"\"}}}],\"scattercarpet\":[{\"type\":\"scattercarpet\",\"marker\":{\"colorbar\":{\"outlinewidth\":0,\"ticks\":\"\"}}}],\"carpet\":[{\"aaxis\":{\"endlinecolor\":\"#2a3f5f\",\"gridcolor\":\"white\",\"linecolor\":\"white\",\"minorgridcolor\":\"white\",\"startlinecolor\":\"#2a3f5f\"},\"baxis\":{\"endlinecolor\":\"#2a3f5f\",\"gridcolor\":\"white\",\"linecolor\":\"white\",\"minorgridcolor\":\"white\",\"startlinecolor\":\"#2a3f5f\"},\"type\":\"carpet\"}],\"table\":[{\"cells\":{\"fill\":{\"color\":\"#EBF0F8\"},\"line\":{\"color\":\"white\"}},\"header\":{\"fill\":{\"color\":\"#C8D4E3\"},\"line\":{\"color\":\"white\"}},\"type\":\"table\"}],\"barpolar\":[{\"marker\":{\"line\":{\"color\":\"#E5ECF6\",\"width\":0.5},\"pattern\":{\"fillmode\":\"overlay\",\"size\":10,\"solidity\":0.2}},\"type\":\"barpolar\"}],\"pie\":[{\"automargin\":true,\"type\":\"pie\"}]},\"layout\":{\"autotypenumbers\":\"strict\",\"colorway\":[\"#636efa\",\"#EF553B\",\"#00cc96\",\"#ab63fa\",\"#FFA15A\",\"#19d3f3\",\"#FF6692\",\"#B6E880\",\"#FF97FF\",\"#FECB52\"],\"font\":{\"color\":\"#2a3f5f\"},\"hovermode\":\"closest\",\"hoverlabel\":{\"align\":\"left\"},\"paper_bgcolor\":\"white\",\"plot_bgcolor\":\"#E5ECF6\",\"polar\":{\"bgcolor\":\"#E5ECF6\",\"angularaxis\":{\"gridcolor\":\"white\",\"linecolor\":\"white\",\"ticks\":\"\"},\"radialaxis\":{\"gridcolor\":\"white\",\"linecolor\":\"white\",\"ticks\":\"\"}},\"ternary\":{\"bgcolor\":\"#E5ECF6\",\"aaxis\":{\"gridcolor\":\"white\",\"linecolor\":\"white\",\"ticks\":\"\"},\"baxis\":{\"gridcolor\":\"white\",\"linecolor\":\"white\",\"ticks\":\"\"},\"caxis\":{\"gridcolor\":\"white\",\"linecolor\":\"white\",\"ticks\":\"\"}},\"coloraxis\":{\"colorbar\":{\"outlinewidth\":0,\"ticks\":\"\"}},\"colorscale\":{\"sequential\":[[0.0,\"#0d0887\"],[0.1111111111111111,\"#46039f\"],[0.2222222222222222,\"#7201a8\"],[0.3333333333333333,\"#9c179e\"],[0.4444444444444444,\"#bd3786\"],[0.5555555555555556,\"#d8576b\"],[0.6666666666666666,\"#ed7953\"],[0.7777777777777778,\"#fb9f3a\"],[0.8888888888888888,\"#fdca26\"],[1.0,\"#f0f921\"]],\"sequentialminus\":[[0.0,\"#0d0887\"],[0.1111111111111111,\"#46039f\"],[0.2222222222222222,\"#7201a8\"],[0.3333333333333333,\"#9c179e\"],[0.4444444444444444,\"#bd3786\"],[0.5555555555555556,\"#d8576b\"],[0.6666666666666666,\"#ed7953\"],[0.7777777777777778,\"#fb9f3a\"],[0.8888888888888888,\"#fdca26\"],[1.0,\"#f0f921\"]],\"diverging\":[[0,\"#8e0152\"],[0.1,\"#c51b7d\"],[0.2,\"#de77ae\"],[0.3,\"#f1b6da\"],[0.4,\"#fde0ef\"],[0.5,\"#f7f7f7\"],[0.6,\"#e6f5d0\"],[0.7,\"#b8e186\"],[0.8,\"#7fbc41\"],[0.9,\"#4d9221\"],[1,\"#276419\"]]},\"xaxis\":{\"gridcolor\":\"white\",\"linecolor\":\"white\",\"ticks\":\"\",\"title\":{\"standoff\":15},\"zerolinecolor\":\"white\",\"automargin\":true,\"zerolinewidth\":2},\"yaxis\":{\"gridcolor\":\"white\",\"linecolor\":\"white\",\"ticks\":\"\",\"title\":{\"standoff\":15},\"zerolinecolor\":\"white\",\"automargin\":true,\"zerolinewidth\":2},\"scene\":{\"xaxis\":{\"backgroundcolor\":\"#E5ECF6\",\"gridcolor\":\"white\",\"linecolor\":\"white\",\"showbackground\":true,\"ticks\":\"\",\"zerolinecolor\":\"white\",\"gridwidth\":2},\"yaxis\":{\"backgroundcolor\":\"#E5ECF6\",\"gridcolor\":\"white\",\"linecolor\":\"white\",\"showbackground\":true,\"ticks\":\"\",\"zerolinecolor\":\"white\",\"gridwidth\":2},\"zaxis\":{\"backgroundcolor\":\"#E5ECF6\",\"gridcolor\":\"white\",\"linecolor\":\"white\",\"showbackground\":true,\"ticks\":\"\",\"zerolinecolor\":\"white\",\"gridwidth\":2}},\"shapedefaults\":{\"line\":{\"color\":\"#2a3f5f\"}},\"annotationdefaults\":{\"arrowcolor\":\"#2a3f5f\",\"arrowhead\":0,\"arrowwidth\":1},\"geo\":{\"bgcolor\":\"white\",\"landcolor\":\"#E5ECF6\",\"subunitcolor\":\"white\",\"showland\":true,\"showlakes\":true,\"lakecolor\":\"white\"},\"title\":{\"x\":0.05},\"mapbox\":{\"style\":\"light\"}}},\"margin\":{\"l\":0,\"r\":0,\"b\":0,\"t\":0}},                        {\"responsive\": true}                    ).then(function(){\n",
       "                            \n",
       "var gd = document.getElementById('09a17112-7589-416a-93dd-b4b2d3aac529');\n",
       "var x = new MutationObserver(function (mutations, observer) {{\n",
       "        var display = window.getComputedStyle(gd).display;\n",
       "        if (!display || display === 'none') {{\n",
       "            console.log([gd, 'removed!']);\n",
       "            Plotly.purge(gd);\n",
       "            observer.disconnect();\n",
       "        }}\n",
       "}});\n",
       "\n",
       "// Listen for the removal of the full notebook cells\n",
       "var notebookContainer = gd.closest('#notebook-container');\n",
       "if (notebookContainer) {{\n",
       "    x.observe(notebookContainer, {childList: true});\n",
       "}}\n",
       "\n",
       "// Listen for the clearing of the current output cell\n",
       "var outputEl = gd.closest('.output');\n",
       "if (outputEl) {{\n",
       "    x.observe(outputEl, {childList: true});\n",
       "}}\n",
       "\n",
       "                        })                };                });            </script>        </div>"
      ]
     },
     "metadata": {},
     "output_type": "display_data"
    }
   ],
   "source": [
    "import plotly.graph_objects as go\n",
    "\n",
    "# two vectors in R3\n",
    "v1 = np.array([ 3,5,1 ])\n",
    "v2 = np.array([ 0,2,2 ])\n",
    "\n",
    "## uncomment the lines below for the second part\n",
    "v1 = np.array([ 3.0,5.0,1.0 ])\n",
    "v2 = np.array([ 1.5,2.5,0.5 ])\n",
    "\n",
    "\n",
    "# random scalars in the x-axis range\n",
    "scalars = np.random.uniform(low=xlim[0],high=xlim[1],size=(100,2))\n",
    "\n",
    "\n",
    "\n",
    "# create random points\n",
    "points = np.zeros((100,3))\n",
    "for i in range(len(scalars)):\n",
    "\n",
    "  # define this point as a random weighted combination of the two vectors\n",
    "  points[i,:] = v1*scalars[i,0] + v2*scalars[i,1]\n",
    "\n",
    "print(np.shape(points))\n",
    "\n",
    "# draw the dots in the plane\n",
    "fig = go.Figure( data=[go.Scatter3d(x=points[:,0], y=points[:,1], z=points[:,2], \n",
    "                                    mode='markers', marker=dict(size=6,color='black') )])\n",
    "\n",
    "fig.update_layout(margin=dict(l=0,r=0,b=0,t=0))\n",
    "fig.show()"
   ]
  },
  {
   "cell_type": "code",
   "execution_count": null,
   "metadata": {
    "id": "HEiCXk6gYJRD"
   },
   "outputs": [],
   "source": []
  }
 ],
 "metadata": {
  "colab": {
   "authorship_tag": "ABX9TyNp75EgKJZFJ+MNi5oG062k",
   "collapsed_sections": [],
   "name": "LA4DS_ch03.ipynb",
   "provenance": []
  },
  "kernelspec": {
   "display_name": "Python 3 (ipykernel)",
   "language": "python",
   "name": "python3"
  },
  "language_info": {
   "codemirror_mode": {
    "name": "ipython",
    "version": 3
   },
   "file_extension": ".py",
   "mimetype": "text/x-python",
   "name": "python",
   "nbconvert_exporter": "python",
   "pygments_lexer": "ipython3",
   "version": "3.9.13"
  }
 },
 "nbformat": 4,
 "nbformat_minor": 1
}
